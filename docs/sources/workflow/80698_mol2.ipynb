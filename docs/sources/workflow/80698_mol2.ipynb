{
 "cells": [
  {
   "cell_type": "markdown",
   "metadata": {},
   "source": [
    "# Data storage and project layout"
   ]
  },
  {
   "cell_type": "markdown",
   "metadata": {},
   "source": [
    "- The initial dataset should be stored as `mol2` or `mol2.gz` files in a directory. For example:"
   ]
  },
  {
   "cell_type": "code",
   "execution_count": 8,
   "metadata": {},
   "outputs": [
    {
     "name": "stdout",
     "output_type": "stream",
     "text": [
      "total 2343768\r\n",
      "-rw-r--r--  1 sebastian  staff   572M May  6 21:20 1.mol2\r\n",
      "-rw-r--r--  1 sebastian  staff   572M May  6 21:22 2.mol2\r\n"
     ]
    }
   ],
   "source": [
    "!ls -lh 80698/mol2/"
   ]
  },
  {
   "cell_type": "markdown",
   "metadata": {},
   "source": [
    "- for a new project, it's best to create a new directory, for instance, we create a new subdirectory in 80698:"
   ]
  },
  {
   "cell_type": "code",
   "execution_count": 2,
   "metadata": {
    "collapsed": true
   },
   "outputs": [],
   "source": [
    "!mkdir 80698/proj-1/"
   ]
  },
  {
   "cell_type": "markdown",
   "metadata": {},
   "source": [
    "Using the `count_mol2.py` script, we can count the number of structures in each mol2 file in the input directory:"
   ]
  },
  {
   "cell_type": "code",
   "execution_count": 9,
   "metadata": {},
   "outputs": [
    {
     "name": "stdout",
     "output_type": "stream",
     "text": [
      "1.mol2 : 135966\n",
      "2.mol2 : 136144\n",
      "Total : 272110\n"
     ]
    }
   ],
   "source": [
    "!python ../../../tools/count_mol2.py -i 80698/mol2"
   ]
  },
  {
   "cell_type": "markdown",
   "metadata": {
    "collapsed": true
   },
   "source": [
    "Optionally, you may have files with data about the molecules, for instance:"
   ]
  },
  {
   "cell_type": "code",
   "execution_count": null,
   "metadata": {
    "collapsed": true
   },
   "outputs": [],
   "source": [
    "!ls -lh 80698/csv/"
   ]
  },
  {
   "cell_type": "markdown",
   "metadata": {},
   "source": [
    "# General Blacklist & Whitelist filtering"
   ]
  },
  {
   "cell_type": "markdown",
   "metadata": {},
   "source": [
    "- `mol2_to_id.py` generates a list of molecule IDs from MOL2 files\n",
    "- `id_to_mol2.py` filters mol2 files by IDs and creates new mol2 files. Via whitelisting, molecules that match those IDs are written. Via blacklisting, all molecules but the molecules that are in the list are written"
   ]
  },
  {
   "cell_type": "code",
   "execution_count": 11,
   "metadata": {},
   "outputs": [
    {
     "name": "stdout",
     "output_type": "stream",
     "text": [
      "Processing 80698/mol2/1.mol2\n",
      "Processing 80698/mol2/2.mol2\n",
      "Finished\n"
     ]
    }
   ],
   "source": [
    "!python ../../../tools/mol2_to_id.py -i 80698/mol2 -o 80698/proj-1/all-mol2ids.txt"
   ]
  },
  {
   "cell_type": "code",
   "execution_count": 12,
   "metadata": {},
   "outputs": [
    {
     "name": "stdout",
     "output_type": "stream",
     "text": [
      "ZINC57271411\r\n",
      "ZINC50764925\r\n",
      "ZINC65255333\r\n",
      "ZINC06394508\r\n",
      "ZINC65292537\r\n",
      "ZINC65375610\r\n",
      "ZINC31820077\r\n",
      "ZINC65395084\r\n",
      "ZINC00205726\r\n",
      "ZINC01458151\r\n"
     ]
    }
   ],
   "source": [
    "!head 80698/proj-1/all-mol2ids.txt"
   ]
  },
  {
   "cell_type": "markdown",
   "metadata": {},
   "source": [
    "- Say we are interested in a subset of molecules only. Consider this example: 1st we create a list of IDs:"
   ]
  },
  {
   "cell_type": "code",
   "execution_count": 7,
   "metadata": {},
   "outputs": [
    {
     "name": "stdout",
     "output_type": "stream",
     "text": [
      "Overwriting ./80698/proj-1/selected-example-mol2ids.txt\n"
     ]
    }
   ],
   "source": [
    "%%writefile ./80698/proj-1/selected-example-mol2ids.txt\n",
    "ZINC57271411\n",
    "ZINC06394508\n",
    "ZINC65292537\n",
    "ZINC31820077\n",
    "ZINC01458151"
   ]
  },
  {
   "cell_type": "markdown",
   "metadata": {},
   "source": [
    "### Whitelisting"
   ]
  },
  {
   "cell_type": "code",
   "execution_count": 23,
   "metadata": {},
   "outputs": [
    {
     "name": "stdout",
     "output_type": "stream",
     "text": [
      "Processing 80698/mol2/1.mol2\n",
      "Processing 80698/mol2/2.mol2\n",
      "Finished\n"
     ]
    }
   ],
   "source": [
    "!python ../../../tools/id_to_mol2.py \\\n",
    "--input 80698/mol2 \\\n",
    "--output 80698/proj-1/selected-example-mol2ids \\\n",
    "--id_file ./80698/proj-1/selected-example-mol2ids.txt \\\n",
    "--whitelist True"
   ]
  },
  {
   "cell_type": "markdown",
   "metadata": {},
   "source": [
    "Now, the output directory, `80698/proj-1/selected-example-mol2ids`, should contain only mol2 files with the selected IDs:"
   ]
  },
  {
   "cell_type": "code",
   "execution_count": 24,
   "metadata": {},
   "outputs": [
    {
     "name": "stdout",
     "output_type": "stream",
     "text": [
      "1.mol2 2.mol2\r\n"
     ]
    }
   ],
   "source": [
    "!ls 80698/proj-1/selected-example-mol2ids"
   ]
  },
  {
   "cell_type": "code",
   "execution_count": 25,
   "metadata": {},
   "outputs": [
    {
     "name": "stdout",
     "output_type": "stream",
     "text": [
      "ZINC57271411\r\n",
      "ZINC06394508\r\n",
      "ZINC65292537\r\n",
      "ZINC31820077\r\n",
      "ZINC01458151\r\n"
     ]
    }
   ],
   "source": [
    "!grep 'ZINC' 80698/proj-1/selected-example-mol2ids/1.mol2"
   ]
  },
  {
   "cell_type": "code",
   "execution_count": 28,
   "metadata": {},
   "outputs": [
    {
     "name": "stdout",
     "output_type": "stream",
     "text": [
      "@<TRIPOS>MOLECULE\r\n",
      "ZINC57271411\r\n",
      "   50    52     0     0     0\r\n",
      "--\r\n",
      "--\r\n",
      "@<TRIPOS>MOLECULE\r\n",
      "ZINC06394508\r\n",
      "   49    52     0     0     0\r\n",
      "--\r\n",
      "--\r\n",
      "@<TRIPOS>MOLECULE\r\n",
      "ZINC65292537\r\n",
      "   47    50     0     0     0\r\n",
      "--\r\n",
      "--\r\n",
      "@<TRIPOS>MOLECULE\r\n",
      "ZINC31820077\r\n",
      "   48    50     0     0     0\r\n",
      "--\r\n",
      "--\r\n",
      "@<TRIPOS>MOLECULE\r\n",
      "ZINC01458151\r\n",
      "   25    25     0     0     0\r\n"
     ]
    }
   ],
   "source": [
    "!grep -C 1 'ZINC' 80698/proj-1/selected-example-mol2ids/1.mol2 "
   ]
  },
  {
   "cell_type": "markdown",
   "metadata": {},
   "source": [
    "### Blacklisting"
   ]
  },
  {
   "cell_type": "markdown",
   "metadata": {},
   "source": [
    "Similar to the previous approach, using a whitelist filter, we can do blacklist filtering, which means that all molecules are selected but the ones contained in the ID files. Set whitelist to False."
   ]
  },
  {
   "cell_type": "code",
   "execution_count": 46,
   "metadata": {},
   "outputs": [
    {
     "name": "stdout",
     "output_type": "stream",
     "text": [
      "Processing 80698/mol2/1.mol2\n",
      "Processing 80698/mol2/2.mol2\n",
      "Finished\n"
     ]
    }
   ],
   "source": [
    "!python ../../../tools/id_to_mol2.py \\\n",
    "--input 80698/mol2 \\\n",
    "--output 80698/proj-1/nonselected-example-mol2ids \\\n",
    "--id_file ./80698/proj-1/selected-example-mol2ids.txt \\\n",
    "--whitelist false"
   ]
  },
  {
   "cell_type": "code",
   "execution_count": 47,
   "metadata": {},
   "outputs": [
    {
     "name": "stdout",
     "output_type": "stream",
     "text": [
      "1.mol2 : 135961\n",
      "2.mol2 : 136144\n",
      "Total : 272105\n"
     ]
    }
   ],
   "source": [
    "!python ../../../tools/count_mol2.py -i 80698/proj-1/nonselected-example-mol2ids/"
   ]
  },
  {
   "cell_type": "markdown",
   "metadata": {},
   "source": [
    "# First Filtering Step -- Filtering via Features from Data Tables"
   ]
  },
  {
   "cell_type": "markdown",
   "metadata": {},
   "source": [
    "- `id_from_table.py` -- this tools selects molecules IDs by user-specified filtering criteria based on the features stored in the columns of a data table\n",
    "- the generic `mol2_from_id.py` script can then be used to create new mol2 files that either contain or don't contain molecules with certain IDs."
   ]
  }
 ],
 "metadata": {
  "kernelspec": {
   "display_name": "Python 3",
   "language": "python",
   "name": "python3"
  },
  "language_info": {
   "codemirror_mode": {
    "name": "ipython",
    "version": 3
   },
   "file_extension": ".py",
   "mimetype": "text/x-python",
   "name": "python",
   "nbconvert_exporter": "python",
   "pygments_lexer": "ipython3",
   "version": "3.6.0"
  }
 },
 "nbformat": 4,
 "nbformat_minor": 2
}
