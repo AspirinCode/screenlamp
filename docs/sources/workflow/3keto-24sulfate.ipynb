{
 "cells": [
  {
   "cell_type": "markdown",
   "metadata": {},
   "source": [
    "# Data storage and project layout"
   ]
  },
  {
   "cell_type": "markdown",
   "metadata": {},
   "source": [
    "- The initial dataset should be stored as `mol2` or `mol2.gz` files in a directory. For example:"
   ]
  },
  {
   "cell_type": "code",
   "execution_count": 8,
   "metadata": {},
   "outputs": [
    {
     "name": "stdout",
     "output_type": "stream",
     "text": [
      "total 2343768\r\n",
      "-rw-r--r--  1 sebastian  staff   572M May  6 21:20 1.mol2\r\n",
      "-rw-r--r--  1 sebastian  staff   572M May  6 21:22 2.mol2\r\n"
     ]
    }
   ],
   "source": [
    "!ls -lh ."
   ]
  },
  {
   "cell_type": "markdown",
   "metadata": {},
   "source": [
    "- for a new project, it's best to create a new directory, for instance, we create a new subdirectory in 80698:"
   ]
  },
  {
   "cell_type": "code",
   "execution_count": 2,
   "metadata": {
    "collapsed": true
   },
   "outputs": [],
   "source": [
    "!mkdir 80698/proj-1/"
   ]
  },
  {
   "cell_type": "markdown",
   "metadata": {},
   "source": [
    "Using the `count_mol2.py` script, we can count the number of structures in each mol2 file in the input directory:"
   ]
  },
  {
   "cell_type": "code",
   "execution_count": 9,
   "metadata": {},
   "outputs": [
    {
     "name": "stdout",
     "output_type": "stream",
     "text": [
      "1.mol2 : 135966\n",
      "2.mol2 : 136144\n",
      "Total : 272110\n"
     ]
    }
   ],
   "source": [
    "!python ../../../tools/count_mol2.py -i 80698/mol2"
   ]
  },
  {
   "cell_type": "markdown",
   "metadata": {
    "collapsed": true
   },
   "source": [
    "Optionally, you may have files with data about the molecules, for instance:"
   ]
  },
  {
   "cell_type": "code",
   "execution_count": null,
   "metadata": {
    "collapsed": true
   },
   "outputs": [],
   "source": [
    "!ls -lh 80698/csv/"
   ]
  },
  {
   "cell_type": "markdown",
   "metadata": {},
   "source": [
    "# General Blacklist & Whitelist filtering"
   ]
  },
  {
   "cell_type": "markdown",
   "metadata": {},
   "source": [
    "- `mol2_to_id.py` generates a list of molecule IDs from MOL2 files\n",
    "- `id_to_mol2.py` filters mol2 files by IDs and creates new mol2 files. Via whitelisting, molecules that match those IDs are written. Via blacklisting, all molecules but the molecules that are in the list are written"
   ]
  },
  {
   "cell_type": "code",
   "execution_count": 11,
   "metadata": {},
   "outputs": [
    {
     "name": "stdout",
     "output_type": "stream",
     "text": [
      "Processing 80698/mol2/1.mol2\n",
      "Processing 80698/mol2/2.mol2\n",
      "Finished\n"
     ]
    }
   ],
   "source": [
    "!python ../../../tools/mol2_to_id.py -i 80698/mol2 -o 80698/proj-1/all-mol2ids.txt"
   ]
  },
  {
   "cell_type": "code",
   "execution_count": 12,
   "metadata": {},
   "outputs": [
    {
     "name": "stdout",
     "output_type": "stream",
     "text": [
      "ZINC57271411\r\n",
      "ZINC50764925\r\n",
      "ZINC65255333\r\n",
      "ZINC06394508\r\n",
      "ZINC65292537\r\n",
      "ZINC65375610\r\n",
      "ZINC31820077\r\n",
      "ZINC65395084\r\n",
      "ZINC00205726\r\n",
      "ZINC01458151\r\n"
     ]
    }
   ],
   "source": [
    "!head 80698/proj-1/all-mol2ids.txt"
   ]
  },
  {
   "cell_type": "markdown",
   "metadata": {},
   "source": [
    "- Say we are interested in a subset of molecules only. Consider this example: 1st we create a list of IDs:"
   ]
  },
  {
   "cell_type": "code",
   "execution_count": 7,
   "metadata": {},
   "outputs": [
    {
     "name": "stdout",
     "output_type": "stream",
     "text": [
      "Overwriting ./80698/proj-1/selected-example-mol2ids.txt\n"
     ]
    }
   ],
   "source": [
    "%%writefile ./80698/proj-1/selected-example-mol2ids.txt\n",
    "ZINC57271411\n",
    "ZINC06394508\n",
    "ZINC65292537\n",
    "ZINC31820077\n",
    "ZINC01458151"
   ]
  },
  {
   "cell_type": "markdown",
   "metadata": {},
   "source": [
    "### Whitelisting"
   ]
  },
  {
   "cell_type": "code",
   "execution_count": 23,
   "metadata": {},
   "outputs": [
    {
     "name": "stdout",
     "output_type": "stream",
     "text": [
      "Processing 80698/mol2/1.mol2\n",
      "Processing 80698/mol2/2.mol2\n",
      "Finished\n"
     ]
    }
   ],
   "source": [
    "!python ../../../tools/id_to_mol2.py \\\n",
    "--input 80698/mol2 \\\n",
    "--output 80698/proj-1/selected-example-mol2ids \\\n",
    "--id_file ./80698/proj-1/selected-example-mol2ids.txt \\\n",
    "--whitelist True"
   ]
  },
  {
   "cell_type": "markdown",
   "metadata": {},
   "source": [
    "Now, the output directory, `80698/proj-1/selected-example-mol2ids`, should contain only mol2 files with the selected IDs:"
   ]
  },
  {
   "cell_type": "code",
   "execution_count": 24,
   "metadata": {},
   "outputs": [
    {
     "name": "stdout",
     "output_type": "stream",
     "text": [
      "1.mol2 2.mol2\r\n"
     ]
    }
   ],
   "source": [
    "!ls 80698/proj-1/selected-example-mol2ids"
   ]
  },
  {
   "cell_type": "code",
   "execution_count": 25,
   "metadata": {},
   "outputs": [
    {
     "name": "stdout",
     "output_type": "stream",
     "text": [
      "ZINC57271411\r\n",
      "ZINC06394508\r\n",
      "ZINC65292537\r\n",
      "ZINC31820077\r\n",
      "ZINC01458151\r\n"
     ]
    }
   ],
   "source": [
    "!grep 'ZINC' 80698/proj-1/selected-example-mol2ids/1.mol2"
   ]
  },
  {
   "cell_type": "code",
   "execution_count": 28,
   "metadata": {},
   "outputs": [
    {
     "name": "stdout",
     "output_type": "stream",
     "text": [
      "@<TRIPOS>MOLECULE\r\n",
      "ZINC57271411\r\n",
      "   50    52     0     0     0\r\n",
      "--\r\n",
      "--\r\n",
      "@<TRIPOS>MOLECULE\r\n",
      "ZINC06394508\r\n",
      "   49    52     0     0     0\r\n",
      "--\r\n",
      "--\r\n",
      "@<TRIPOS>MOLECULE\r\n",
      "ZINC65292537\r\n",
      "   47    50     0     0     0\r\n",
      "--\r\n",
      "--\r\n",
      "@<TRIPOS>MOLECULE\r\n",
      "ZINC31820077\r\n",
      "   48    50     0     0     0\r\n",
      "--\r\n",
      "--\r\n",
      "@<TRIPOS>MOLECULE\r\n",
      "ZINC01458151\r\n",
      "   25    25     0     0     0\r\n"
     ]
    }
   ],
   "source": [
    "!grep -C 1 'ZINC' 80698/proj-1/selected-example-mol2ids/1.mol2 "
   ]
  },
  {
   "cell_type": "markdown",
   "metadata": {},
   "source": [
    "### Blacklisting"
   ]
  },
  {
   "cell_type": "markdown",
   "metadata": {},
   "source": [
    "Similar to the previous approach, using a whitelist filter, we can do blacklist filtering, which means that all molecules are selected but the ones contained in the ID files. Set whitelist to False."
   ]
  },
  {
   "cell_type": "code",
   "execution_count": 46,
   "metadata": {},
   "outputs": [
    {
     "name": "stdout",
     "output_type": "stream",
     "text": [
      "Processing 80698/mol2/1.mol2\n",
      "Processing 80698/mol2/2.mol2\n",
      "Finished\n"
     ]
    }
   ],
   "source": [
    "!python ../../../tools/id_to_mol2.py \\\n",
    "--input 80698/mol2 \\\n",
    "--output 80698/proj-1/nonselected-example-mol2ids \\\n",
    "--id_file ./80698/proj-1/selected-example-mol2ids.txt \\\n",
    "--whitelist false"
   ]
  },
  {
   "cell_type": "code",
   "execution_count": 47,
   "metadata": {},
   "outputs": [
    {
     "name": "stdout",
     "output_type": "stream",
     "text": [
      "1.mol2 : 135961\n",
      "2.mol2 : 136144\n",
      "Total : 272105\n"
     ]
    }
   ],
   "source": [
    "!python ../../../tools/count_mol2.py -i 80698/proj-1/nonselected-example-mol2ids/"
   ]
  },
  {
   "cell_type": "markdown",
   "metadata": {},
   "source": [
    "# First Filtering Step -- Filtering via Features from Data Tables"
   ]
  },
  {
   "cell_type": "code",
   "execution_count": 2,
   "metadata": {
    "collapsed": true
   },
   "outputs": [],
   "source": [
    "import time"
   ]
  },
  {
   "cell_type": "code",
   "execution_count": 48,
   "metadata": {},
   "outputs": [
    {
     "name": "stdout",
     "output_type": "stream",
     "text": [
      "ZINC_ID\tMWT\tLogP\tDesolv_apolar\tDesolv_polar\tHBD\tHBA\ttPSA\tCharge\tNRB\tSMILES\r\n",
      "ZINC00000010\t217.2\t1.42\t5.57\t-41.98\t0\t4\t66\t-1\t2\tC[C@@]1(C(=O)C=C(O1)C(=O)[O-])c2ccccc2\r\n",
      "ZINC00000012\t289.356\t1.28\t4.89\t-24.55\t2\t4\t66\t0\t5\tc1ccc(cc1)C(c2ccccc2)[S@](=O)CC(=O)NO\r\n",
      "ZINC00000017\t281.337\t1.33\t3.06\t-23.33\t2\t6\t87\t0\t4\tCCC[S@](=O)c1ccc2c(c1)[nH]/c(=N\\C(=O)OC)/[nH]2\r\n",
      "ZINC00000017\t281.337\t1.33\t3.07\t-19.2\t2\t6\t87\t0\t4\tCCC[S@](=O)c1ccc2c(c1)[nH]/c(=N/C(=O)OC)/[nH]2\r\n",
      "ZINC00000018\t212.318\t2.00\t5.87\t-8.2\t1\t3\t32\t0\t4\tCC(C)C[C@@H]1C(=O)N(C(=S)N1)CC=C\r\n",
      "ZINC00000021\t288.411\t3.85\t4.02\t-40.52\t1\t3\t30\t1\t6\tCCC(=O)O[C@]1(CC[NH+](C[C@@H]1CC=C)C)c2ccccc2\r\n",
      "ZINC00000022\t218.276\t3.21\t0.47\t-48.57\t1\t3\t52\t-1\t5\tC[C@@H](c1ccc(cc1)NCC(=C)C)C(=O)[O-]\r\n",
      "ZINC00000025\t251.353\t3.60\t2.4\t-41.56\t2\t2\t40\t1\t5\tC[C@H](Cc1ccccc1)[NH2+][C@@H](C#N)c2ccccc2\r\n",
      "ZINC00000030\t297.422\t2.94\t0.89\t-37.97\t3\t3\t47\t1\t6\tC[C@@H](CC(c1ccccc1)(c2ccccc2)C(=O)N)[NH+](C)C\r\n"
     ]
    }
   ],
   "source": [
    "!head 80698/csv/3_prop.xls"
   ]
  },
  {
   "cell_type": "markdown",
   "metadata": {},
   "source": [
    "- A valid query looks like this:\n",
    " \n",
    "- Correct: `\"(MWT >= 200) & (NRB <= 7)\"`\n",
    "- Wrong: `\"( MWT >= 200) & ( NRB <= 7)\"` [spacing between parentheses and column names]\n",
    "- Wrong: `\"MWT >= 200 & NRB <= 7\"` [expressions seperated by logical '&' operator not enclosed in parentheses]\n",
    "- Wrong: `\"(mwt >= 200) & (nrb <= 7)\"` [column names don't match the columns in the data table file]\n",
    "- Wrong: `\"(mwt>=200) & (nrb<=7)\"` [no whitespace before and after operators for comparison]\n"
   ]
  },
  {
   "cell_type": "code",
   "execution_count": 107,
   "metadata": {},
   "outputs": [
    {
     "name": "stdout",
     "output_type": "stream",
     "text": [
      "Using columns: ['ZINC_ID', 'NRB', 'MWT']\n",
      "Using selection: (chunk.NRB <= 7) & (chunk.MWT >= 200)\n",
      "Processed: 18000000\n",
      "Selected: 17599186\n"
     ]
    }
   ],
   "source": [
    "!python ../../../tools/datatable_to_id.py \\\n",
    "--input 80698/csv/3_prop.xls \\\n",
    "--output 80698/proj-1/selected-mol2ids.txt \\\n",
    "--id_column ZINC_ID \\\n",
    "--selection \"(NRB <= 7) & (MWT >= 200)\""
   ]
  },
  {
   "cell_type": "markdown",
   "metadata": {},
   "source": [
    "Next, we are going to use these IDs to select molecules from the existing mol2 files:"
   ]
  },
  {
   "cell_type": "code",
   "execution_count": 108,
   "metadata": {},
   "outputs": [
    {
     "name": "stdout",
     "output_type": "stream",
     "text": [
      "Processing 80698/mol2/1.mol2\n",
      "Processing 80698/mol2/2.mol2\n",
      "Finished\n"
     ]
    }
   ],
   "source": [
    "!python ../../../tools/id_to_mol2.py \\\n",
    "--input 80698/mol2 \\\n",
    "--output 80698/proj-1/selected-mol2s \\\n",
    "--id_file ./80698/proj-1/selected-mol2ids.txt \\\n",
    "--whitelist True"
   ]
  },
  {
   "cell_type": "code",
   "execution_count": 109,
   "metadata": {},
   "outputs": [
    {
     "name": "stdout",
     "output_type": "stream",
     "text": [
      "1.mol2 : 133655\n",
      "2.mol2 : 133607\n",
      "Total : 267262\n"
     ]
    }
   ],
   "source": [
    "!python ../../../tools/count_mol2.py -i 80698/proj-1/selected-mol2ids/"
   ]
  },
  {
   "cell_type": "markdown",
   "metadata": {},
   "source": [
    "# Second Filtering Step -- Presence and absence of functional groups"
   ]
  },
  {
   "cell_type": "markdown",
   "metadata": {},
   "source": [
    "- allowed columns\n",
    "  - atom_id\n",
    "  - atom_name\n",
    "  - atom_type\n",
    "  - subst_id\n",
    "  - subst_name\n",
    "  - charge\n",
    "  \n",
    "(may change with updated biopandas)"
   ]
  },
  {
   "cell_type": "markdown",
   "metadata": {},
   "source": [
    "a) simultaneously true (here impossible): \"((atom_type == 'S.3') | (atom_type == 'S.o2')) & (atom_type == 'O.2')\"\n",
    "\n",
    "- tries to find an S.3 or S.o2 atom that is also an O.2 atom at the same time\n",
    "\n",
    "b) simultaneously true and valid: \"((atom_type == 'S.3') | (atom_type == 'S.o2')) & (charge < 0.0)\"\n",
    "\n",
    "- tries to find an S.3 or S.o2 atom that has a negative charge\n",
    "\n",
    "c) otherwise, \"((atom_type == 'S.3') | (atom_type == 'S.o2')) --> (atom_type == 'O.2')\"\n",
    "\n",
    "- tries to find an S.3 or S.o2 atom, then tries to find an O.2 atom as well\n",
    "\n",
    "d) when in doubt, one can run (as alternative for c) the tool 2 times. 1 time to select \"(atom_type == 'S.3') | (atom_type == 'S.o2')\" and a second time to select \"(atom_type == 'O.2')\"."
   ]
  },
  {
   "cell_type": "code",
   "execution_count": 4,
   "metadata": {},
   "outputs": [
    {
     "name": "stdout",
     "output_type": "stream",
     "text": [
      "Processing 80698/proj-1/selected-mol2s/1.mol2\n",
      "Processing 80698/proj-1/selected-mol2s/2.mol2\n"
     ]
    },
    {
     "data": {
      "text/plain": [
       "800.6091911792755"
      ]
     },
     "execution_count": 4,
     "metadata": {},
     "output_type": "execute_result"
    }
   ],
   "source": [
    "start = time.time()\n",
    "\n",
    "!python ../../../tools/funcgroup_to_id.py \\\n",
    "--input 80698/proj-1/selected-mol2s/ \\\n",
    "--output 80698/proj-1/3keto-and-sulfur-mol2ids.txt \\\n",
    "--selection \"((atom_type == 'S.3') | (atom_type == 'S.o2')) --> (atom_type == 'O.2')\" \\\n",
    "--processes 0\n",
    "\n",
    "time.time() - start"
   ]
  },
  {
   "cell_type": "code",
   "execution_count": 5,
   "metadata": {},
   "outputs": [
    {
     "name": "stdout",
     "output_type": "stream",
     "text": [
      "Processing 80698/proj-1/selected-mol2s/1.mol2\n",
      "Processing 80698/proj-1/selected-mol2s/2.mol2\n",
      "Finished\n"
     ]
    },
    {
     "data": {
      "text/plain": [
       "16.29014277458191"
      ]
     },
     "execution_count": 5,
     "metadata": {},
     "output_type": "execute_result"
    }
   ],
   "source": [
    "start = time.time()\n",
    "\n",
    "!python ../../../tools/id_to_mol2.py \\\n",
    "--input 80698/proj-1/selected-mol2s/ \\\n",
    "--output 80698/proj-1/3keto-and-sulfur-mol2s \\\n",
    "--id_file 80698/proj-1/3keto-and-sulfur-mol2ids.txt \\\n",
    "--whitelist True\n",
    "\n",
    "time.time() - start"
   ]
  },
  {
   "cell_type": "code",
   "execution_count": 7,
   "metadata": {},
   "outputs": [
    {
     "name": "stdout",
     "output_type": "stream",
     "text": [
      "1.mol2 : 38558\n",
      "2.mol2 : 38583\n",
      "Total : 77141\n"
     ]
    }
   ],
   "source": [
    "!python ../../../tools/count_mol2.py -i 80698/proj-1/3keto-and-sulfur-mol2s"
   ]
  },
  {
   "cell_type": "markdown",
   "metadata": {},
   "source": [
    "# Third Filtering Step -- Distance between functional groups"
   ]
  },
  {
   "cell_type": "markdown",
   "metadata": {},
   "source": [
    "- could be done after omega"
   ]
  },
  {
   "cell_type": "code",
   "execution_count": 21,
   "metadata": {},
   "outputs": [
    {
     "name": "stdout",
     "output_type": "stream",
     "text": [
      "Processing 80698/proj-1/3keto-and-sulfur-mol2s/1.mol2\n",
      "Processing 80698/proj-1/3keto-and-sulfur-mol2s/2.mol2\n"
     ]
    },
    {
     "data": {
      "text/plain": [
       "476.1484110355377"
      ]
     },
     "execution_count": 21,
     "metadata": {},
     "output_type": "execute_result"
    }
   ],
   "source": [
    "start = time.time()\n",
    "\n",
    "!python ../../../tools/funcgroup_distance_to_id.py \\\n",
    "--input 80698/proj-1/3keto-and-sulfur-mol2s/ \\\n",
    "--output 80698/proj-1/3keto-and-sulfur_distance-mol2ids.txt \\\n",
    "--selection \"((atom_type == 'S.3') | (atom_type == 'S.o2')) --> (atom_type == 'O.2')\" \\\n",
    "--distance \"13-20\" \\\n",
    "--processes 0\n",
    "\n",
    "time.time() - start"
   ]
  },
  {
   "cell_type": "code",
   "execution_count": 22,
   "metadata": {},
   "outputs": [
    {
     "name": "stdout",
     "output_type": "stream",
     "text": [
      "Processing 80698/proj-1/3keto-and-sulfur-mol2s/1.mol2\n",
      "Processing 80698/proj-1/3keto-and-sulfur-mol2s/2.mol2\n",
      "Finished\n"
     ]
    },
    {
     "data": {
      "text/plain": [
       "6.941205024719238"
      ]
     },
     "execution_count": 22,
     "metadata": {},
     "output_type": "execute_result"
    }
   ],
   "source": [
    "start = time.time()\n",
    "\n",
    "!python ../../../tools/id_to_mol2.py \\\n",
    "--input 80698/proj-1/3keto-and-sulfur-mol2s \\\n",
    "--output 80698/proj-1/3keto-and-sulfur-mol2s_13-20A \\\n",
    "--id_file 80698/proj-1/3keto-and-sulfur_distance-mol2ids.txt \\\n",
    "--whitelist True\n",
    "\n",
    "time.time() - start"
   ]
  },
  {
   "cell_type": "code",
   "execution_count": 23,
   "metadata": {},
   "outputs": [
    {
     "name": "stdout",
     "output_type": "stream",
     "text": [
      "1.mol2 : 467\n",
      "2.mol2 : 461\n",
      "Total : 928\n"
     ]
    }
   ],
   "source": [
    "!python ../../../tools/count_mol2.py -i 80698/proj-1/3keto-and-sulfur-mol2s_13-20A"
   ]
  },
  {
   "cell_type": "markdown",
   "metadata": {},
   "source": [
    "# Generating Conformers via Omega"
   ]
  },
  {
   "cell_type": "code",
   "execution_count": null,
   "metadata": {},
   "outputs": [
    {
     "name": "stdout",
     "output_type": "stream",
     "text": [
      "Processing 80698/proj-1/3keto-and-sulfur-mol2s_13-20A/1.mol2\n",
      "Processing 80698/proj-1/3keto-and-sulfur-mol2s_13-20A/2.mol2\n",
      "\n",
      "          :jGf:             .d8888b. 88d8b.d8b. .d8888b. .d8888b. .d8888b.\n",
      "        :jGDDDDf:           88'  `88 88'`88'`88 88ooood8 88'  `88 88'  `88\n",
      "      ,fDDDGjLDDDf,         88.  .88 88  88  88 88.  ... 88.  .88 88.  .88\n",
      "    ,fDDLt:   :iLDDL;       `88888P' dP  dP  dP `88888P' `8888P88 `88888P8\n",
      "  ;fDLt:         :tfDG;                                       .88\n",
      ",jft:   ,ijfffji,   :iff                                  d8888P\n",
      "     .jGDDDDDDDDDGt.      \n",
      "    ;GDDGt:''':tDDDG,          Copyright (c) 2004-2013\n",
      "   .DDDG:       :GDDG.         OpenEye Scientific Software, Inc.\n",
      "   ;DDDj         tDDDi    \n",
      "   ,DDDf         fDDD,         Version: 2.5.1.4\n",
      "    LDDDt.     .fDDDj          Built:   20130515\n",
      "    .tDDDDfjtjfDDDGt           OEChem version: 1.9.1\n",
      "      :ifGDDDDDGfi.            Platform: osx-10.8-clang++4-x64\n",
      "          .:::.                \n",
      "  ......................       \n",
      "  DDDDDDDDDDDDDDDDDDDDDD       \n",
      "  DDDDDDDDDDDDDDDDDDDDDD       \n",
      "\n",
      "Supported run modes:\n",
      "  Single processor\n",
      "  MPI Multiprocessor\n",
      "\n",
      "  Licensed for the exclusive use of The Laboratory of Leslie Kuhn.\n",
      "\n",
      "  Licensed for use only in Michigan State University.\n",
      "  License expires on October 20, 2017.\n",
      "\n",
      "\n",
      "To cite OMEGA please use the following:\n",
      "          :jGf:             .d8888b. 88d8b.d8b. .d8888b. .d8888b. .d8888b.\n",
      "  OMEGA 2.5.1.4: OpenEye Scientific Software, Santa Fe, NM.\n",
      "        :jGDDDDf:           88'  `88 88'`88'`88 88ooood8 88'  `88 88'  `88\n",
      "  http://www.eyesopen.com.\n",
      "\n",
      "      ,fDDDGjLDDDf,         88.  .88 88  88  88 88.  ... 88.  .88 88.  .88\n",
      "  Hawkins, P.C.D.; Skillman, A.G.; Warren, G.L.; Ellingson, B.A.; Stahl, M.T.\n",
      "    ,fDDLt:   :iLDDL;       `88888P' dP  dP  dP `88888P' `8888P88 `88888P8\n",
      "  Conformer Generation with OMEGA: Algorithm and Validation Using High\n",
      "  ;fDLt:         :tfDG;                                       .88\n",
      "  Quality Structures from the Protein Databank and the Cambridge \n",
      ",jft:   ,ijfffji,   :iff                                  d8888P\n",
      "  Structural Database. J. Chem. Inf. Model. 2010, 50, 572-584.\n",
      "     .jGDDDDDDDDDGt.      \n",
      "\n",
      "    ;GDDGt:''':tDDDG,          Copyright (c) 2004-2013\n",
      "   .DDDG:       :GDDG.         OpenEye Scientific Software, Inc.\n",
      "   ;DDDj         tDDDi    \n",
      "   ,DDDf         fDDD,         Version: 2.5.1.4\n",
      "    LDDDt.     .fDDDj          Built:   20130515\n",
      "    .tDDDDfjtjfDDDGt           OEChem version: 1.9.1\n",
      "      :ifGDDDDDGfi.            Platform: osx-10.8-clang++4-x64\n",
      "          .:::.                \n",
      "  ......................       \n",
      "  DDDDDDDDDDDDDDDDDDDDDD       \n",
      "  DDDDDDDDDDDDDDDDDDDDDD       \n",
      "\n",
      "Supported run modes:\n",
      "  Single processor\n",
      "  MPI Multiprocessor\n",
      "\n",
      "  Licensed for the exclusive use of The Laboratory of Leslie Kuhn.\n",
      "  Licensed for use only in Michigan State University.\n",
      "  License expires on October 20, 2017.\n",
      "\n",
      "\n",
      "To cite OMEGA please use the following:\n",
      "  OMEGA 2.5.1.4: OpenEye Scientific Software, Santa Fe, NM.\n",
      "  http://www.eyesopen.com.\n",
      "\n",
      "  Hawkins, P.C.D.; Skillman, A.G.; Warren, G.L.; Ellingson, B.A.; Stahl, M.T.\n",
      "  Conformer Generation with OMEGA: Algorithm and Validation Using High\n",
      "  Quality Structures from the Protein Databank and the Cambridge \n",
      "  Structural Database. J. Chem. Inf. Model. 2010, 50, 572-584.\n",
      "\n",
      "Running in single processor mode\n",
      "Running in single processor mode\n"
     ]
    }
   ],
   "source": [
    "!python ../../../tools/run_omega.py \\\n",
    "--input 80698/proj-1/3keto-and-sulfur-mol2s_13-20A \\\n",
    "--output 80698/proj-1/3keto-and-sulfur-mol2s_13-20A_confs \\\n",
    "--executable \"/Applications/OMEGA 2.5.1.4.app/Contents/MacOS/omega2-2.5.1.4\" \\\n",
    "--processes 0"
   ]
  },
  {
   "cell_type": "code",
   "execution_count": 51,
   "metadata": {},
   "outputs": [
    {
     "ename": "FileNotFoundError",
     "evalue": "[Errno 2] No such file or directory: '/Applications/OMEGA\\\\ 2.5.1.4.app/Contents/MacOS/omega2-2.5.1.4'",
     "output_type": "error",
     "traceback": [
      "\u001b[0;31m---------------------------------------------------------------------------\u001b[0m",
      "\u001b[0;31mFileNotFoundError\u001b[0m                         Traceback (most recent call last)",
      "\u001b[0;32m<ipython-input-51-39bef0dc529f>\u001b[0m in \u001b[0;36m<module>\u001b[0;34m()\u001b[0m\n\u001b[1;32m      2\u001b[0m \u001b[0;34m\u001b[0m\u001b[0m\n\u001b[1;32m      3\u001b[0m \u001b[0mcmd\u001b[0m \u001b[0;34m=\u001b[0m \u001b[0;34m[\u001b[0m\u001b[0;34m'/Applications/OMEGA\\ 2.5.1.4.app/Contents/MacOS/omega2-2.5.1.4'\u001b[0m\u001b[0;34m,\u001b[0m \u001b[0;34m'-in'\u001b[0m\u001b[0;34m,\u001b[0m \u001b[0;34m'80698/proj-1/3keto-and-sulfur-mol2s_13-20A/1.mol2'\u001b[0m\u001b[0;34m,\u001b[0m \u001b[0;34m'-out'\u001b[0m\u001b[0;34m,\u001b[0m \u001b[0;34m'80698/proj-1/3keto-and-sulfur-mol2s_13-20A_confs/1.mol2'\u001b[0m\u001b[0;34m,\u001b[0m \u001b[0;34m'-prefix'\u001b[0m\u001b[0;34m,\u001b[0m \u001b[0;34m'80698/proj-1/3keto-and-sulfur-mol2s_13-20A_confs/1'\u001b[0m\u001b[0;34m,\u001b[0m \u001b[0;34m'-maxconfs'\u001b[0m\u001b[0;34m,\u001b[0m \u001b[0;34m'200'\u001b[0m\u001b[0;34m,\u001b[0m \u001b[0;34m'-warts'\u001b[0m\u001b[0;34m,\u001b[0m \u001b[0;34m'false'\u001b[0m\u001b[0;34m]\u001b[0m\u001b[0;34m\u001b[0m\u001b[0m\n\u001b[0;32m----> 4\u001b[0;31m \u001b[0mp\u001b[0m \u001b[0;34m=\u001b[0m \u001b[0msubprocess\u001b[0m\u001b[0;34m.\u001b[0m\u001b[0mPopen\u001b[0m\u001b[0;34m(\u001b[0m\u001b[0mcmd\u001b[0m\u001b[0;34m,\u001b[0m \u001b[0mstderr\u001b[0m\u001b[0;34m=\u001b[0m\u001b[0msubprocess\u001b[0m\u001b[0;34m.\u001b[0m\u001b[0mPIPE\u001b[0m\u001b[0;34m,\u001b[0m \u001b[0mbufsize\u001b[0m\u001b[0;34m=\u001b[0m\u001b[0;36m1\u001b[0m\u001b[0;34m)\u001b[0m\u001b[0;34m\u001b[0m\u001b[0m\n\u001b[0m\u001b[1;32m      5\u001b[0m \u001b[0;32mfor\u001b[0m \u001b[0mline\u001b[0m \u001b[0;32min\u001b[0m \u001b[0mp\u001b[0m\u001b[0;34m.\u001b[0m\u001b[0mstderr\u001b[0m\u001b[0;34m:\u001b[0m\u001b[0;34m\u001b[0m\u001b[0m\n\u001b[1;32m      6\u001b[0m     \u001b[0mprint\u001b[0m\u001b[0;34m(\u001b[0m\u001b[0mline\u001b[0m\u001b[0;34m)\u001b[0m\u001b[0;34m\u001b[0m\u001b[0m\n",
      "\u001b[0;32m/Users/sebastian/miniconda3/lib/python3.6/subprocess.py\u001b[0m in \u001b[0;36m__init__\u001b[0;34m(self, args, bufsize, executable, stdin, stdout, stderr, preexec_fn, close_fds, shell, cwd, env, universal_newlines, startupinfo, creationflags, restore_signals, start_new_session, pass_fds, encoding, errors)\u001b[0m\n\u001b[1;32m    705\u001b[0m                                 \u001b[0mc2pread\u001b[0m\u001b[0;34m,\u001b[0m \u001b[0mc2pwrite\u001b[0m\u001b[0;34m,\u001b[0m\u001b[0;34m\u001b[0m\u001b[0m\n\u001b[1;32m    706\u001b[0m                                 \u001b[0merrread\u001b[0m\u001b[0;34m,\u001b[0m \u001b[0merrwrite\u001b[0m\u001b[0;34m,\u001b[0m\u001b[0;34m\u001b[0m\u001b[0m\n\u001b[0;32m--> 707\u001b[0;31m                                 restore_signals, start_new_session)\n\u001b[0m\u001b[1;32m    708\u001b[0m         \u001b[0;32mexcept\u001b[0m\u001b[0;34m:\u001b[0m\u001b[0;34m\u001b[0m\u001b[0m\n\u001b[1;32m    709\u001b[0m             \u001b[0;31m# Cleanup if the child failed starting.\u001b[0m\u001b[0;34m\u001b[0m\u001b[0;34m\u001b[0m\u001b[0m\n",
      "\u001b[0;32m/Users/sebastian/miniconda3/lib/python3.6/subprocess.py\u001b[0m in \u001b[0;36m_execute_child\u001b[0;34m(self, args, executable, preexec_fn, close_fds, pass_fds, cwd, env, startupinfo, creationflags, shell, p2cread, p2cwrite, c2pread, c2pwrite, errread, errwrite, restore_signals, start_new_session)\u001b[0m\n\u001b[1;32m   1324\u001b[0m                             \u001b[0;32melse\u001b[0m\u001b[0;34m:\u001b[0m\u001b[0;34m\u001b[0m\u001b[0m\n\u001b[1;32m   1325\u001b[0m                                 \u001b[0merr_msg\u001b[0m \u001b[0;34m+=\u001b[0m \u001b[0;34m': '\u001b[0m \u001b[0;34m+\u001b[0m \u001b[0mrepr\u001b[0m\u001b[0;34m(\u001b[0m\u001b[0morig_executable\u001b[0m\u001b[0;34m)\u001b[0m\u001b[0;34m\u001b[0m\u001b[0m\n\u001b[0;32m-> 1326\u001b[0;31m                     \u001b[0;32mraise\u001b[0m \u001b[0mchild_exception_type\u001b[0m\u001b[0;34m(\u001b[0m\u001b[0merrno_num\u001b[0m\u001b[0;34m,\u001b[0m \u001b[0merr_msg\u001b[0m\u001b[0;34m)\u001b[0m\u001b[0;34m\u001b[0m\u001b[0m\n\u001b[0m\u001b[1;32m   1327\u001b[0m                 \u001b[0;32mraise\u001b[0m \u001b[0mchild_exception_type\u001b[0m\u001b[0;34m(\u001b[0m\u001b[0merr_msg\u001b[0m\u001b[0;34m)\u001b[0m\u001b[0;34m\u001b[0m\u001b[0m\n\u001b[1;32m   1328\u001b[0m \u001b[0;34m\u001b[0m\u001b[0m\n",
      "\u001b[0;31mFileNotFoundError\u001b[0m: [Errno 2] No such file or directory: '/Applications/OMEGA\\\\ 2.5.1.4.app/Contents/MacOS/omega2-2.5.1.4'"
     ]
    }
   ],
   "source": [
    "import subprocess\n",
    "\n",
    "cmd = ['/Applications/OMEGA\\ 2.5.1.4.app/Contents/MacOS/omega2-2.5.1.4', '-in', '80698/proj-1/3keto-and-sulfur-mol2s_13-20A/1.mol2', '-out', '80698/proj-1/3keto-and-sulfur-mol2s_13-20A_confs/1.mol2', '-prefix', '80698/proj-1/3keto-and-sulfur-mol2s_13-20A_confs/1', '-maxconfs', '200', '-warts', 'false']\n",
    "p = subprocess.Popen(cmd, stderr=subprocess.PIPE, bufsize=1)\n",
    "for line in p.stderr:\n",
    "    print(line)\n",
    "\n",
    "p.stderr.close()\n",
    "p.wait()\n"
   ]
  },
  {
   "cell_type": "code",
   "execution_count": 42,
   "metadata": {},
   "outputs": [
    {
     "name": "stdout",
     "output_type": "stream",
     "text": [
      "LICENSE: Could not open license file \"oe_license.txt\" in local directory\r\n",
      "LICENSE: N.B. OE_LICENSE environment variable is not set\r\n",
      "LICENSE: N.B. OE_DIR environment variable is not set\r\n",
      "\r\n",
      "          :jGf:             .d8888b. 88d8b.d8b. .d8888b. .d8888b. .d8888b.\r\n",
      "        :jGDDDDf:           88'  `88 88'`88'`88 88ooood8 88'  `88 88'  `88\r\n",
      "      ,fDDDGjLDDDf,         88.  .88 88  88  88 88.  ... 88.  .88 88.  .88\r\n",
      "    ,fDDLt:   :iLDDL;       `88888P' dP  dP  dP `88888P' `8888P88 `88888P8\r\n",
      "  ;fDLt:         :tfDG;                                       .88\r\n",
      ",jft:   ,ijfffji,   :iff                                  d8888P\r\n",
      "     .jGDDDDDDDDDGt.      \r\n",
      "    ;GDDGt:''':tDDDG,          Copyright (c) 2004-2013\r\n",
      "   .DDDG:       :GDDG.         OpenEye Scientific Software, Inc.\r\n",
      "   ;DDDj         tDDDi    \r\n",
      "   ,DDDf         fDDD,         Version: 2.5.1.4\r\n",
      "    LDDDt.     .fDDDj          Built:   20130515\r\n",
      "    .tDDDDfjtjfDDDGt           OEChem version: 1.9.1\r\n",
      "      :ifGDDDDDGfi.            Platform: osx-10.8-clang++4-x64\r\n",
      "          .:::.                \r\n",
      "  ......................       \r\n",
      "  DDDDDDDDDDDDDDDDDDDDDD       \r\n",
      "  DDDDDDDDDDDDDDDDDDDDDD       \r\n",
      "\r\n",
      "Supported run modes:\r\n",
      "  Single processor\r\n",
      "  MPI Multiprocessor\r\n",
      "\r\n",
      "No valid license key found.\r\n",
      "\r\n",
      "\r\n",
      "To cite OMEGA please use the following:\r\n",
      "  OMEGA 2.5.1.4: OpenEye Scientific Software, Santa Fe, NM.\r\n",
      "  http://www.eyesopen.com.\r\n",
      "\r\n",
      "  Hawkins, P.C.D.; Skillman, A.G.; Warren, G.L.; Ellingson, B.A.; Stahl, M.T.\r\n",
      "  Conformer Generation with OMEGA: Algorithm and Validation Using High\r\n",
      "  Quality Structures from the Protein Databank and the Cambridge \r\n",
      "  Structural Database. J. Chem. Inf. Model. 2010, 50, 572-584.\r\n",
      "\r\n",
      "LICENSE: No valid license found for omega\r\n"
     ]
    }
   ],
   "source": [
    "!/Applications/OMEGA\\ 2.5.1.4.app/Contents/MacOS/omega2-2.5.1.4 -in 80698/proj-1/3keto-and-sulfur-mol2s_13-20A/1.mol2 -out 80698/proj-1/3keto-and-sulfur-mol2s_13-20A_confs/1.mol2 -prefix 80698/proj-1/3keto-and-sulfur-mol2s_13-20A_confs/1 -maxconfs 200 -warts false"
   ]
  },
  {
   "cell_type": "code",
   "execution_count": 40,
   "metadata": {},
   "outputs": [
    {
     "name": "stdout",
     "output_type": "stream",
     "text": [
      "/bin/sh: : command not found\r\n"
     ]
    }
   ],
   "source": [
    "!\"$omega2\""
   ]
  },
  {
   "cell_type": "code",
   "execution_count": null,
   "metadata": {
    "collapsed": true
   },
   "outputs": [],
   "source": []
  }
 ],
 "metadata": {
  "kernelspec": {
   "display_name": "Python 3",
   "language": "python",
   "name": "python3"
  },
  "language_info": {
   "codemirror_mode": {
    "name": "ipython",
    "version": 3
   },
   "file_extension": ".py",
   "mimetype": "text/x-python",
   "name": "python",
   "nbconvert_exporter": "python",
   "pygments_lexer": "ipython3",
   "version": "3.6.0"
  }
 },
 "nbformat": 4,
 "nbformat_minor": 2
}
