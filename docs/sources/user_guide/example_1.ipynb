{
 "cells": [
  {
   "cell_type": "markdown",
   "metadata": {},
   "source": [
    "# Data storage and project layout"
   ]
  },
  {
   "cell_type": "markdown",
   "metadata": {},
   "source": [
    "- The initial dataset should be stored as `mol2` or `mol2.gz` files in a directory. For example:"
   ]
  },
  {
   "cell_type": "code",
   "execution_count": 1,
   "metadata": {},
   "outputs": [
    {
     "name": "stdout",
     "output_type": "stream",
     "text": [
      "total 603744\r\n",
      "-rw-r--r--  1 sebastian  staff    42M May 10 22:41 1.mol2\r\n",
      "-rw-r--r--  1 sebastian  staff    42M May 10 22:41 2.mol2\r\n",
      "-rw-r--r--  1 sebastian  staff    42M May 10 22:41 3.mol2\r\n",
      "-rw-r--r--  1 sebastian  staff    42M May 10 22:41 4.mol2\r\n",
      "-rw-r--r--  1 sebastian  staff    42M May 10 22:41 5.mol2\r\n",
      "-rw-r--r--  1 sebastian  staff    42M May 10 22:41 6.mol2\r\n",
      "-rw-r--r--  1 sebastian  staff    42M May 10 22:41 7.mol2\r\n"
     ]
    }
   ],
   "source": [
    "!ls -lh dataset/mol2/"
   ]
  },
  {
   "cell_type": "markdown",
   "metadata": {},
   "source": [
    "- for a new project, it's best to create a new directory, for instance, we create a new subdirectory in 80698:"
   ]
  },
  {
   "cell_type": "code",
   "execution_count": 2,
   "metadata": {},
   "outputs": [
    {
     "name": "stdout",
     "output_type": "stream",
     "text": [
      "mkdir: project: File exists\r\n"
     ]
    }
   ],
   "source": [
    "!mkdir project"
   ]
  },
  {
   "cell_type": "markdown",
   "metadata": {},
   "source": [
    "Using the `count_mol2.py` script, we can count the number of structures in each mol2 file in the input directory:"
   ]
  },
  {
   "cell_type": "code",
   "execution_count": 3,
   "metadata": {},
   "outputs": [
    {
     "name": "stdout",
     "output_type": "stream",
     "text": [
      "1.mol2 : 10000\n",
      "2.mol2 : 10000\n",
      "3.mol2 : 10000\n",
      "4.mol2 : 10000\n",
      "5.mol2 : 10000\n",
      "6.mol2 : 10000\n",
      "7.mol2 : 10000\n",
      "Total : 70000\n"
     ]
    }
   ],
   "source": [
    "!python ../../../../tools/count_mol2.py -i dataset/mol2/"
   ]
  },
  {
   "cell_type": "markdown",
   "metadata": {
    "collapsed": true
   },
   "source": [
    "Optionally, you may have files with data about the molecules, for instance:"
   ]
  },
  {
   "cell_type": "code",
   "execution_count": 4,
   "metadata": {},
   "outputs": [
    {
     "name": "stdout",
     "output_type": "stream",
     "text": [
      "total 3310280\r\n",
      "-rw-r--r--@ 1 sebastian  staff   1.6G Jan 11  2014 3_prop.xls\r\n"
     ]
    }
   ],
   "source": [
    "!ls -lh dataset/tables"
   ]
  },
  {
   "cell_type": "markdown",
   "metadata": {},
   "source": [
    "# General Blacklist & Whitelist filtering"
   ]
  },
  {
   "cell_type": "markdown",
   "metadata": {},
   "source": [
    "- `mol2_to_id.py` generates a list of molecule IDs from MOL2 files\n",
    "- `id_to_mol2.py` filters mol2 files by IDs and creates new mol2 files. Via whitelisting, molecules that match those IDs are written. Via blacklisting, all molecules but the molecules that are in the list are written"
   ]
  },
  {
   "cell_type": "code",
   "execution_count": 5,
   "metadata": {},
   "outputs": [
    {
     "name": "stdout",
     "output_type": "stream",
     "text": [
      "Processing 1.mol2 | scanned 10000 molecules | 12824 mol/sec\n",
      "Processing 2.mol2 | scanned 10000 molecules | 12196 mol/sec\n",
      "Processing 3.mol2 | scanned 10000 molecules | 12604 mol/sec\n",
      "Processing 4.mol2 | scanned 10000 molecules | 14002 mol/sec\n",
      "Processing 5.mol2 | scanned 10000 molecules | 15695 mol/sec\n",
      "Processing 6.mol2 | scanned 10000 molecules | 16035 mol/sec\n",
      "Processing 7.mol2 | scanned 10000 molecules | 16698 mol/sec\n"
     ]
    }
   ],
   "source": [
    "!python ../../../../tools/mol2_to_id.py \\\n",
    "--input dataset/mol2 \\\n",
    "--output project/all-mol2ids.txt"
   ]
  },
  {
   "cell_type": "code",
   "execution_count": 6,
   "metadata": {},
   "outputs": [
    {
     "name": "stdout",
     "output_type": "stream",
     "text": [
      "ZINC57271411\r\n",
      "ZINC50764925\r\n",
      "ZINC65255333\r\n",
      "ZINC06394508\r\n",
      "ZINC65292537\r\n",
      "ZINC65375610\r\n",
      "ZINC31820077\r\n",
      "ZINC65395084\r\n",
      "ZINC00205726\r\n",
      "ZINC01458151\r\n"
     ]
    }
   ],
   "source": [
    "!head project/all-mol2ids.txt"
   ]
  },
  {
   "cell_type": "markdown",
   "metadata": {},
   "source": [
    "- Say we are interested in a subset of molecules only. Consider this example: 1st we create a list of IDs:"
   ]
  },
  {
   "cell_type": "code",
   "execution_count": 7,
   "metadata": {},
   "outputs": [
    {
     "name": "stdout",
     "output_type": "stream",
     "text": [
      "Overwriting project/random-sample-of-mol2ids.txt\n"
     ]
    }
   ],
   "source": [
    "%%writefile project/random-sample-of-mol2ids.txt\n",
    "ZINC65255333\n",
    "ZINC06394508\n",
    "ZINC65292537\n",
    "ZINC65375610\n",
    "ZINC31820077"
   ]
  },
  {
   "cell_type": "markdown",
   "metadata": {},
   "source": [
    "### Whitelisting"
   ]
  },
  {
   "cell_type": "code",
   "execution_count": 8,
   "metadata": {},
   "outputs": [
    {
     "name": "stdout",
     "output_type": "stream",
     "text": [
      "Processing 1.mol2 | scanned 10000 molecules | 17030 mol/sec\n",
      "Processing 2.mol2 | scanned 10000 molecules | 17095 mol/sec\n",
      "Processing 3.mol2 | scanned 10000 molecules | 17176 mol/sec\n",
      "Processing 4.mol2 | scanned 10000 molecules | 16746 mol/sec\n",
      "Processing 5.mol2 | scanned 10000 molecules | 17894 mol/sec\n",
      "Processing 6.mol2 | scanned 10000 molecules | 17808 mol/sec\n",
      "Processing 7.mol2 | scanned 10000 molecules | 17681 mol/sec\n",
      "Finished\n"
     ]
    }
   ],
   "source": [
    "!python ../../../../tools/id_to_mol2.py \\\n",
    "--input dataset/mol2 \\\n",
    "--output project/random-sample-of-mol2ids_mol2s_1 \\\n",
    "--id_file project/random-sample-of-mol2ids.txt \\\n",
    "--whitelist True"
   ]
  },
  {
   "cell_type": "markdown",
   "metadata": {},
   "source": [
    "Now, the output directory, `80698/proj-1/selected-example-mol2ids`, should contain only mol2 files with the selected IDs:"
   ]
  },
  {
   "cell_type": "code",
   "execution_count": 9,
   "metadata": {},
   "outputs": [
    {
     "name": "stdout",
     "output_type": "stream",
     "text": [
      "1.mol2 2.mol2 3.mol2 4.mol2 5.mol2 6.mol2 7.mol2\r\n"
     ]
    }
   ],
   "source": [
    "!ls project/random-sample-of-mol2ids_mol2s_1"
   ]
  },
  {
   "cell_type": "code",
   "execution_count": 10,
   "metadata": {},
   "outputs": [
    {
     "name": "stdout",
     "output_type": "stream",
     "text": [
      "1.mol2 : 5\r\n",
      "2.mol2 : 0\r\n",
      "3.mol2 : 0\r\n",
      "4.mol2 : 0\r\n",
      "5.mol2 : 0\r\n",
      "6.mol2 : 0\r\n",
      "7.mol2 : 0\r\n",
      "Total : 5\r\n"
     ]
    }
   ],
   "source": [
    "!python ../../../../tools/count_mol2.py \\\n",
    "--input project/random-sample-of-mol2ids_mol2s_1"
   ]
  },
  {
   "cell_type": "markdown",
   "metadata": {},
   "source": [
    "### Blacklisting"
   ]
  },
  {
   "cell_type": "markdown",
   "metadata": {},
   "source": [
    "Similar to the previous approach, using a whitelist filter, we can do blacklist filtering, which means that all molecules are selected but the ones contained in the ID files. Set whitelist to False."
   ]
  },
  {
   "cell_type": "code",
   "execution_count": 11,
   "metadata": {},
   "outputs": [
    {
     "name": "stdout",
     "output_type": "stream",
     "text": [
      "Processing 1.mol2 | scanned 10000 molecules | 14094 mol/sec\n",
      "Processing 2.mol2 | scanned 10000 molecules | 13256 mol/sec\n",
      "Processing 3.mol2 | scanned 10000 molecules | 13598 mol/sec\n",
      "Processing 4.mol2 | scanned 10000 molecules | 12648 mol/sec\n",
      "Processing 5.mol2 | scanned 10000 molecules | 12714 mol/sec\n",
      "Processing 6.mol2 | scanned 10000 molecules | 12869 mol/sec\n",
      "Processing 7.mol2 | scanned 10000 molecules | 12863 mol/sec\n",
      "Finished\n"
     ]
    }
   ],
   "source": [
    "!python ../../../../tools/id_to_mol2.py \\\n",
    "--input dataset/mol2 \\\n",
    "--output project/random-sample-of-mol2ids_mol2s_2 \\\n",
    "--id_file project/random-sample-of-mol2ids.txt \\\n",
    "--whitelist False"
   ]
  },
  {
   "cell_type": "code",
   "execution_count": 12,
   "metadata": {},
   "outputs": [
    {
     "name": "stdout",
     "output_type": "stream",
     "text": [
      "1.mol2 : 9995\n",
      "2.mol2 : 10000\n",
      "3.mol2 : 10000\n",
      "4.mol2 : 10000\n",
      "5.mol2 : 10000\n",
      "6.mol2 : 10000\n",
      "7.mol2 : 10000\n",
      "Total : 69995\n"
     ]
    }
   ],
   "source": [
    "!python ../../../../tools/count_mol2.py -i project/random-sample-of-mol2ids_mol2s_2"
   ]
  },
  {
   "cell_type": "markdown",
   "metadata": {},
   "source": [
    "# First Filtering Step -- Filtering via Features from Data Tables"
   ]
  },
  {
   "cell_type": "code",
   "execution_count": 13,
   "metadata": {},
   "outputs": [
    {
     "name": "stdout",
     "output_type": "stream",
     "text": [
      "ZINC_ID\tMWT\tLogP\tDesolv_apolar\tDesolv_polar\tHBD\tHBA\ttPSA\tCharge\tNRB\tSMILES\r\n",
      "ZINC00000010\t217.2\t1.42\t5.57\t-41.98\t0\t4\t66\t-1\t2\tC[C@@]1(C(=O)C=C(O1)C(=O)[O-])c2ccccc2\r\n",
      "ZINC00000012\t289.356\t1.28\t4.89\t-24.55\t2\t4\t66\t0\t5\tc1ccc(cc1)C(c2ccccc2)[S@](=O)CC(=O)NO\r\n",
      "ZINC00000017\t281.337\t1.33\t3.06\t-23.33\t2\t6\t87\t0\t4\tCCC[S@](=O)c1ccc2c(c1)[nH]/c(=N\\C(=O)OC)/[nH]2\r\n",
      "ZINC00000017\t281.337\t1.33\t3.07\t-19.2\t2\t6\t87\t0\t4\tCCC[S@](=O)c1ccc2c(c1)[nH]/c(=N/C(=O)OC)/[nH]2\r\n",
      "ZINC00000018\t212.318\t2.00\t5.87\t-8.2\t1\t3\t32\t0\t4\tCC(C)C[C@@H]1C(=O)N(C(=S)N1)CC=C\r\n",
      "ZINC00000021\t288.411\t3.85\t4.02\t-40.52\t1\t3\t30\t1\t6\tCCC(=O)O[C@]1(CC[NH+](C[C@@H]1CC=C)C)c2ccccc2\r\n",
      "ZINC00000022\t218.276\t3.21\t0.47\t-48.57\t1\t3\t52\t-1\t5\tC[C@@H](c1ccc(cc1)NCC(=C)C)C(=O)[O-]\r\n",
      "ZINC00000025\t251.353\t3.60\t2.4\t-41.56\t2\t2\t40\t1\t5\tC[C@H](Cc1ccccc1)[NH2+][C@@H](C#N)c2ccccc2\r\n",
      "ZINC00000030\t297.422\t2.94\t0.89\t-37.97\t3\t3\t47\t1\t6\tC[C@@H](CC(c1ccccc1)(c2ccccc2)C(=O)N)[NH+](C)C\r\n"
     ]
    }
   ],
   "source": [
    "!head dataset/tables/3_prop.xls"
   ]
  },
  {
   "cell_type": "markdown",
   "metadata": {},
   "source": [
    "- A valid query looks like this:\n",
    " \n",
    "- Correct: `\"(MWT >= 200) & (NRB <= 7)\"`\n",
    "- Wrong: `\"( MWT >= 200) & ( NRB <= 7)\"` [spacing between parentheses and column names]\n",
    "- Wrong: `\"MWT >= 200 & NRB <= 7\"` [expressions seperated by logical '&' operator not enclosed in parentheses]\n",
    "- Wrong: `\"(mwt >= 200) & (nrb <= 7)\"` [column names don't match the columns in the data table file]\n",
    "- Wrong: `\"(mwt>=200) & (nrb<=7)\"` [no whitespace before and after operators for comparison]\n"
   ]
  },
  {
   "cell_type": "code",
   "execution_count": 14,
   "metadata": {},
   "outputs": [
    {
     "name": "stdout",
     "output_type": "stream",
     "text": [
      "Using columns: ['ZINC_ID', 'NRB', 'MWT']\n",
      "Using selection: (chunk.NRB <= 7) & (chunk.MWT >= 200)\n",
      "Processed 18000000 rows | 355868 rows/sec\n",
      "Selected: 17599186\n"
     ]
    }
   ],
   "source": [
    "!python ../../../../tools/datatable_to_id.py \\\n",
    "--input dataset/tables/3_prop.xls \\\n",
    "--output project/prefilter_1/selected-mol2ids.txt \\\n",
    "--id_column ZINC_ID \\\n",
    "--selection \"(NRB <= 7) & (MWT >= 200)\""
   ]
  },
  {
   "cell_type": "markdown",
   "metadata": {},
   "source": [
    "Next, we are going to use these IDs to select molecules from the existing mol2 files:"
   ]
  },
  {
   "cell_type": "code",
   "execution_count": 15,
   "metadata": {},
   "outputs": [
    {
     "name": "stdout",
     "output_type": "stream",
     "text": [
      "Processing 1.mol2 | scanned 10000 molecules | 12869 mol/sec\n",
      "Processing 2.mol2 | scanned 10000 molecules | 9978 mol/sec\n",
      "Processing 3.mol2 | scanned 10000 molecules | 10434 mol/sec\n",
      "Processing 4.mol2 | scanned 10000 molecules | 12147 mol/sec\n",
      "Processing 5.mol2 | scanned 10000 molecules | 12625 mol/sec\n",
      "Processing 6.mol2 | scanned 10000 molecules | 13190 mol/sec\n",
      "Processing 7.mol2 | scanned 10000 molecules | 13364 mol/sec\n",
      "Finished\n"
     ]
    }
   ],
   "source": [
    "!python ../../../../tools/id_to_mol2.py \\\n",
    "--input dataset/mol2 \\\n",
    "--output project/prefilter_1/selected-mol2s \\\n",
    "--id_file project/prefilter_1/selected-mol2ids.txt \\\n",
    "--whitelist True"
   ]
  },
  {
   "cell_type": "code",
   "execution_count": 16,
   "metadata": {},
   "outputs": [
    {
     "name": "stdout",
     "output_type": "stream",
     "text": [
      "1.mol2 : 9829\n",
      "2.mol2 : 9799\n",
      "3.mol2 : 9848\n",
      "4.mol2 : 9835\n",
      "5.mol2 : 9832\n",
      "6.mol2 : 9841\n",
      "7.mol2 : 9841\n",
      "Total : 68825\n"
     ]
    }
   ],
   "source": [
    "!python ../../../../tools/count_mol2.py \\\n",
    "--input project/prefilter_1/selected-mol2s/"
   ]
  },
  {
   "cell_type": "markdown",
   "metadata": {},
   "source": [
    "# Second Filtering Step -- Presence and absence of functional groups"
   ]
  },
  {
   "cell_type": "markdown",
   "metadata": {},
   "source": [
    "- allowed columns\n",
    "  - atom_id\n",
    "  - atom_name\n",
    "  - atom_type\n",
    "  - subst_id\n",
    "  - subst_name\n",
    "  - charge\n",
    "  \n",
    "(may change with updated biopandas)"
   ]
  },
  {
   "cell_type": "markdown",
   "metadata": {},
   "source": [
    "a) simultaneously true (here impossible): \"((atom_type == 'S.3') | (atom_type == 'S.o2')) & (atom_type == 'O.2')\"\n",
    "\n",
    "- tries to find an S.3 or S.o2 atom that is also an O.2 atom at the same time\n",
    "\n",
    "b) simultaneously true and valid: \"((atom_type == 'S.3') | (atom_type == 'S.o2')) & (charge < 0.0)\"\n",
    "\n",
    "- tries to find an S.3 or S.o2 atom that has a negative charge\n",
    "\n",
    "c) otherwise, \"((atom_type == 'S.3') | (atom_type == 'S.o2')) --> (atom_type == 'O.2')\"\n",
    "\n",
    "- tries to find an S.3 or S.o2 atom, then tries to find an O.2 atom as well\n",
    "\n",
    "d) when in doubt, one can run (as alternative for c) the tool 2 times. 1 time to select \"(atom_type == 'S.3') | (atom_type == 'S.o2')\" and a second time to select \"(atom_type == 'O.2')\"."
   ]
  },
  {
   "cell_type": "code",
   "execution_count": null,
   "metadata": {},
   "outputs": [
    {
     "name": "stdout",
     "output_type": "stream",
     "text": [
      "Using selection: [\"((pdmol.df.atom_type == 'S.3') | (pdmol.df.atom_type == 'S.o2'))\", \"(pdmol.df.atom_type == 'O.2')\"]\n",
      "Processing 1.mol2 | 351 mol/sec\n",
      "Processing 2.mol2 | 364 mol/sec\n",
      "Processing 3.mol2 | 348 mol/sec\n",
      "Processing 4.mol2 | 329 mol/sec\n",
      "Processing 5.mol2"
     ]
    }
   ],
   "source": [
    "!python ../../../../tools/funcgroup_to_id.py \\\n",
    "--input project/prefilter_1/selected-mol2s/ \\\n",
    "--output project/prefilter_2/3keto-and-sulfur-mol2ids.txt \\\n",
    "--selection \"((atom_type == 'S.3') | (atom_type == 'S.o2')) --> (atom_type == 'O.2')\" \\\n",
    "--processes 0"
   ]
  },
  {
   "cell_type": "code",
   "execution_count": 18,
   "metadata": {},
   "outputs": [
    {
     "name": "stdout",
     "output_type": "stream",
     "text": [
      "Processing 1.mol2 | scanned 9829 molecules | 12209 mol/sec\n",
      "Processing 2.mol2 | scanned 9799 molecules | 15392 mol/sec\n",
      "Processing 3.mol2 | scanned 9848 molecules | 12854 mol/sec\n",
      "Processing 4.mol2 | scanned 9835 molecules | 11223 mol/sec\n",
      "Processing 5.mol2 | scanned 9832 molecules | 12398 mol/sec\n",
      "Processing 6.mol2 | scanned 9841 molecules | 12885 mol/sec\n",
      "Processing 7.mol2 | scanned 9841 molecules | 12163 mol/sec\n",
      "Finished\n"
     ]
    }
   ],
   "source": [
    "!python ../../../../tools/id_to_mol2.py \\\n",
    "--input project/prefilter_1/selected-mol2s \\\n",
    "--output  project/prefilter_2/3keto-and-sulfur-mol2s \\\n",
    "--id_file project/prefilter_2/3keto-and-sulfur-mol2ids.txt \\\n",
    "--whitelist True"
   ]
  },
  {
   "cell_type": "code",
   "execution_count": 21,
   "metadata": {},
   "outputs": [
    {
     "name": "stdout",
     "output_type": "stream",
     "text": [
      "1.mol2 : 2768\n",
      "2.mol2 : 2795\n",
      "3.mol2 : 2746\n",
      "4.mol2 : 2847\n",
      "5.mol2 : 2723\n",
      "6.mol2 : 2859\n",
      "7.mol2 : 2815\n",
      "Total : 19553\n"
     ]
    }
   ],
   "source": [
    "!python ../../../../tools/count_mol2.py \\\n",
    "--input project/prefilter_2/3keto-and-sulfur-mol2s"
   ]
  },
  {
   "cell_type": "markdown",
   "metadata": {},
   "source": [
    "# Third Filtering Step -- Distance between functional groups"
   ]
  },
  {
   "cell_type": "markdown",
   "metadata": {},
   "source": [
    "- could be done after omega"
   ]
  },
  {
   "cell_type": "code",
   "execution_count": 111,
   "metadata": {},
   "outputs": [
    {
     "name": "stdout",
     "output_type": "stream",
     "text": [
      "Using selection: [\"((pdmol.df.atom_type == 'S.3') | (pdmol.df.atom_type == 'S.o2'))\", \"(pdmol.df.atom_type == 'O.2')\"]\n",
      "Processing 1.mol2 | 233 mol/sec\n",
      "Processing 2.mol2 | 217 mol/sec\n",
      "Processing 3.mol2 | 222 mol/sec\n",
      "Processing 4.mol2 | 226 mol/sec\n",
      "Processing 5.mol2 | 235 mol/sec\n",
      "Processing 6.mol2 | 208 mol/sec\n",
      "Processing 7.mol2 | 228 mol/sec\n"
     ]
    }
   ],
   "source": [
    "!python ../../../../tools/funcgroup_distance_to_id.py \\\n",
    "--input project/prefilter_2/3keto-and-sulfur-mol2s \\\n",
    "--output project/prefilter_3/3keto-and-sulfur_distance-mol2ids.txt \\\n",
    "--selection \"((atom_type == 'S.3') | (atom_type == 'S.o2')) --> (atom_type == 'O.2')\" \\\n",
    "--distance \"13-20\" \\\n",
    "--processes 0"
   ]
  },
  {
   "cell_type": "code",
   "execution_count": 26,
   "metadata": {},
   "outputs": [
    {
     "name": "stdout",
     "output_type": "stream",
     "text": [
      "Processing 1.mol2 | scanned 2768 molecules | 15635 mol/sec\n",
      "Processing 2.mol2 | scanned 2795 molecules | 14949 mol/sec\n",
      "Processing 3.mol2 | scanned 2746 molecules | 14531 mol/sec\n",
      "Processing 4.mol2 | scanned 2847 molecules | 15620 mol/sec\n",
      "Processing 5.mol2 | scanned 2723 molecules | 15973 mol/sec\n",
      "Processing 6.mol2 | scanned 2859 molecules | 15512 mol/sec\n",
      "Processing 7.mol2 | scanned 2815 molecules | 16004 mol/sec\n",
      "Finished\n"
     ]
    }
   ],
   "source": [
    "!python ../../../../tools/id_to_mol2.py \\\n",
    "--input project/prefilter_2/3keto-and-sulfur-mol2s \\\n",
    "--output project/prefilter_3/3keto-and-sulfur_distance-mol2s \\\n",
    "--id_file project/prefilter_3/3keto-and-sulfur_distance-mol2ids.txt \\\n",
    "--whitelist True"
   ]
  },
  {
   "cell_type": "code",
   "execution_count": 28,
   "metadata": {},
   "outputs": [
    {
     "name": "stdout",
     "output_type": "stream",
     "text": [
      "1.mol2 : 35\n",
      "2.mol2 : 32\n",
      "3.mol2 : 38\n",
      "4.mol2 : 40\n",
      "5.mol2 : 32\n",
      "6.mol2 : 32\n",
      "7.mol2 : 37\n",
      "Total : 246\n"
     ]
    }
   ],
   "source": [
    "!python ../../../../tools/count_mol2.py \\\n",
    "--input project/prefilter_3/3keto-and-sulfur_distance-mol2s"
   ]
  },
  {
   "cell_type": "markdown",
   "metadata": {},
   "source": [
    "# Generating Conformers via Omega"
   ]
  },
  {
   "cell_type": "code",
   "execution_count": 18,
   "metadata": {},
   "outputs": [
    {
     "name": "stdout",
     "output_type": "stream",
     "text": [
      "Slave started on host Sebastians-MacBook-Pro\n",
      "Slave started on host Sebastians-MacBook-Pro\n",
      "Slave started on host Sebastians-MacBook-Pro\n",
      "\n",
      "          :jGf:             .d8888b. 88d8b.d8b. .d8888b. .d8888b. .d8888b.\n",
      "        :jGDDDDf:           88'  `88 88'`88'`88 88ooood8 88'  `88 88'  `88\n",
      "      ,fDDDGjLDDDf,         88.  .88 88  88  88 88.  ... 88.  .88 88.  .88\n",
      "    ,fDDLt:   :iLDDL;       `88888P' dP  dP  dP `88888P' `8888P88 `88888P8\n",
      "  ;fDLt:         :tfDG;                                       .88\n",
      ",jft:   ,ijfffji,   :iff                                  d8888P\n",
      "     .jGDDDDDDDDDGt.      \n",
      "    ;GDDGt:''':tDDDG,          Copyright (c) 2004-2013\n",
      "   .DDDG:       :GDDG.         OpenEye Scientific Software, Inc.\n",
      "   ;DDDj         tDDDi    \n",
      "   ,DDDf         fDDD,         Version: 2.5.1.4\n",
      "    LDDDt.     .fDDDj          Built:   20130515\n",
      "    .tDDDDfjtjfDDDGt           OEChem version: 1.9.1\n",
      "      :ifGDDDDDGfi.            Platform: osx-10.8-clang++4-x64\n",
      "          .:::.                \n",
      "  ......................       \n",
      "  DDDDDDDDDDDDDDDDDDDDDD       \n",
      "  DDDDDDDDDDDDDDDDDDDDDD       \n",
      "\n",
      "Supported run modes:\n",
      "  Single processor\n",
      "  MPI Multiprocessor\n",
      "\n",
      "  Licensed for the exclusive use of The Laboratory of Leslie Kuhn.\n",
      "  Licensed for use only in Michigan State University.\n",
      "  License expires on October 20, 2017.\n",
      "\n",
      "\n",
      "To cite OMEGA please use the following:\n",
      "  OMEGA 2.5.1.4: OpenEye Scientific Software, Santa Fe, NM.\n",
      "  http://www.eyesopen.com.\n",
      "\n",
      "  Hawkins, P.C.D.; Skillman, A.G.; Warren, G.L.; Ellingson, B.A.; Stahl, M.T.\n",
      "  Conformer Generation with OMEGA: Algorithm and Validation Using High\n",
      "  Quality Structures from the Protein Databank and the Cambridge \n",
      "  Structural Database. J. Chem. Inf. Model. 2010, 50, 572-584.\n",
      "\n",
      "Running as MPI Master\n",
      "...fur_distance-mol2s/1.mol2|****************************************|100.00%\n",
      "Slave started on host Sebastians-MacBook-Pro\n",
      "Slave started on host Sebastians-MacBook-Pro\n",
      "Slave started on host Sebastians-MacBook-Pro\n",
      "\n",
      "          :jGf:             .d8888b. 88d8b.d8b. .d8888b. .d8888b. .d8888b.\n",
      "        :jGDDDDf:           88'  `88 88'`88'`88 88ooood8 88'  `88 88'  `88\n",
      "      ,fDDDGjLDDDf,         88.  .88 88  88  88 88.  ... 88.  .88 88.  .88\n",
      "    ,fDDLt:   :iLDDL;       `88888P' dP  dP  dP `88888P' `8888P88 `88888P8\n",
      "  ;fDLt:         :tfDG;                                       .88\n",
      ",jft:   ,ijfffji,   :iff                                  d8888P\n",
      "     .jGDDDDDDDDDGt.      \n",
      "    ;GDDGt:''':tDDDG,          Copyright (c) 2004-2013\n",
      "   .DDDG:       :GDDG.         OpenEye Scientific Software, Inc.\n",
      "   ;DDDj         tDDDi    \n",
      "   ,DDDf         fDDD,         Version: 2.5.1.4\n",
      "    LDDDt.     .fDDDj          Built:   20130515\n",
      "    .tDDDDfjtjfDDDGt           OEChem version: 1.9.1\n",
      "      :ifGDDDDDGfi.            Platform: osx-10.8-clang++4-x64\n",
      "          .:::.                \n",
      "  ......................       \n",
      "  DDDDDDDDDDDDDDDDDDDDDD       \n",
      "  DDDDDDDDDDDDDDDDDDDDDD       \n",
      "\n",
      "Supported run modes:\n",
      "  Single processor\n",
      "  MPI Multiprocessor\n",
      "\n",
      "  Licensed for the exclusive use of The Laboratory of Leslie Kuhn.\n",
      "  Licensed for use only in Michigan State University.\n",
      "  License expires on October 20, 2017.\n",
      "\n",
      "\n",
      "To cite OMEGA please use the following:\n",
      "  OMEGA 2.5.1.4: OpenEye Scientific Software, Santa Fe, NM.\n",
      "  http://www.eyesopen.com.\n",
      "\n",
      "  Hawkins, P.C.D.; Skillman, A.G.; Warren, G.L.; Ellingson, B.A.; Stahl, M.T.\n",
      "  Conformer Generation with OMEGA: Algorithm and Validation Using High\n",
      "  Quality Structures from the Protein Databank and the Cambridge \n",
      "  Structural Database. J. Chem. Inf. Model. 2010, 50, 572-584.\n",
      "\n",
      "Running as MPI Master\n",
      "...fur_distance-mol2s/2.mol2|****************************************|100.00%\n",
      "Slave started on host Sebastians-MacBook-Pro\n",
      "Slave started on host Sebastians-MacBook-Pro\n",
      "\n",
      "          :jGf:             .d8888b. 88d8b.d8b. .d8888b. .d8888b. .d8888b.\n",
      "        :jGDDDDf:           88'  `88 88'`88'`88 88ooood8 88'  `88 88'  `88\n",
      "      ,fDDDGjLDDDf,         88.  .88 88  88  88 88.  ... 88.  .88 88.  .88\n",
      "    ,fDDLt:   :iLDDL;       `88888P' dP  dP  dP `88888P' `8888P88 `88888P8\n",
      "  ;fDLt:         :tfDG;                                       .88\n",
      ",jft:   ,ijfffji,   :iff                                  d8888P\n",
      "     .jGDDDDDDDDDGt.      \n",
      "    ;GDDGt:''':tDDDG,          Copyright (c) 2004-2013\n",
      "   .DDDG:       :GDDG.         OpenEye Scientific Software, Inc.\n",
      "   ;DDDj         tDDDi    \n",
      "   ,DDDf         fDDD,         Version: 2.5.1.4\n",
      "    LDDDt.     .fDDDj          Built:   20130515\n",
      "    .tDDDDfjtjfDDDGt           OEChem version: 1.9.1\n",
      "      :ifGDDDDDGfi.            Platform: osx-10.8-clang++4-x64\n",
      "          .:::.                \n",
      "  ......................       \n",
      "  DDDDDDDDDDDDDDDDDDDDDD       \n",
      "  DDDDDDDDDDDDDDDDDDDDDD       \n",
      "\n",
      "Supported run modes:\n",
      "  Single processor\n",
      "  MPI Multiprocessor\n",
      "\n",
      "  Licensed for the exclusive use of The Laboratory of Leslie Kuhn.\n",
      "  Licensed for use only in Michigan State University.\n",
      "  License expires on October 20, 2017.\n",
      "\n",
      "\n",
      "To cite OMEGA please use the following:\n",
      "  OMEGA 2.5.1.4: OpenEye Scientific Software, Santa Fe, NM.\n",
      "  http://www.eyesopen.com.\n",
      "\n",
      "  Hawkins, P.C.D.; Skillman, A.G.; Warren, G.L.; Ellingson, B.A.; Stahl, M.T.\n",
      "  Conformer Generation with OMEGA: Algorithm and Validation Using High\n",
      "  Quality Structures from the Protein Databank and the Cambridge \n",
      "  Structural Database. J. Chem. Inf. Model. 2010, 50, 572-584.\n",
      "\n",
      "Slave started on host Sebastians-MacBook-Pro\n",
      "Running as MPI Master\n",
      "...fur_distance-mol2s/3.mol2|****************************************|100.00%\n",
      "Slave started on host Sebastians-MacBook-Pro\n",
      "Slave started on host Sebastians-MacBook-Pro\n",
      "\n",
      "          :jGf:             .d8888b. 88d8b.d8b. .d8888b. .d8888b. .d8888b.\n",
      "        :jGDDDDf:           88'  `88 88'`88'`88 88ooood8 88'  `88 88'  `88\n",
      "      ,fDDDGjLDDDf,         88.  .88 88  88  88 88.  ... 88.  .88 88.  .88\n",
      "    ,fDDLt:   :iLDDL;       `88888P' dP  dP  dP `88888P' `8888P88 `88888P8\n",
      "  ;fDLt:         :tfDG;                                       .88\n",
      ",jft:   ,ijfffji,   :iff                                  d8888P\n",
      "     .jGDDDDDDDDDGt.      \n",
      "    ;GDDGt:''':tDDDG,          Copyright (c) 2004-2013\n",
      "   .DDDG:       :GDDG.         OpenEye Scientific Software, Inc.\n",
      "   ;DDDj         tDDDi    \n",
      "   ,DDDf         fDDD,         Version: 2.5.1.4\n",
      "    LDDDt.     .fDDDj          Built:   20130515\n",
      "    .tDDDDfjtjfDDDGt           OEChem version: 1.9.1\n",
      "      :ifGDDDDDGfi.            Platform: osx-10.8-clang++4-x64\n",
      "Slave started on host Sebastians-MacBook-Pro\n",
      "          .:::.                \n",
      "  ......................       \n",
      "  DDDDDDDDDDDDDDDDDDDDDD       \n",
      "  DDDDDDDDDDDDDDDDDDDDDD       \n",
      "\n",
      "Supported run modes:\n",
      "  Single processor\n",
      "  MPI Multiprocessor\n",
      "\n",
      "  Licensed for the exclusive use of The Laboratory of Leslie Kuhn.\n",
      "  Licensed for use only in Michigan State University.\n",
      "  License expires on October 20, 2017.\n",
      "\n",
      "\n",
      "To cite OMEGA please use the following:\n",
      "  OMEGA 2.5.1.4: OpenEye Scientific Software, Santa Fe, NM.\n",
      "  http://www.eyesopen.com.\n",
      "\n",
      "  Hawkins, P.C.D.; Skillman, A.G.; Warren, G.L.; Ellingson, B.A.; Stahl, M.T.\n",
      "  Conformer Generation with OMEGA: Algorithm and Validation Using High\n",
      "  Quality Structures from the Protein Databank and the Cambridge \n",
      "  Structural Database. J. Chem. Inf. Model. 2010, 50, 572-584.\n",
      "\n",
      "Running as MPI Master\n",
      "...fur_distance-mol2s/4.mol2|****************************************|100.00%\n",
      "Slave started on host Sebastians-MacBook-Pro\n",
      "Slave started on host Sebastians-MacBook-Pro\n",
      "\n",
      "          :jGf:             .d8888b. 88d8b.d8b. .d8888b. .d8888b. .d8888b.\n",
      "        :jGDDDDf:           88'  `88 88'`88'`88 88ooood8 88'  `88 88'  `88\n",
      "      ,fDDDGjLDDDf,         88.  .88 88  88  88 88.  ... 88.  .88 88.  .88\n",
      "    ,fDDLt:   :iLDDL;       `88888P' dP  dP  dP `88888P' `8888P88 `88888P8\n",
      "  ;fDLt:         :tfDG;                                       .88\n",
      ",jft:   ,ijfffji,   :iff                                  d8888P\n",
      "     .jGDDDDDDDDDGt.      \n",
      "    ;GDDGt:''':tDDDG,          Copyright (c) 2004-2013\n",
      "   .DDDG:       :GDDG.         OpenEye Scientific Software, Inc.\n",
      "   ;DDDj         tDDDi    \n",
      "   ,DDDf         fDDD,         Version: 2.5.1.4\n",
      "    LDDDt.     .fDDDj          Built:   20130515\n",
      "    .tDDDDfjtjfDDDGt           OEChem version: 1.9.1\n",
      "      :ifGDDDDDGfi.            Platform: osx-10.8-clang++4-x64\n",
      "          .:::.                \n",
      "  ......................       \n",
      "  DDDDDDDDDDDDDDDDDDDDDD       \n",
      "  DDDDDDDDDDDDDDDDDDDDDD       \n",
      "\n",
      "Supported run modes:\n",
      "  Single processor\n",
      "  MPI Multiprocessor\n",
      "\n",
      "  Licensed for the exclusive use of The Laboratory of Leslie Kuhn.\n",
      "  Licensed for use only in Michigan State University.\n",
      "  License expires on October 20, 2017.\n",
      "\n",
      "\n",
      "To cite OMEGA please use the following:\n",
      "  OMEGA 2.5.1.4: OpenEye Scientific Software, Santa Fe, NM.\n",
      "  http://www.eyesopen.com.\n",
      "\n",
      "  Hawkins, P.C.D.; Skillman, A.G.; Warren, G.L.; Ellingson, B.A.; Stahl, M.T.\n",
      "  Conformer Generation with OMEGA: Algorithm and Validation Using High\n",
      "  Quality Structures from the Protein Databank and the Cambridge \n",
      "  Structural Database. J. Chem. Inf. Model. 2010, 50, 572-584.\n",
      "\n",
      "Slave started on host Sebastians-MacBook-Pro\n",
      "Running as MPI Master\n"
     ]
    },
    {
     "name": "stdout",
     "output_type": "stream",
     "text": [
      "...fur_distance-mol2s/5.mol2|****************************************|100.00%\n",
      "Slave started on host Sebastians-MacBook-Pro\n",
      "Slave started on host Sebastians-MacBook-Pro\n",
      "Slave started on host Sebastians-MacBook-Pro\n",
      "\n",
      "          :jGf:             .d8888b. 88d8b.d8b. .d8888b. .d8888b. .d8888b.\n",
      "        :jGDDDDf:           88'  `88 88'`88'`88 88ooood8 88'  `88 88'  `88\n",
      "      ,fDDDGjLDDDf,         88.  .88 88  88  88 88.  ... 88.  .88 88.  .88\n",
      "    ,fDDLt:   :iLDDL;       `88888P' dP  dP  dP `88888P' `8888P88 `88888P8\n",
      "  ;fDLt:         :tfDG;                                       .88\n",
      ",jft:   ,ijfffji,   :iff                                  d8888P\n",
      "     .jGDDDDDDDDDGt.      \n",
      "    ;GDDGt:''':tDDDG,          Copyright (c) 2004-2013\n",
      "   .DDDG:       :GDDG.         OpenEye Scientific Software, Inc.\n",
      "   ;DDDj         tDDDi    \n",
      "   ,DDDf         fDDD,         Version: 2.5.1.4\n",
      "    LDDDt.     .fDDDj          Built:   20130515\n",
      "    .tDDDDfjtjfDDDGt           OEChem version: 1.9.1\n",
      "      :ifGDDDDDGfi.            Platform: osx-10.8-clang++4-x64\n",
      "          .:::.                \n",
      "  ......................       \n",
      "  DDDDDDDDDDDDDDDDDDDDDD       \n",
      "  DDDDDDDDDDDDDDDDDDDDDD       \n",
      "\n",
      "Supported run modes:\n",
      "  Single processor\n",
      "  MPI Multiprocessor\n",
      "\n",
      "  Licensed for the exclusive use of The Laboratory of Leslie Kuhn.\n",
      "  Licensed for use only in Michigan State University.\n",
      "  License expires on October 20, 2017.\n",
      "\n",
      "\n",
      "To cite OMEGA please use the following:\n",
      "  OMEGA 2.5.1.4: OpenEye Scientific Software, Santa Fe, NM.\n",
      "  http://www.eyesopen.com.\n",
      "\n",
      "  Hawkins, P.C.D.; Skillman, A.G.; Warren, G.L.; Ellingson, B.A.; Stahl, M.T.\n",
      "  Conformer Generation with OMEGA: Algorithm and Validation Using High\n",
      "  Quality Structures from the Protein Databank and the Cambridge \n",
      "  Structural Database. J. Chem. Inf. Model. 2010, 50, 572-584.\n",
      "\n",
      "Running as MPI Master\n",
      "...fur_distance-mol2s/6.mol2|****************************************|100.00%\n",
      "Slave started on host Sebastians-MacBook-Pro\n",
      "Slave started on host Sebastians-MacBook-Pro\n",
      "\n",
      "          :jGf:             .d8888b. 88d8b.d8b. .d8888b. .d8888b. .d8888b.\n",
      "        :jGDDDDf:           88'  `88 88'`88'`88 88ooood8 88'  `88 88'  `88\n",
      "      ,fDDDGjLDDDf,         88.  .88 88  88  88 88.  ... 88.  .88 88.  .88\n",
      "    ,fDDLt:   :iLDDL;       `88888P' dP  dP  dP `88888P' `8888P88 `88888P8\n",
      "  ;fDLt:         :tfDG;                                       .88\n",
      ",jft:   ,ijfffji,   :iff                                  d8888P\n",
      "     .jGDDDDDDDDDGt.      \n",
      "    ;GDDGt:''':tDDDG,          Copyright (c) 2004-2013\n",
      "   .DDDG:       :GDDG.         OpenEye Scientific Software, Inc.\n",
      "   ;DDDj         tDDDi    \n",
      "   ,DDDf         fDDD,         Version: 2.5.1.4\n",
      "    LDDDt.     .fDDDj          Built:   20130515\n",
      "    .tDDDDfjtjfDDDGt           OEChem version: 1.9.1\n",
      "      :ifGDDDDDGfi.            Platform: osx-10.8-clang++4-x64\n",
      "Slave started on host Sebastians-MacBook-Pro\n",
      "          .:::.                \n",
      "  ......................       \n",
      "  DDDDDDDDDDDDDDDDDDDDDD       \n",
      "  DDDDDDDDDDDDDDDDDDDDDD       \n",
      "\n",
      "Supported run modes:\n",
      "  Single processor\n",
      "  MPI Multiprocessor\n",
      "\n",
      "  Licensed for the exclusive use of The Laboratory of Leslie Kuhn.\n",
      "  Licensed for use only in Michigan State University.\n",
      "  License expires on October 20, 2017.\n",
      "\n",
      "\n",
      "To cite OMEGA please use the following:\n",
      "  OMEGA 2.5.1.4: OpenEye Scientific Software, Santa Fe, NM.\n",
      "  http://www.eyesopen.com.\n",
      "\n",
      "  Hawkins, P.C.D.; Skillman, A.G.; Warren, G.L.; Ellingson, B.A.; Stahl, M.T.\n",
      "  Conformer Generation with OMEGA: Algorithm and Validation Using High\n",
      "  Quality Structures from the Protein Databank and the Cambridge \n",
      "  Structural Database. J. Chem. Inf. Model. 2010, 50, 572-584.\n",
      "\n",
      "Running as MPI Master\n",
      "...fur_distance-mol2s/7.mol2|****************************************|100.00%\n"
     ]
    }
   ],
   "source": [
    "!python ../../../../tools/run_omega.py \\\n",
    "--input project/prefilter_3/3keto-and-sulfur_distance-mol2s \\\n",
    "--output project/omega_confomers/ \\\n",
    "--executable \"/Applications/OMEGA 2.5.1.4.app/Contents/MacOS/omega2-2.5.1.4\" \\\n",
    "--processes 0"
   ]
  },
  {
   "cell_type": "code",
   "execution_count": 19,
   "metadata": {},
   "outputs": [
    {
     "name": "stdout",
     "output_type": "stream",
     "text": [
      "1.mol2 : 6531\n",
      "2.mol2 : 5840\n",
      "3.mol2 : 6686\n",
      "4.mol2 : 7402\n",
      "5.mol2 : 5987\n",
      "6.mol2 : 5833\n",
      "7.mol2 : 6725\n",
      "Total : 45004\n"
     ]
    }
   ],
   "source": [
    "!python ../../../../tools/count_mol2.py \\\n",
    "--input project/omega_confomers/"
   ]
  },
  {
   "cell_type": "markdown",
   "metadata": {},
   "source": [
    "# Overlaying conformers with query using ROCS"
   ]
  },
  {
   "cell_type": "code",
   "execution_count": 7,
   "metadata": {},
   "outputs": [
    {
     "name": "stdout",
     "output_type": "stream",
     "text": [
      "Processing 1.mol2\n",
      "Slave started on host Sebastians-MacBook-Pro\n",
      "Slave started on host Sebastians-MacBook-Pro\n",
      "Slave started on host Sebastians-MacBook-Pro\n",
      "          :jGf:               \n",
      "        :jGDDDDf:             \n",
      "      ,fDDDGjLDDDf,           'a8  ,a'8b   a''8b    a''8b  a8f'8\n",
      "    ,fDDLt:   :iLDDL;          88 a/  88  d'   8b  d'  88  88'  \n",
      "  ;fDLt:         :tfDG;        88P    8f d8    88 d8       '88aa\n",
      ",jft:   ,ijfffji,   :iff       8P        88    8P 88      a  '888\n",
      "     .jGDDDDDDDDDGt.           8i        88   d8  Y8   ,d 8    8P\n",
      "    ;GDDGt:''':tDDDG,          a8/        `88aa'    '8aa'  'baa8'\n",
      "   .DDDG:       :GDDG.    \n",
      "   ;DDDj         tDDDi    \n",
      "   ,DDDf         fDDD,         Copyright (C) 1997-2015\n",
      "    LDDDt.     .fDDDj          OpenEye Scientific Software, Inc.\n",
      "    .tDDDDfjtjfDDDGt      \n",
      "      :ifGDDDDDGfi.            Version: 3.2.1.4\n",
      "          .:::.                Built:   20150831\n",
      "  ......................       OEChem version: 2.0.4\n",
      "  DDDDDDDDDDDDDDDDDDDDDD       Platform: osx-10.10-clang++6-x64\n",
      "  DDDDDDDDDDDDDDDDDDDDDD  \n",
      "\n",
      "Supported run modes:\n",
      "  Single processor\n",
      "  MPI Multiprocessor\n",
      "\n",
      "  Licensed for the exclusive use of The Laboratory of Leslie Kuhn.\n",
      "  Licensed for use only in Michigan State University.\n",
      "  License expires on October 20, 2017.\n",
      "\n",
      "\n",
      "To cite ROCS please use the following:\n",
      "  ROCS 3.2.1.4: OpenEye Scientific Software, Santa Fe, NM.\n",
      "  http://www.eyesopen.com.\n",
      "\n",
      "  Hawkins, P.C.D.; Skillman, A.G.; Nicholls, A. Comparison of Shape-Matching\n",
      "  and Docking as Virtual Screening Tools. J. Med. Chem., 2007, 50, 74.\n",
      "\n",
      "Running as MPI Master\n",
      "  database file: project/omega_confomers/1.mol2\n",
      "\n",
      "Query being read from:         \tdataset/query/3kpzs_conf_subset_nowarts.mol2\n",
      "File prefix is:                \tproject/rocs_overlays_nowarts/1\n",
      "Output directory:              \t/Users/sebastian/code/screenlamp/docs/sources/workflow/example_1\n",
      "Log file will be written to: \tproject/rocs_overlays_nowarts/1.log\n",
      "Statistics will be written to:\tproject/rocs_overlays_nowarts/1_1.rpt\n",
      "Hit structures will written to:\tproject/rocs_overlays_nowarts/1_hits_1.mol2\n",
      "Status file will be written to:\tproject/rocs_overlays_nowarts/1_1.status\n",
      "\n",
      "Query(#1): 3KPZS has 35 conformer(s)\n",
      "Database 1 of 1:              \tproject/omega_confomers/1.mol2\n",
      "...ct/omega_confomers/1.mol2|****************************************|100.00%\n",
      "\n",
      "35 molecules in 67 seconds -> 0.5 molecules/sec\n",
      "                              3412 overlays/sec\n",
      "\n",
      "35 hits found\n",
      "=================================================\n",
      "\n",
      "Molecule read failures: 0\n",
      "#warnings             : 0\n",
      "#errors               : 0\n",
      "#queries processed    : 1\n",
      "Processing 2.mol2\n",
      "Slave started on host Sebastians-MacBook-Pro\n",
      "Slave started on host Sebastians-MacBook-Pro\n",
      "Slave started on host Sebastians-MacBook-Pro\n",
      "          :jGf:               \n",
      "        :jGDDDDf:             \n",
      "      ,fDDDGjLDDDf,           'a8  ,a'8b   a''8b    a''8b  a8f'8\n",
      "    ,fDDLt:   :iLDDL;          88 a/  88  d'   8b  d'  88  88'  \n",
      "  ;fDLt:         :tfDG;        88P    8f d8    88 d8       '88aa\n",
      ",jft:   ,ijfffji,   :iff       8P        88    8P 88      a  '888\n",
      "     .jGDDDDDDDDDGt.           8i        88   d8  Y8   ,d 8    8P\n",
      "    ;GDDGt:''':tDDDG,          a8/        `88aa'    '8aa'  'baa8'\n",
      "   .DDDG:       :GDDG.    \n",
      "   ;DDDj         tDDDi    \n",
      "   ,DDDf         fDDD,         Copyright (C) 1997-2015\n",
      "    LDDDt.     .fDDDj          OpenEye Scientific Software, Inc.\n",
      "    .tDDDDfjtjfDDDGt      \n",
      "      :ifGDDDDDGfi.            Version: 3.2.1.4\n",
      "          .:::.                Built:   20150831\n",
      "  ......................       OEChem version: 2.0.4\n",
      "  DDDDDDDDDDDDDDDDDDDDDD       Platform: osx-10.10-clang++6-x64\n",
      "  DDDDDDDDDDDDDDDDDDDDDD  \n",
      "\n",
      "Supported run modes:\n",
      "  Single processor\n",
      "  MPI Multiprocessor\n",
      "\n",
      "  Licensed for the exclusive use of The Laboratory of Leslie Kuhn.\n",
      "  Licensed for use only in Michigan State University.\n",
      "  License expires on October 20, 2017.\n",
      "\n",
      "\n",
      "To cite ROCS please use the following:\n",
      "  ROCS 3.2.1.4: OpenEye Scientific Software, Santa Fe, NM.\n",
      "  http://www.eyesopen.com.\n",
      "\n",
      "  Hawkins, P.C.D.; Skillman, A.G.; Nicholls, A. Comparison of Shape-Matching\n",
      "  and Docking as Virtual Screening Tools. J. Med. Chem., 2007, 50, 74.\n",
      "\n",
      "Running as MPI Master\n",
      "  database file: project/omega_confomers/2.mol2\n",
      "\n",
      "Query being read from:         \tdataset/query/3kpzs_conf_subset_nowarts.mol2\n",
      "File prefix is:                \tproject/rocs_overlays_nowarts/2\n",
      "Output directory:              \t/Users/sebastian/code/screenlamp/docs/sources/workflow/example_1\n",
      "Log file will be written to: \tproject/rocs_overlays_nowarts/2.log\n",
      "Statistics will be written to:\tproject/rocs_overlays_nowarts/2_1.rpt\n",
      "Hit structures will written to:\tproject/rocs_overlays_nowarts/2_hits_1.mol2\n",
      "Status file will be written to:\tproject/rocs_overlays_nowarts/2_1.status\n",
      "\n",
      "Query(#1): 3KPZS has 35 conformer(s)\n",
      "Database 1 of 1:              \tproject/omega_confomers/2.mol2\n",
      "...ct/omega_confomers/2.mol2|****************************************|100.00%\n",
      "\n",
      "32 molecules in 59 seconds -> 0.5 molecules/sec\n",
      "                              3464 overlays/sec\n",
      "\n",
      "32 hits found\n",
      "=================================================\n",
      "\n",
      "Molecule read failures: 0\n",
      "#warnings             : 0\n",
      "#errors               : 0\n",
      "#queries processed    : 1\n",
      "Processing 3.mol2\n",
      "Slave started on host Sebastians-MacBook-Pro\n",
      "Slave started on host Sebastians-MacBook-Pro\n",
      "Slave started on host Sebastians-MacBook-Pro\n",
      "          :jGf:               \n",
      "        :jGDDDDf:             \n",
      "      ,fDDDGjLDDDf,           'a8  ,a'8b   a''8b    a''8b  a8f'8\n",
      "    ,fDDLt:   :iLDDL;          88 a/  88  d'   8b  d'  88  88'  \n",
      "  ;fDLt:         :tfDG;        88P    8f d8    88 d8       '88aa\n",
      ",jft:   ,ijfffji,   :iff       8P        88    8P 88      a  '888\n",
      "     .jGDDDDDDDDDGt.           8i        88   d8  Y8   ,d 8    8P\n",
      "    ;GDDGt:''':tDDDG,          a8/        `88aa'    '8aa'  'baa8'\n",
      "   .DDDG:       :GDDG.    \n",
      "   ;DDDj         tDDDi    \n",
      "   ,DDDf         fDDD,         Copyright (C) 1997-2015\n",
      "    LDDDt.     .fDDDj          OpenEye Scientific Software, Inc.\n",
      "    .tDDDDfjtjfDDDGt      \n",
      "      :ifGDDDDDGfi.            Version: 3.2.1.4\n",
      "          .:::.                Built:   20150831\n",
      "  ......................       OEChem version: 2.0.4\n",
      "  DDDDDDDDDDDDDDDDDDDDDD       Platform: osx-10.10-clang++6-x64\n",
      "  DDDDDDDDDDDDDDDDDDDDDD  \n",
      "\n",
      "Supported run modes:\n",
      "  Single processor\n",
      "  MPI Multiprocessor\n",
      "\n",
      "  Licensed for the exclusive use of The Laboratory of Leslie Kuhn.\n",
      "  Licensed for use only in Michigan State University.\n",
      "  License expires on October 20, 2017.\n",
      "\n",
      "\n",
      "To cite ROCS please use the following:\n",
      "  ROCS 3.2.1.4: OpenEye Scientific Software, Santa Fe, NM.\n",
      "  http://www.eyesopen.com.\n",
      "\n",
      "  Hawkins, P.C.D.; Skillman, A.G.; Nicholls, A. Comparison of Shape-Matching\n",
      "  and Docking as Virtual Screening Tools. J. Med. Chem., 2007, 50, 74.\n",
      "\n",
      "Running as MPI Master\n",
      "  database file: project/omega_confomers/3.mol2\n",
      "\n",
      "Query being read from:         \tdataset/query/3kpzs_conf_subset_nowarts.mol2\n",
      "File prefix is:                \tproject/rocs_overlays_nowarts/3\n",
      "Output directory:              \t/Users/sebastian/code/screenlamp/docs/sources/workflow/example_1\n",
      "Log file will be written to: \tproject/rocs_overlays_nowarts/3.log\n",
      "Statistics will be written to:\tproject/rocs_overlays_nowarts/3_1.rpt\n",
      "Hit structures will written to:\tproject/rocs_overlays_nowarts/3_hits_1.mol2\n",
      "Status file will be written to:\tproject/rocs_overlays_nowarts/3_1.status\n",
      "\n",
      "Query(#1): 3KPZS has 35 conformer(s)\n",
      "Database 1 of 1:              \tproject/omega_confomers/3.mol2\n",
      "...ct/omega_confomers/3.mol2|****************************************|100.00%\n",
      "\n",
      "38 molecules in 75 seconds -> 0.5 molecules/sec\n",
      "                              3120 overlays/sec\n",
      "\n",
      "38 hits found\n",
      "=================================================\n",
      "\n",
      "Molecule read failures: 0\n",
      "#warnings             : 0\n",
      "#errors               : 0\n",
      "#queries processed    : 1\n",
      "Processing 4.mol2\n",
      "Slave started on host Sebastians-MacBook-Pro\n",
      "Slave started on host Sebastians-MacBook-Pro\n",
      "Slave started on host Sebastians-MacBook-Pro\n",
      "          :jGf:               \n",
      "        :jGDDDDf:             \n",
      "      ,fDDDGjLDDDf,           'a8  ,a'8b   a''8b    a''8b  a8f'8\n",
      "    ,fDDLt:   :iLDDL;          88 a/  88  d'   8b  d'  88  88'  \n",
      "  ;fDLt:         :tfDG;        88P    8f d8    88 d8       '88aa\n",
      ",jft:   ,ijfffji,   :iff       8P        88    8P 88      a  '888\n",
      "     .jGDDDDDDDDDGt.           8i        88   d8  Y8   ,d 8    8P\n",
      "    ;GDDGt:''':tDDDG,          a8/        `88aa'    '8aa'  'baa8'\n",
      "   .DDDG:       :GDDG.    \n",
      "   ;DDDj         tDDDi    \n",
      "   ,DDDf         fDDD,         Copyright (C) 1997-2015\n",
      "    LDDDt.     .fDDDj          OpenEye Scientific Software, Inc.\n",
      "    .tDDDDfjtjfDDDGt      \n",
      "      :ifGDDDDDGfi.            Version: 3.2.1.4\n",
      "          .:::.                Built:   20150831\n",
      "  ......................       OEChem version: 2.0.4\n",
      "  DDDDDDDDDDDDDDDDDDDDDD       Platform: osx-10.10-clang++6-x64\n",
      "  DDDDDDDDDDDDDDDDDDDDDD  \n",
      "\n",
      "Supported run modes:\n",
      "  Single processor\n",
      "  MPI Multiprocessor\n",
      "\n",
      "  Licensed for the exclusive use of The Laboratory of Leslie Kuhn.\n",
      "  Licensed for use only in Michigan State University.\n",
      "  License expires on October 20, 2017.\n",
      "\n",
      "\n",
      "To cite ROCS please use the following:\n",
      "  ROCS 3.2.1.4: OpenEye Scientific Software, Santa Fe, NM.\n",
      "  http://www.eyesopen.com.\n",
      "\n",
      "  Hawkins, P.C.D.; Skillman, A.G.; Nicholls, A. Comparison of Shape-Matching\n",
      "  and Docking as Virtual Screening Tools. J. Med. Chem., 2007, 50, 74.\n",
      "\n",
      "Running as MPI Master\n",
      "  database file: project/omega_confomers/4.mol2\n",
      "\n",
      "Query being read from:         \tdataset/query/3kpzs_conf_subset_nowarts.mol2\n",
      "File prefix is:                \tproject/rocs_overlays_nowarts/4\n",
      "Output directory:              \t/Users/sebastian/code/screenlamp/docs/sources/workflow/example_1\n",
      "Log file will be written to: \tproject/rocs_overlays_nowarts/4.log\n"
     ]
    },
    {
     "name": "stdout",
     "output_type": "stream",
     "text": [
      "Statistics will be written to:\tproject/rocs_overlays_nowarts/4_1.rpt\n",
      "Hit structures will written to:\tproject/rocs_overlays_nowarts/4_hits_1.mol2\n",
      "Status file will be written to:\tproject/rocs_overlays_nowarts/4_1.status\n",
      "\n",
      "Query(#1): 3KPZS has 35 conformer(s)\n",
      "Database 1 of 1:              \tproject/omega_confomers/4.mol2\n",
      "...ct/omega_confomers/4.mol2|****************************************|100.00%\n",
      "\n",
      "40 molecules in 82 seconds -> 0.5 molecules/sec\n",
      "                              3159 overlays/sec\n",
      "\n",
      "40 hits found\n",
      "=================================================\n",
      "\n",
      "Molecule read failures: 0\n",
      "#warnings             : 0\n",
      "#errors               : 0\n",
      "#queries processed    : 1\n",
      "Processing 5.mol2\n",
      "Slave started on host Sebastians-MacBook-Pro\n",
      "Slave started on host Sebastians-MacBook-Pro\n",
      "Slave started on host Sebastians-MacBook-Pro\n",
      "          :jGf:               \n",
      "        :jGDDDDf:             \n",
      "      ,fDDDGjLDDDf,           'a8  ,a'8b   a''8b    a''8b  a8f'8\n",
      "    ,fDDLt:   :iLDDL;          88 a/  88  d'   8b  d'  88  88'  \n",
      "  ;fDLt:         :tfDG;        88P    8f d8    88 d8       '88aa\n",
      ",jft:   ,ijfffji,   :iff       8P        88    8P 88      a  '888\n",
      "     .jGDDDDDDDDDGt.           8i        88   d8  Y8   ,d 8    8P\n",
      "    ;GDDGt:''':tDDDG,          a8/        `88aa'    '8aa'  'baa8'\n",
      "   .DDDG:       :GDDG.    \n",
      "   ;DDDj         tDDDi    \n",
      "   ,DDDf         fDDD,         Copyright (C) 1997-2015\n",
      "    LDDDt.     .fDDDj          OpenEye Scientific Software, Inc.\n",
      "    .tDDDDfjtjfDDDGt      \n",
      "      :ifGDDDDDGfi.            Version: 3.2.1.4\n",
      "          .:::.                Built:   20150831\n",
      "  ......................       OEChem version: 2.0.4\n",
      "  DDDDDDDDDDDDDDDDDDDDDD       Platform: osx-10.10-clang++6-x64\n",
      "  DDDDDDDDDDDDDDDDDDDDDD  \n",
      "\n",
      "Supported run modes:\n",
      "  Single processor\n",
      "  MPI Multiprocessor\n",
      "\n",
      "  Licensed for the exclusive use of The Laboratory of Leslie Kuhn.\n",
      "  Licensed for use only in Michigan State University.\n",
      "  License expires on October 20, 2017.\n",
      "\n",
      "\n",
      "To cite ROCS please use the following:\n",
      "  ROCS 3.2.1.4: OpenEye Scientific Software, Santa Fe, NM.\n",
      "  http://www.eyesopen.com.\n",
      "\n",
      "  Hawkins, P.C.D.; Skillman, A.G.; Nicholls, A. Comparison of Shape-Matching\n",
      "  and Docking as Virtual Screening Tools. J. Med. Chem., 2007, 50, 74.\n",
      "\n",
      "Running as MPI Master\n",
      "  database file: project/omega_confomers/5.mol2\n",
      "\n",
      "Query being read from:         \tdataset/query/3kpzs_conf_subset_nowarts.mol2\n",
      "File prefix is:                \tproject/rocs_overlays_nowarts/5\n",
      "Output directory:              \t/Users/sebastian/code/screenlamp/docs/sources/workflow/example_1\n",
      "Log file will be written to: \tproject/rocs_overlays_nowarts/5.log\n",
      "Statistics will be written to:\tproject/rocs_overlays_nowarts/5_1.rpt\n",
      "Hit structures will written to:\tproject/rocs_overlays_nowarts/5_hits_1.mol2\n",
      "Status file will be written to:\tproject/rocs_overlays_nowarts/5_1.status\n",
      "\n",
      "Query(#1): 3KPZS has 35 conformer(s)\n",
      "Database 1 of 1:              \tproject/omega_confomers/5.mol2\n",
      "...ct/omega_confomers/5.mol2|****************************************|100.00%\n",
      "\n",
      "32 molecules in 67 seconds -> 0.5 molecules/sec\n",
      "                              3128 overlays/sec\n",
      "\n",
      "32 hits found\n",
      "=================================================\n",
      "\n",
      "Molecule read failures: 0\n",
      "#warnings             : 0\n",
      "#errors               : 0\n",
      "#queries processed    : 1\n",
      "Processing 6.mol2\n",
      "Slave started on host Sebastians-MacBook-Pro\n",
      "Slave started on host Sebastians-MacBook-Pro\n",
      "Slave started on host Sebastians-MacBook-Pro\n",
      "          :jGf:               \n",
      "        :jGDDDDf:             \n",
      "      ,fDDDGjLDDDf,           'a8  ,a'8b   a''8b    a''8b  a8f'8\n",
      "    ,fDDLt:   :iLDDL;          88 a/  88  d'   8b  d'  88  88'  \n",
      "  ;fDLt:         :tfDG;        88P    8f d8    88 d8       '88aa\n",
      ",jft:   ,ijfffji,   :iff       8P        88    8P 88      a  '888\n",
      "     .jGDDDDDDDDDGt.           8i        88   d8  Y8   ,d 8    8P\n",
      "    ;GDDGt:''':tDDDG,          a8/        `88aa'    '8aa'  'baa8'\n",
      "   .DDDG:       :GDDG.    \n",
      "   ;DDDj         tDDDi    \n",
      "   ,DDDf         fDDD,         Copyright (C) 1997-2015\n",
      "    LDDDt.     .fDDDj          OpenEye Scientific Software, Inc.\n",
      "    .tDDDDfjtjfDDDGt      \n",
      "      :ifGDDDDDGfi.            Version: 3.2.1.4\n",
      "          .:::.                Built:   20150831\n",
      "  ......................       OEChem version: 2.0.4\n",
      "  DDDDDDDDDDDDDDDDDDDDDD       Platform: osx-10.10-clang++6-x64\n",
      "  DDDDDDDDDDDDDDDDDDDDDD  \n",
      "\n",
      "Supported run modes:\n",
      "  Single processor\n",
      "  MPI Multiprocessor\n",
      "\n",
      "  Licensed for the exclusive use of The Laboratory of Leslie Kuhn.\n",
      "  Licensed for use only in Michigan State University.\n",
      "  License expires on October 20, 2017.\n",
      "\n",
      "\n",
      "To cite ROCS please use the following:\n",
      "  ROCS 3.2.1.4: OpenEye Scientific Software, Santa Fe, NM.\n",
      "  http://www.eyesopen.com.\n",
      "\n",
      "  Hawkins, P.C.D.; Skillman, A.G.; Nicholls, A. Comparison of Shape-Matching\n",
      "  and Docking as Virtual Screening Tools. J. Med. Chem., 2007, 50, 74.\n",
      "\n",
      "Running as MPI Master\n",
      "  database file: project/omega_confomers/6.mol2\n",
      "\n",
      "Query being read from:         \tdataset/query/3kpzs_conf_subset_nowarts.mol2\n",
      "File prefix is:                \tproject/rocs_overlays_nowarts/6\n",
      "Output directory:              \t/Users/sebastian/code/screenlamp/docs/sources/workflow/example_1\n",
      "Log file will be written to: \tproject/rocs_overlays_nowarts/6.log\n",
      "Statistics will be written to:\tproject/rocs_overlays_nowarts/6_1.rpt\n",
      "Hit structures will written to:\tproject/rocs_overlays_nowarts/6_hits_1.mol2\n",
      "Status file will be written to:\tproject/rocs_overlays_nowarts/6_1.status\n",
      "\n",
      "Query(#1): 3KPZS has 35 conformer(s)\n",
      "Database 1 of 1:              \tproject/omega_confomers/6.mol2\n",
      "...ct/omega_confomers/6.mol2|****************************************|100.00%\n",
      "\n",
      "32 molecules in 68 seconds -> 0.5 molecules/sec\n",
      "                              3002 overlays/sec\n",
      "\n",
      "32 hits found\n",
      "=================================================\n",
      "\n",
      "Molecule read failures: 0\n",
      "#warnings             : 0\n",
      "#errors               : 0\n",
      "#queries processed    : 1\n",
      "Processing 7.mol2\n",
      "Slave started on host Sebastians-MacBook-Pro\n",
      "Slave started on host Sebastians-MacBook-Pro\n",
      "Slave started on host Sebastians-MacBook-Pro\n",
      "          :jGf:               \n",
      "        :jGDDDDf:             \n",
      "      ,fDDDGjLDDDf,           'a8  ,a'8b   a''8b    a''8b  a8f'8\n",
      "    ,fDDLt:   :iLDDL;          88 a/  88  d'   8b  d'  88  88'  \n",
      "  ;fDLt:         :tfDG;        88P    8f d8    88 d8       '88aa\n",
      ",jft:   ,ijfffji,   :iff       8P        88    8P 88      a  '888\n",
      "     .jGDDDDDDDDDGt.           8i        88   d8  Y8   ,d 8    8P\n",
      "    ;GDDGt:''':tDDDG,          a8/        `88aa'    '8aa'  'baa8'\n",
      "   .DDDG:       :GDDG.    \n",
      "   ;DDDj         tDDDi    \n",
      "   ,DDDf         fDDD,         Copyright (C) 1997-2015\n",
      "    LDDDt.     .fDDDj          OpenEye Scientific Software, Inc.\n",
      "    .tDDDDfjtjfDDDGt      \n",
      "      :ifGDDDDDGfi.            Version: 3.2.1.4\n",
      "          .:::.                Built:   20150831\n",
      "  ......................       OEChem version: 2.0.4\n",
      "  DDDDDDDDDDDDDDDDDDDDDD       Platform: osx-10.10-clang++6-x64\n",
      "  DDDDDDDDDDDDDDDDDDDDDD  \n",
      "\n",
      "Supported run modes:\n",
      "  Single processor\n",
      "  MPI Multiprocessor\n",
      "\n",
      "  Licensed for the exclusive use of The Laboratory of Leslie Kuhn.\n",
      "  Licensed for use only in Michigan State University.\n",
      "  License expires on October 20, 2017.\n",
      "\n",
      "\n",
      "To cite ROCS please use the following:\n",
      "  ROCS 3.2.1.4: OpenEye Scientific Software, Santa Fe, NM.\n",
      "  http://www.eyesopen.com.\n",
      "\n",
      "  Hawkins, P.C.D.; Skillman, A.G.; Nicholls, A. Comparison of Shape-Matching\n",
      "  and Docking as Virtual Screening Tools. J. Med. Chem., 2007, 50, 74.\n",
      "\n",
      "Running as MPI Master\n",
      "  database file: project/omega_confomers/7.mol2\n",
      "\n",
      "Query being read from:         \tdataset/query/3kpzs_conf_subset_nowarts.mol2\n",
      "File prefix is:                \tproject/rocs_overlays_nowarts/7\n",
      "Output directory:              \t/Users/sebastian/code/screenlamp/docs/sources/workflow/example_1\n",
      "Log file will be written to: \tproject/rocs_overlays_nowarts/7.log\n",
      "Statistics will be written to:\tproject/rocs_overlays_nowarts/7_1.rpt\n",
      "Hit structures will written to:\tproject/rocs_overlays_nowarts/7_hits_1.mol2\n",
      "Status file will be written to:\tproject/rocs_overlays_nowarts/7_1.status\n",
      "\n",
      "Query(#1): 3KPZS has 35 conformer(s)\n",
      "Database 1 of 1:              \tproject/omega_confomers/7.mol2\n",
      "...ct/omega_confomers/7.mol2|****************************************|100.00%\n",
      "\n",
      "37 molecules in 75 seconds -> 0.5 molecules/sec\n",
      "                              3138 overlays/sec\n",
      "\n",
      "37 hits found\n",
      "=================================================\n",
      "\n",
      "Molecule read failures: 0\n",
      "#warnings             : 0\n",
      "#errors               : 0\n",
      "#queries processed    : 1\n"
     ]
    }
   ],
   "source": [
    "!python ../../../../tools/run_rocs.py \\\n",
    "--input project/omega_confomers \\\n",
    "--output project/rocs_overlays/ \\\n",
    "--query dataset/query/3kpzs_conf_subset_nowarts.mol2 \\\n",
    "--executable \"/Applications/ROCS 3.2.1.4.app/Contents/MacOS/rocs-3.2.1.4\" \\\n",
    "--processes 0"
   ]
  },
  {
   "cell_type": "code",
   "execution_count": 9,
   "metadata": {},
   "outputs": [
    {
     "name": "stdout",
     "output_type": "stream",
     "text": [
      "1_hits_1.mol2 : 35\r\n",
      "2_hits_1.mol2 : 32\r\n",
      "3_hits_1.mol2 : 38\r\n",
      "4_hits_1.mol2 : 40\r\n",
      "5_hits_1.mol2 : 32\r\n",
      "6_hits_1.mol2 : 32\r\n",
      "7_hits_1.mol2 : 37\r\n",
      "Total : 246\r\n"
     ]
    }
   ],
   "source": [
    "!python ../../../../tools/count_mol2.py \\\n",
    "--input project/rocs_overlays/"
   ]
  },
  {
   "cell_type": "markdown",
   "metadata": {},
   "source": [
    "- After ROCS, we can sort the output files to create mol2 files with the overlays in sorted order by score\n",
    "\n",
    "- a) a mol2 file that contains the database molecule conformers in sort order\n",
    "- b) a mol2 files with the corresponding query conformers\n",
    "\n",
    "using `sort_rocs_mol2.py`"
   ]
  },
  {
   "cell_type": "code",
   "execution_count": 74,
   "metadata": {},
   "outputs": [
    {
     "name": "stdout",
     "output_type": "stream",
     "text": [
      "Processing 1_hits_1.mol2 | scanned 36 molecules | 1663 mol/sec\n",
      "Processing 2_hits_1.mol2 | scanned 33 molecules | 4204 mol/sec\n",
      "Processing 3_hits_1.mol2 | scanned 39 molecules | 7292 mol/sec\n",
      "Processing 4_hits_1.mol2 | scanned 41 molecules | 7170 mol/sec\n",
      "Processing 5_hits_1.mol2 | scanned 33 molecules | 7686 mol/sec\n",
      "Processing 6_hits_1.mol2 | scanned 33 molecules | 7354 mol/sec\n",
      "Processing 7_hits_1.mol2 | scanned 38 molecules | 4984 mol/sec\n"
     ]
    }
   ],
   "source": [
    "!python ../../../../tools/sort_rocs_mol2.py \\\n",
    "--input project/rocs_overlays/ \\\n",
    "--output project/rocs_overlays_sorted \\\n",
    "--query ./dataset/query/3kpzs_conf_subset_nowarts.mol2 \\\n",
    "--sortby TanimotoCombo \\\n",
    "--id_suffix true"
   ]
  },
  {
   "cell_type": "markdown",
   "metadata": {},
   "source": [
    "- these can then be opened and viewed in pymol"
   ]
  },
  {
   "cell_type": "markdown",
   "metadata": {},
   "source": [
    "# Matching Functional Groups"
   ]
  },
  {
   "cell_type": "markdown",
   "metadata": {},
   "source": [
    "will need suffixes:\n",
    "\n",
    "- _dbase.mol2 / _dbase.mol2.gz and \n",
    "- _query.mol2 / _query.mol2.gz and "
   ]
  },
  {
   "cell_type": "code",
   "execution_count": 109,
   "metadata": {},
   "outputs": [
    {
     "name": "stdout",
     "output_type": "stream",
     "text": [
      "Processing 1_hits_1_dbase.mol2/1_hits_1_query.mol2 | scanned 36 molecules | 33 mol/sec\n",
      "Processing 2_hits_1_dbase.mol2/2_hits_1_query.mol2 | scanned 33 molecules | 38 mol/sec\n",
      "Processing 3_hits_1_dbase.mol2/3_hits_1_query.mol2 | scanned 39 molecules | 41 mol/sec\n",
      "Processing 4_hits_1_dbase.mol2/4_hits_1_query.mol2 | scanned 41 molecules | 38 mol/sec\n",
      "Processing 5_hits_1_dbase.mol2/5_hits_1_query.mol2 | scanned 33 molecules | 34 mol/sec\n",
      "Processing 6_hits_1_dbase.mol2/6_hits_1_query.mol2 | scanned 33 molecules | 31 mol/sec\n",
      "Processing 7_hits_1_dbase.mol2/7_hits_1_query.mol2 | scanned 38 molecules | 32 mol/sec\n"
     ]
    }
   ],
   "source": [
    "!python ../../../../tools/funcgroup_matching.py \\\n",
    "--input project/rocs_overlays_sorted \\\n",
    "--output project/funcgroup_matching_results \\\n",
    "--max_distance 1.3 \\\n",
    "--processes 0"
   ]
  },
  {
   "cell_type": "markdown",
   "metadata": {
    "collapsed": true
   },
   "source": [
    "# TODO"
   ]
  },
  {
   "cell_type": "code",
   "execution_count": null,
   "metadata": {
    "collapsed": true
   },
   "outputs": [],
   "source": []
  }
 ],
 "metadata": {
  "kernelspec": {
   "display_name": "Python 3",
   "language": "python",
   "name": "python3"
  },
  "language_info": {
   "codemirror_mode": {
    "name": "ipython",
    "version": 3
   },
   "file_extension": ".py",
   "mimetype": "text/x-python",
   "name": "python",
   "nbconvert_exporter": "python",
   "pygments_lexer": "ipython3",
   "version": "3.6.0"
  }
 },
 "nbformat": 4,
 "nbformat_minor": 2
}
