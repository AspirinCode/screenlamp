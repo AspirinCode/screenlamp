{
 "cells": [
  {
   "cell_type": "markdown",
   "metadata": {},
   "source": [
    "# Data storage and project layout"
   ]
  },
  {
   "cell_type": "markdown",
   "metadata": {},
   "source": [
    "- The initial dataset should be stored as `mol2` or `mol2.gz` files in a directory. For example:"
   ]
  },
  {
   "cell_type": "code",
   "execution_count": 8,
   "metadata": {},
   "outputs": [
    {
     "name": "stdout",
     "output_type": "stream",
     "text": [
      "total 2343768\r\n",
      "-rw-r--r--  1 sebastian  staff   572M May  6 21:20 1.mol2\r\n",
      "-rw-r--r--  1 sebastian  staff   572M May  6 21:22 2.mol2\r\n"
     ]
    }
   ],
   "source": [
    "!ls -lh 80698/mol2/"
   ]
  },
  {
   "cell_type": "markdown",
   "metadata": {},
   "source": [
    "- for a new project, it's best to create a new directory, for instance, we create a new subdirectory in 80698:"
   ]
  },
  {
   "cell_type": "code",
   "execution_count": 2,
   "metadata": {
    "collapsed": true
   },
   "outputs": [],
   "source": [
    "!mkdir 80698/proj-1/"
   ]
  },
  {
   "cell_type": "markdown",
   "metadata": {},
   "source": [
    "Using the `count_mol2.py` script, we can count the number of structures in each mol2 file in the input directory:"
   ]
  },
  {
   "cell_type": "code",
   "execution_count": 9,
   "metadata": {},
   "outputs": [
    {
     "name": "stdout",
     "output_type": "stream",
     "text": [
      "1.mol2 : 135966\n",
      "2.mol2 : 136144\n",
      "Total : 272110\n"
     ]
    }
   ],
   "source": [
    "!python ../../../tools/count_mol2.py -i 80698/mol2"
   ]
  },
  {
   "cell_type": "code",
   "execution_count": null,
   "metadata": {
    "collapsed": true
   },
   "outputs": [],
   "source": [
    "Optionally, you may have files with data about the molecules, for instance:"
   ]
  },
  {
   "cell_type": "code",
   "execution_count": null,
   "metadata": {
    "collapsed": true
   },
   "outputs": [],
   "source": [
    "!ls -lh 80698/csv/"
   ]
  },
  {
   "cell_type": "markdown",
   "metadata": {},
   "source": [
    "# General Blacklist/Whitelist filtering"
   ]
  },
  {
   "cell_type": "markdown",
   "metadata": {},
   "source": [
    "- `mol2_to_id.py` generates a list of molecule IDs from MOL2 files\n",
    "- `id_to_mol2.py` filters mol2 files by IDs and creates new mol2 files. Via whitelisting, molecules that match those IDs are written. Via blacklisting, all molecules but the molecules that are in the list are written"
   ]
  },
  {
   "cell_type": "code",
   "execution_count": 11,
   "metadata": {},
   "outputs": [
    {
     "name": "stdout",
     "output_type": "stream",
     "text": [
      "Processing 80698/mol2/1.mol2\n",
      "Processing 80698/mol2/2.mol2\n",
      "Finished\n"
     ]
    }
   ],
   "source": [
    "!python ../../../tools/mol2_to_id.py -i 80698/mol2 -o 80698/proj-1/all-mol2ids.txt"
   ]
  },
  {
   "cell_type": "code",
   "execution_count": 12,
   "metadata": {},
   "outputs": [
    {
     "name": "stdout",
     "output_type": "stream",
     "text": [
      "ZINC57271411\r\n",
      "ZINC50764925\r\n",
      "ZINC65255333\r\n",
      "ZINC06394508\r\n",
      "ZINC65292537\r\n",
      "ZINC65375610\r\n",
      "ZINC31820077\r\n",
      "ZINC65395084\r\n",
      "ZINC00205726\r\n",
      "ZINC01458151\r\n"
     ]
    }
   ],
   "source": [
    "!head 80698/proj-1/all-mol2ids.txt"
   ]
  },
  {
   "cell_type": "markdown",
   "metadata": {},
   "source": [
    "# First Filtering Step -- Filtering via Features from Data Tables"
   ]
  },
  {
   "cell_type": "markdown",
   "metadata": {},
   "source": [
    "- `id_from_table.py` -- this tools selects molecules IDs by user-specified filtering criteria based on the features stored in the columns of a data table\n",
    "- the generic `mol2_from_id.py` script can then be used to create new mol2 files that either contain or don't contain molecules with certain IDs."
   ]
  }
 ],
 "metadata": {
  "kernelspec": {
   "display_name": "Python 3",
   "language": "python",
   "name": "python3"
  },
  "language_info": {
   "codemirror_mode": {
    "name": "ipython",
    "version": 3
   },
   "file_extension": ".py",
   "mimetype": "text/x-python",
   "name": "python",
   "nbconvert_exporter": "python",
   "pygments_lexer": "ipython3",
   "version": "3.6.0"
  }
 },
 "nbformat": 4,
 "nbformat_minor": 2
}
