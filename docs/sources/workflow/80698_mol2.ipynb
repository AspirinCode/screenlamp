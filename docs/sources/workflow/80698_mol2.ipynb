{
 "cells": [
  {
   "cell_type": "markdown",
   "metadata": {},
   "source": [
    "# Data storage and project layout"
   ]
  },
  {
   "cell_type": "markdown",
   "metadata": {},
   "source": [
    "- The initial dataset should be stored as `mol2` or `mol2.gz` files in a directory. For example:"
   ]
  },
  {
   "cell_type": "code",
   "execution_count": 8,
   "metadata": {},
   "outputs": [
    {
     "name": "stdout",
     "output_type": "stream",
     "text": [
      "total 2343768\r\n",
      "-rw-r--r--  1 sebastian  staff   572M May  6 21:20 1.mol2\r\n",
      "-rw-r--r--  1 sebastian  staff   572M May  6 21:22 2.mol2\r\n"
     ]
    }
   ],
   "source": [
    "!ls -lh 80698/mol2/"
   ]
  },
  {
   "cell_type": "markdown",
   "metadata": {},
   "source": [
    "- for a new project, it's best to create a new directory, for instance, we create a new subdirectory in 80698:"
   ]
  },
  {
   "cell_type": "code",
   "execution_count": 2,
   "metadata": {
    "collapsed": true
   },
   "outputs": [],
   "source": [
    "!mkdir 80698/proj-1/"
   ]
  },
  {
   "cell_type": "markdown",
   "metadata": {},
   "source": [
    "Using the `count_mol2.py` script, we can count the number of structures in each mol2 file in the input directory:"
   ]
  },
  {
   "cell_type": "code",
   "execution_count": 9,
   "metadata": {},
   "outputs": [
    {
     "name": "stdout",
     "output_type": "stream",
     "text": [
      "1.mol2 : 135966\n",
      "2.mol2 : 136144\n",
      "Total : 272110\n"
     ]
    }
   ],
   "source": [
    "!python ../../../tools/count_mol2.py -i 80698/mol2"
   ]
  },
  {
   "cell_type": "markdown",
   "metadata": {
    "collapsed": true
   },
   "source": [
    "Optionally, you may have files with data about the molecules, for instance:"
   ]
  },
  {
   "cell_type": "code",
   "execution_count": null,
   "metadata": {
    "collapsed": true
   },
   "outputs": [],
   "source": [
    "!ls -lh 80698/csv/"
   ]
  },
  {
   "cell_type": "markdown",
   "metadata": {},
   "source": [
    "# General Blacklist & Whitelist filtering"
   ]
  },
  {
   "cell_type": "markdown",
   "metadata": {},
   "source": [
    "- `mol2_to_id.py` generates a list of molecule IDs from MOL2 files\n",
    "- `id_to_mol2.py` filters mol2 files by IDs and creates new mol2 files. Via whitelisting, molecules that match those IDs are written. Via blacklisting, all molecules but the molecules that are in the list are written"
   ]
  },
  {
   "cell_type": "code",
   "execution_count": 11,
   "metadata": {},
   "outputs": [
    {
     "name": "stdout",
     "output_type": "stream",
     "text": [
      "Processing 80698/mol2/1.mol2\n",
      "Processing 80698/mol2/2.mol2\n",
      "Finished\n"
     ]
    }
   ],
   "source": [
    "!python ../../../tools/mol2_to_id.py -i 80698/mol2 -o 80698/proj-1/all-mol2ids.txt"
   ]
  },
  {
   "cell_type": "code",
   "execution_count": 12,
   "metadata": {},
   "outputs": [
    {
     "name": "stdout",
     "output_type": "stream",
     "text": [
      "ZINC57271411\r\n",
      "ZINC50764925\r\n",
      "ZINC65255333\r\n",
      "ZINC06394508\r\n",
      "ZINC65292537\r\n",
      "ZINC65375610\r\n",
      "ZINC31820077\r\n",
      "ZINC65395084\r\n",
      "ZINC00205726\r\n",
      "ZINC01458151\r\n"
     ]
    }
   ],
   "source": [
    "!head 80698/proj-1/all-mol2ids.txt"
   ]
  },
  {
   "cell_type": "markdown",
   "metadata": {},
   "source": [
    "- Say we are interested in a subset of molecules only. Consider this example: 1st we create a list of IDs:"
   ]
  },
  {
   "cell_type": "code",
   "execution_count": 7,
   "metadata": {},
   "outputs": [
    {
     "name": "stdout",
     "output_type": "stream",
     "text": [
      "Overwriting ./80698/proj-1/selected-example-mol2ids.txt\n"
     ]
    }
   ],
   "source": [
    "%%writefile ./80698/proj-1/selected-example-mol2ids.txt\n",
    "ZINC57271411\n",
    "ZINC06394508\n",
    "ZINC65292537\n",
    "ZINC31820077\n",
    "ZINC01458151"
   ]
  },
  {
   "cell_type": "markdown",
   "metadata": {},
   "source": [
    "### Whitelisting"
   ]
  },
  {
   "cell_type": "code",
   "execution_count": 23,
   "metadata": {},
   "outputs": [
    {
     "name": "stdout",
     "output_type": "stream",
     "text": [
      "Processing 80698/mol2/1.mol2\n",
      "Processing 80698/mol2/2.mol2\n",
      "Finished\n"
     ]
    }
   ],
   "source": [
    "!python ../../../tools/id_to_mol2.py \\\n",
    "--input 80698/mol2 \\\n",
    "--output 80698/proj-1/selected-example-mol2ids \\\n",
    "--id_file ./80698/proj-1/selected-example-mol2ids.txt \\\n",
    "--whitelist True"
   ]
  },
  {
   "cell_type": "markdown",
   "metadata": {},
   "source": [
    "Now, the output directory, `80698/proj-1/selected-example-mol2ids`, should contain only mol2 files with the selected IDs:"
   ]
  },
  {
   "cell_type": "code",
   "execution_count": 24,
   "metadata": {},
   "outputs": [
    {
     "name": "stdout",
     "output_type": "stream",
     "text": [
      "1.mol2 2.mol2\r\n"
     ]
    }
   ],
   "source": [
    "!ls 80698/proj-1/selected-example-mol2ids"
   ]
  },
  {
   "cell_type": "code",
   "execution_count": 25,
   "metadata": {},
   "outputs": [
    {
     "name": "stdout",
     "output_type": "stream",
     "text": [
      "ZINC57271411\r\n",
      "ZINC06394508\r\n",
      "ZINC65292537\r\n",
      "ZINC31820077\r\n",
      "ZINC01458151\r\n"
     ]
    }
   ],
   "source": [
    "!grep 'ZINC' 80698/proj-1/selected-example-mol2ids/1.mol2"
   ]
  },
  {
   "cell_type": "code",
   "execution_count": 28,
   "metadata": {},
   "outputs": [
    {
     "name": "stdout",
     "output_type": "stream",
     "text": [
      "@<TRIPOS>MOLECULE\r\n",
      "ZINC57271411\r\n",
      "   50    52     0     0     0\r\n",
      "--\r\n",
      "--\r\n",
      "@<TRIPOS>MOLECULE\r\n",
      "ZINC06394508\r\n",
      "   49    52     0     0     0\r\n",
      "--\r\n",
      "--\r\n",
      "@<TRIPOS>MOLECULE\r\n",
      "ZINC65292537\r\n",
      "   47    50     0     0     0\r\n",
      "--\r\n",
      "--\r\n",
      "@<TRIPOS>MOLECULE\r\n",
      "ZINC31820077\r\n",
      "   48    50     0     0     0\r\n",
      "--\r\n",
      "--\r\n",
      "@<TRIPOS>MOLECULE\r\n",
      "ZINC01458151\r\n",
      "   25    25     0     0     0\r\n"
     ]
    }
   ],
   "source": [
    "!grep -C 1 'ZINC' 80698/proj-1/selected-example-mol2ids/1.mol2 "
   ]
  },
  {
   "cell_type": "markdown",
   "metadata": {},
   "source": [
    "### Blacklisting"
   ]
  },
  {
   "cell_type": "markdown",
   "metadata": {},
   "source": [
    "Similar to the previous approach, using a whitelist filter, we can do blacklist filtering, which means that all molecules are selected but the ones contained in the ID files. Set whitelist to False."
   ]
  },
  {
   "cell_type": "code",
   "execution_count": 46,
   "metadata": {},
   "outputs": [
    {
     "name": "stdout",
     "output_type": "stream",
     "text": [
      "Processing 80698/mol2/1.mol2\n",
      "Processing 80698/mol2/2.mol2\n",
      "Finished\n"
     ]
    }
   ],
   "source": [
    "!python ../../../tools/id_to_mol2.py \\\n",
    "--input 80698/mol2 \\\n",
    "--output 80698/proj-1/nonselected-example-mol2ids \\\n",
    "--id_file ./80698/proj-1/selected-example-mol2ids.txt \\\n",
    "--whitelist false"
   ]
  },
  {
   "cell_type": "code",
   "execution_count": 47,
   "metadata": {},
   "outputs": [
    {
     "name": "stdout",
     "output_type": "stream",
     "text": [
      "1.mol2 : 135961\n",
      "2.mol2 : 136144\n",
      "Total : 272105\n"
     ]
    }
   ],
   "source": [
    "!python ../../../tools/count_mol2.py -i 80698/proj-1/nonselected-example-mol2ids/"
   ]
  },
  {
   "cell_type": "markdown",
   "metadata": {},
   "source": [
    "# First Filtering Step -- Filtering via Features from Data Tables"
   ]
  },
  {
   "cell_type": "code",
   "execution_count": 2,
   "metadata": {
    "collapsed": true
   },
   "outputs": [],
   "source": [
    "import time"
   ]
  },
  {
   "cell_type": "code",
   "execution_count": 48,
   "metadata": {},
   "outputs": [
    {
     "name": "stdout",
     "output_type": "stream",
     "text": [
      "ZINC_ID\tMWT\tLogP\tDesolv_apolar\tDesolv_polar\tHBD\tHBA\ttPSA\tCharge\tNRB\tSMILES\r\n",
      "ZINC00000010\t217.2\t1.42\t5.57\t-41.98\t0\t4\t66\t-1\t2\tC[C@@]1(C(=O)C=C(O1)C(=O)[O-])c2ccccc2\r\n",
      "ZINC00000012\t289.356\t1.28\t4.89\t-24.55\t2\t4\t66\t0\t5\tc1ccc(cc1)C(c2ccccc2)[S@](=O)CC(=O)NO\r\n",
      "ZINC00000017\t281.337\t1.33\t3.06\t-23.33\t2\t6\t87\t0\t4\tCCC[S@](=O)c1ccc2c(c1)[nH]/c(=N\\C(=O)OC)/[nH]2\r\n",
      "ZINC00000017\t281.337\t1.33\t3.07\t-19.2\t2\t6\t87\t0\t4\tCCC[S@](=O)c1ccc2c(c1)[nH]/c(=N/C(=O)OC)/[nH]2\r\n",
      "ZINC00000018\t212.318\t2.00\t5.87\t-8.2\t1\t3\t32\t0\t4\tCC(C)C[C@@H]1C(=O)N(C(=S)N1)CC=C\r\n",
      "ZINC00000021\t288.411\t3.85\t4.02\t-40.52\t1\t3\t30\t1\t6\tCCC(=O)O[C@]1(CC[NH+](C[C@@H]1CC=C)C)c2ccccc2\r\n",
      "ZINC00000022\t218.276\t3.21\t0.47\t-48.57\t1\t3\t52\t-1\t5\tC[C@@H](c1ccc(cc1)NCC(=C)C)C(=O)[O-]\r\n",
      "ZINC00000025\t251.353\t3.60\t2.4\t-41.56\t2\t2\t40\t1\t5\tC[C@H](Cc1ccccc1)[NH2+][C@@H](C#N)c2ccccc2\r\n",
      "ZINC00000030\t297.422\t2.94\t0.89\t-37.97\t3\t3\t47\t1\t6\tC[C@@H](CC(c1ccccc1)(c2ccccc2)C(=O)N)[NH+](C)C\r\n"
     ]
    }
   ],
   "source": [
    "!head 80698/csv/3_prop.xls"
   ]
  },
  {
   "cell_type": "markdown",
   "metadata": {},
   "source": [
    "- A valid query looks like this:\n",
    " \n",
    "- Correct: `\"(MWT >= 200) & (NRB <= 7)\"`\n",
    "- Wrong: `\"( MWT >= 200) & ( NRB <= 7)\"` [spacing between parentheses and column names]\n",
    "- Wrong: `\"MWT >= 200 & NRB <= 7\"` [expressions seperated by logical '&' operator not enclosed in parentheses]\n",
    "- Wrong: `\"(mwt >= 200) & (nrb <= 7)\"` [column names don't match the columns in the data table file]\n",
    "- Wrong: `\"(mwt>=200) & (nrb<=7)\"` [no whitespace before and after operators for comparison]\n"
   ]
  },
  {
   "cell_type": "code",
   "execution_count": 107,
   "metadata": {},
   "outputs": [
    {
     "name": "stdout",
     "output_type": "stream",
     "text": [
      "Using columns: ['ZINC_ID', 'NRB', 'MWT']\n",
      "Using selection: (chunk.NRB <= 7) & (chunk.MWT >= 200)\n",
      "Processed: 18000000\n",
      "Selected: 17599186\n"
     ]
    }
   ],
   "source": [
    "!python ../../../tools/datatable_to_id.py \\\n",
    "--input 80698/csv/3_prop.xls \\\n",
    "--output 80698/proj-1/selected-mol2ids.txt \\\n",
    "--id_column ZINC_ID \\\n",
    "--selection \"(NRB <= 7) & (MWT >= 200)\""
   ]
  },
  {
   "cell_type": "markdown",
   "metadata": {},
   "source": [
    "Next, we are going to use these IDs to select molecules from the existing mol2 files:"
   ]
  },
  {
   "cell_type": "code",
   "execution_count": 108,
   "metadata": {},
   "outputs": [
    {
     "name": "stdout",
     "output_type": "stream",
     "text": [
      "Processing 80698/mol2/1.mol2\n",
      "Processing 80698/mol2/2.mol2\n",
      "Finished\n"
     ]
    }
   ],
   "source": [
    "!python ../../../tools/id_to_mol2.py \\\n",
    "--input 80698/mol2 \\\n",
    "--output 80698/proj-1/selected-mol2s \\\n",
    "--id_file ./80698/proj-1/selected-mol2ids.txt \\\n",
    "--whitelist True"
   ]
  },
  {
   "cell_type": "code",
   "execution_count": 109,
   "metadata": {},
   "outputs": [
    {
     "name": "stdout",
     "output_type": "stream",
     "text": [
      "1.mol2 : 133655\n",
      "2.mol2 : 133607\n",
      "Total : 267262\n"
     ]
    }
   ],
   "source": [
    "!python ../../../tools/count_mol2.py -i 80698/proj-1/selected-mol2ids/"
   ]
  },
  {
   "cell_type": "markdown",
   "metadata": {},
   "source": [
    "# Second Filtering Step -- Presence and absence of functional groups"
   ]
  },
  {
   "cell_type": "markdown",
   "metadata": {},
   "source": [
    "- allowed columns\n",
    "  - atom_id\n",
    "  - atom_name\n",
    "  - atom_type\n",
    "  - subst_id\n",
    "  - subst_name\n",
    "  - charge\n",
    "  \n",
    "(may change with updated biopandas)"
   ]
  },
  {
   "cell_type": "markdown",
   "metadata": {},
   "source": [
    "a) simultaneously true (here impossible): \"((atom_type == 'S.3') | (atom_type == 'S.o2')) & (atom_type == 'O.2')\"\n",
    "\n",
    "- tries to find an S.3 or S.o2 atom that is also an O.2 atom at the same time\n",
    "\n",
    "b) simultaneously true and valid: \"((atom_type == 'S.3') | (atom_type == 'S.o2')) & (charge < 0.0)\"\n",
    "\n",
    "- tries to find an S.3 or S.o2 atom that has a negative charge\n",
    "\n",
    "c) otherwise, \"((atom_type == 'S.3') | (atom_type == 'S.o2')) --> (atom_type == 'O.2')\"\n",
    "\n",
    "- tries to find an S.3 or S.o2 atom, then tries to find an O.2 atom as well\n",
    "\n",
    "d) when in doubt, one can run (as alternative for c) the tool 2 times. 1 time to select \"(atom_type == 'S.3') | (atom_type == 'S.o2')\" and a second time to select \"(atom_type == 'O.2')\"."
   ]
  },
  {
   "cell_type": "code",
   "execution_count": 4,
   "metadata": {},
   "outputs": [
    {
     "name": "stdout",
     "output_type": "stream",
     "text": [
      "Processing 80698/proj-1/selected-mol2s/1.mol2\n",
      "Processing 80698/proj-1/selected-mol2s/2.mol2\n"
     ]
    },
    {
     "data": {
      "text/plain": [
       "800.6091911792755"
      ]
     },
     "execution_count": 4,
     "metadata": {},
     "output_type": "execute_result"
    }
   ],
   "source": [
    "start = time.time()\n",
    "\n",
    "!python ../../../tools/funcgroup_to_id.py \\\n",
    "--input 80698/proj-1/selected-mol2s/ \\\n",
    "--output 80698/proj-1/3keto-and-sulfur-mol2ids.txt \\\n",
    "--selection \"((atom_type == 'S.3') | (atom_type == 'S.o2')) --> (atom_type == 'O.2')\" \\\n",
    "--processes 0\n",
    "\n",
    "time.time() - start"
   ]
  },
  {
   "cell_type": "code",
   "execution_count": 5,
   "metadata": {},
   "outputs": [
    {
     "name": "stdout",
     "output_type": "stream",
     "text": [
      "Processing 80698/proj-1/selected-mol2s/1.mol2\n",
      "Processing 80698/proj-1/selected-mol2s/2.mol2\n",
      "Finished\n"
     ]
    },
    {
     "data": {
      "text/plain": [
       "16.29014277458191"
      ]
     },
     "execution_count": 5,
     "metadata": {},
     "output_type": "execute_result"
    }
   ],
   "source": [
    "start = time.time()\n",
    "\n",
    "!python ../../../tools/id_to_mol2.py \\\n",
    "--input 80698/proj-1/selected-mol2s/ \\\n",
    "--output 80698/proj-1/3keto-and-sulfur-mol2s \\\n",
    "--id_file 80698/proj-1/3keto-and-sulfur-mol2ids.txt \\\n",
    "--whitelist True\n",
    "\n",
    "time.time() - start"
   ]
  },
  {
   "cell_type": "code",
   "execution_count": 7,
   "metadata": {},
   "outputs": [
    {
     "name": "stdout",
     "output_type": "stream",
     "text": [
      "1.mol2 : 38558\n",
      "2.mol2 : 38583\n",
      "Total : 77141\n"
     ]
    }
   ],
   "source": [
    "!python ../../../tools/count_mol2.py -i 80698/proj-1/3keto-and-sulfur-mol2s"
   ]
  },
  {
   "cell_type": "markdown",
   "metadata": {},
   "source": [
    "# Third Filtering Step -- Distance between functional groups"
   ]
  },
  {
   "cell_type": "markdown",
   "metadata": {},
   "source": [
    "- could be done after omega"
   ]
  },
  {
   "cell_type": "code",
   "execution_count": 21,
   "metadata": {},
   "outputs": [
    {
     "name": "stdout",
     "output_type": "stream",
     "text": [
      "Processing 80698/proj-1/3keto-and-sulfur-mol2s/1.mol2\n",
      "Processing 80698/proj-1/3keto-and-sulfur-mol2s/2.mol2\n"
     ]
    },
    {
     "data": {
      "text/plain": [
       "476.1484110355377"
      ]
     },
     "execution_count": 21,
     "metadata": {},
     "output_type": "execute_result"
    }
   ],
   "source": [
    "start = time.time()\n",
    "\n",
    "!python ../../../tools/funcgroup_distance_to_id.py \\\n",
    "--input 80698/proj-1/3keto-and-sulfur-mol2s/ \\\n",
    "--output 80698/proj-1/3keto-and-sulfur_distance-mol2ids.txt \\\n",
    "--selection \"((atom_type == 'S.3') | (atom_type == 'S.o2')) --> (atom_type == 'O.2')\" \\\n",
    "--distance \"13-20\" \\\n",
    "--processes 0\n",
    "\n",
    "time.time() - start"
   ]
  },
  {
   "cell_type": "code",
   "execution_count": 22,
   "metadata": {},
   "outputs": [
    {
     "name": "stdout",
     "output_type": "stream",
     "text": [
      "Processing 80698/proj-1/3keto-and-sulfur-mol2s/1.mol2\n",
      "Processing 80698/proj-1/3keto-and-sulfur-mol2s/2.mol2\n",
      "Finished\n"
     ]
    },
    {
     "data": {
      "text/plain": [
       "6.941205024719238"
      ]
     },
     "execution_count": 22,
     "metadata": {},
     "output_type": "execute_result"
    }
   ],
   "source": [
    "start = time.time()\n",
    "\n",
    "!python ../../../tools/id_to_mol2.py \\\n",
    "--input 80698/proj-1/3keto-and-sulfur-mol2s \\\n",
    "--output 80698/proj-1/3keto-and-sulfur-mol2s_13-20A \\\n",
    "--id_file 80698/proj-1/3keto-and-sulfur_distance-mol2ids.txt \\\n",
    "--whitelist True\n",
    "\n",
    "time.time() - start"
   ]
  },
  {
   "cell_type": "code",
   "execution_count": 23,
   "metadata": {},
   "outputs": [
    {
     "name": "stdout",
     "output_type": "stream",
     "text": [
      "1.mol2 : 467\n",
      "2.mol2 : 461\n",
      "Total : 928\n"
     ]
    }
   ],
   "source": [
    "!python ../../../tools/count_mol2.py -i 80698/proj-1/3keto-and-sulfur-mol2s_13-20A"
   ]
  }
 ],
 "metadata": {
  "kernelspec": {
   "display_name": "Python 3",
   "language": "python",
   "name": "python3"
  }
 },
 "nbformat": 4,
 "nbformat_minor": 2
}
