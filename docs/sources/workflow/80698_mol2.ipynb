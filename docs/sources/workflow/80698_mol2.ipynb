{
 "cells": [
  {
   "cell_type": "markdown",
   "metadata": {},
   "source": [
    "# Data storage and project layout"
   ]
  },
  {
   "cell_type": "markdown",
   "metadata": {},
   "source": [
    "- The initial dataset should be stored as `mol2` or `mol2.gz` files in a directory. For example:"
   ]
  },
  {
   "cell_type": "code",
   "execution_count": 8,
   "metadata": {},
   "outputs": [
    {
     "name": "stdout",
     "output_type": "stream",
     "text": [
      "total 2343768\r\n",
      "-rw-r--r--  1 sebastian  staff   572M May  6 21:20 1.mol2\r\n",
      "-rw-r--r--  1 sebastian  staff   572M May  6 21:22 2.mol2\r\n"
     ]
    }
   ],
   "source": [
    "!ls -lh 80698/mol2/"
   ]
  },
  {
   "cell_type": "markdown",
   "metadata": {},
   "source": [
    "- for a new project, it's best to create a new directory, for instance, we create a new subdirectory in 80698:"
   ]
  },
  {
   "cell_type": "code",
   "execution_count": 2,
   "metadata": {
    "collapsed": true
   },
   "outputs": [],
   "source": [
    "!mkdir 80698/proj-1/"
   ]
  },
  {
   "cell_type": "markdown",
   "metadata": {},
   "source": [
    "Using the `count_mol2.py` script, we can count the number of structures in each mol2 file in the input directory:"
   ]
  },
  {
   "cell_type": "code",
   "execution_count": 9,
   "metadata": {},
   "outputs": [
    {
     "name": "stdout",
     "output_type": "stream",
     "text": [
      "1.mol2 : 135966\n",
      "2.mol2 : 136144\n",
      "Total : 272110\n"
     ]
    }
   ],
   "source": [
    "!python ../../../tools/count_mol2.py -i 80698/mol2"
   ]
  },
  {
   "cell_type": "markdown",
   "metadata": {
    "collapsed": true
   },
   "source": [
    "Optionally, you may have files with data about the molecules, for instance:"
   ]
  },
  {
   "cell_type": "code",
   "execution_count": null,
   "metadata": {
    "collapsed": true
   },
   "outputs": [],
   "source": [
    "!ls -lh 80698/csv/"
   ]
  },
  {
   "cell_type": "markdown",
   "metadata": {},
   "source": [
    "# General Blacklist & Whitelist filtering"
   ]
  },
  {
   "cell_type": "markdown",
   "metadata": {},
   "source": [
    "- `mol2_to_id.py` generates a list of molecule IDs from MOL2 files\n",
    "- `id_to_mol2.py` filters mol2 files by IDs and creates new mol2 files. Via whitelisting, molecules that match those IDs are written. Via blacklisting, all molecules but the molecules that are in the list are written"
   ]
  },
  {
   "cell_type": "code",
   "execution_count": 11,
   "metadata": {},
   "outputs": [
    {
     "name": "stdout",
     "output_type": "stream",
     "text": [
      "Processing 80698/mol2/1.mol2\n",
      "Processing 80698/mol2/2.mol2\n",
      "Finished\n"
     ]
    }
   ],
   "source": [
    "!python ../../../tools/mol2_to_id.py -i 80698/mol2 -o 80698/proj-1/all-mol2ids.txt"
   ]
  },
  {
   "cell_type": "code",
   "execution_count": 12,
   "metadata": {},
   "outputs": [
    {
     "name": "stdout",
     "output_type": "stream",
     "text": [
      "ZINC57271411\r\n",
      "ZINC50764925\r\n",
      "ZINC65255333\r\n",
      "ZINC06394508\r\n",
      "ZINC65292537\r\n",
      "ZINC65375610\r\n",
      "ZINC31820077\r\n",
      "ZINC65395084\r\n",
      "ZINC00205726\r\n",
      "ZINC01458151\r\n"
     ]
    }
   ],
   "source": [
    "!head 80698/proj-1/all-mol2ids.txt"
   ]
  },
  {
   "cell_type": "markdown",
   "metadata": {},
   "source": [
    "- Say we are interested in a subset of molecules only. Consider this example: 1st we create a list of IDs:"
   ]
  },
  {
   "cell_type": "code",
   "execution_count": 7,
   "metadata": {},
   "outputs": [
    {
     "name": "stdout",
     "output_type": "stream",
     "text": [
      "Overwriting ./80698/proj-1/selected-example-mol2ids.txt\n"
     ]
    }
   ],
   "source": [
    "%%writefile ./80698/proj-1/selected-example-mol2ids.txt\n",
    "ZINC57271411\n",
    "ZINC06394508\n",
    "ZINC65292537\n",
    "ZINC31820077\n",
    "ZINC01458151"
   ]
  },
  {
   "cell_type": "markdown",
   "metadata": {},
   "source": [
    "### Whitelisting"
   ]
  },
  {
   "cell_type": "code",
   "execution_count": 23,
   "metadata": {},
   "outputs": [
    {
     "name": "stdout",
     "output_type": "stream",
     "text": [
      "Processing 80698/mol2/1.mol2\n",
      "Processing 80698/mol2/2.mol2\n",
      "Finished\n"
     ]
    }
   ],
   "source": [
    "!python ../../../tools/id_to_mol2.py \\\n",
    "--input 80698/mol2 \\\n",
    "--output 80698/proj-1/selected-example-mol2ids \\\n",
    "--id_file ./80698/proj-1/selected-example-mol2ids.txt \\\n",
    "--whitelist True"
   ]
  },
  {
   "cell_type": "markdown",
   "metadata": {},
   "source": [
    "Now, the output directory, `80698/proj-1/selected-example-mol2ids`, should contain only mol2 files with the selected IDs:"
   ]
  },
  {
   "cell_type": "code",
   "execution_count": 24,
   "metadata": {},
   "outputs": [
    {
     "name": "stdout",
     "output_type": "stream",
     "text": [
      "1.mol2 2.mol2\r\n"
     ]
    }
   ],
   "source": [
    "!ls 80698/proj-1/selected-example-mol2ids"
   ]
  },
  {
   "cell_type": "code",
   "execution_count": 25,
   "metadata": {},
   "outputs": [
    {
     "name": "stdout",
     "output_type": "stream",
     "text": [
      "ZINC57271411\r\n",
      "ZINC06394508\r\n",
      "ZINC65292537\r\n",
      "ZINC31820077\r\n",
      "ZINC01458151\r\n"
     ]
    }
   ],
   "source": [
    "!grep 'ZINC' 80698/proj-1/selected-example-mol2ids/1.mol2"
   ]
  },
  {
   "cell_type": "code",
   "execution_count": 28,
   "metadata": {},
   "outputs": [
    {
     "name": "stdout",
     "output_type": "stream",
     "text": [
      "@<TRIPOS>MOLECULE\r\n",
      "ZINC57271411\r\n",
      "   50    52     0     0     0\r\n",
      "--\r\n",
      "--\r\n",
      "@<TRIPOS>MOLECULE\r\n",
      "ZINC06394508\r\n",
      "   49    52     0     0     0\r\n",
      "--\r\n",
      "--\r\n",
      "@<TRIPOS>MOLECULE\r\n",
      "ZINC65292537\r\n",
      "   47    50     0     0     0\r\n",
      "--\r\n",
      "--\r\n",
      "@<TRIPOS>MOLECULE\r\n",
      "ZINC31820077\r\n",
      "   48    50     0     0     0\r\n",
      "--\r\n",
      "--\r\n",
      "@<TRIPOS>MOLECULE\r\n",
      "ZINC01458151\r\n",
      "   25    25     0     0     0\r\n"
     ]
    }
   ],
   "source": [
    "!grep -C 1 'ZINC' 80698/proj-1/selected-example-mol2ids/1.mol2 "
   ]
  },
  {
   "cell_type": "markdown",
   "metadata": {},
   "source": [
    "### Blacklisting"
   ]
  },
  {
   "cell_type": "markdown",
   "metadata": {},
   "source": [
    "Similar to the previous approach, using a whitelist filter, we can do blacklist filtering, which means that all molecules are selected but the ones contained in the ID files. Set whitelist to False."
   ]
  },
  {
   "cell_type": "code",
   "execution_count": 46,
   "metadata": {},
   "outputs": [
    {
     "name": "stdout",
     "output_type": "stream",
     "text": [
      "Processing 80698/mol2/1.mol2\n",
      "Processing 80698/mol2/2.mol2\n",
      "Finished\n"
     ]
    }
   ],
   "source": [
    "!python ../../../tools/id_to_mol2.py \\\n",
    "--input 80698/mol2 \\\n",
    "--output 80698/proj-1/nonselected-example-mol2ids \\\n",
    "--id_file ./80698/proj-1/selected-example-mol2ids.txt \\\n",
    "--whitelist false"
   ]
  },
  {
   "cell_type": "code",
   "execution_count": 47,
   "metadata": {},
   "outputs": [
    {
     "name": "stdout",
     "output_type": "stream",
     "text": [
      "1.mol2 : 135961\n",
      "2.mol2 : 136144\n",
      "Total : 272105\n"
     ]
    }
   ],
   "source": [
    "!python ../../../tools/count_mol2.py -i 80698/proj-1/nonselected-example-mol2ids/"
   ]
  },
  {
   "cell_type": "markdown",
   "metadata": {},
   "source": [
    "# First Filtering Step -- Filtering via Features from Data Tables"
   ]
  },
  {
   "cell_type": "code",
   "execution_count": 48,
   "metadata": {},
   "outputs": [
    {
     "name": "stdout",
     "output_type": "stream",
     "text": [
      "ZINC_ID\tMWT\tLogP\tDesolv_apolar\tDesolv_polar\tHBD\tHBA\ttPSA\tCharge\tNRB\tSMILES\r\n",
      "ZINC00000010\t217.2\t1.42\t5.57\t-41.98\t0\t4\t66\t-1\t2\tC[C@@]1(C(=O)C=C(O1)C(=O)[O-])c2ccccc2\r\n",
      "ZINC00000012\t289.356\t1.28\t4.89\t-24.55\t2\t4\t66\t0\t5\tc1ccc(cc1)C(c2ccccc2)[S@](=O)CC(=O)NO\r\n",
      "ZINC00000017\t281.337\t1.33\t3.06\t-23.33\t2\t6\t87\t0\t4\tCCC[S@](=O)c1ccc2c(c1)[nH]/c(=N\\C(=O)OC)/[nH]2\r\n",
      "ZINC00000017\t281.337\t1.33\t3.07\t-19.2\t2\t6\t87\t0\t4\tCCC[S@](=O)c1ccc2c(c1)[nH]/c(=N/C(=O)OC)/[nH]2\r\n",
      "ZINC00000018\t212.318\t2.00\t5.87\t-8.2\t1\t3\t32\t0\t4\tCC(C)C[C@@H]1C(=O)N(C(=S)N1)CC=C\r\n",
      "ZINC00000021\t288.411\t3.85\t4.02\t-40.52\t1\t3\t30\t1\t6\tCCC(=O)O[C@]1(CC[NH+](C[C@@H]1CC=C)C)c2ccccc2\r\n",
      "ZINC00000022\t218.276\t3.21\t0.47\t-48.57\t1\t3\t52\t-1\t5\tC[C@@H](c1ccc(cc1)NCC(=C)C)C(=O)[O-]\r\n",
      "ZINC00000025\t251.353\t3.60\t2.4\t-41.56\t2\t2\t40\t1\t5\tC[C@H](Cc1ccccc1)[NH2+][C@@H](C#N)c2ccccc2\r\n",
      "ZINC00000030\t297.422\t2.94\t0.89\t-37.97\t3\t3\t47\t1\t6\tC[C@@H](CC(c1ccccc1)(c2ccccc2)C(=O)N)[NH+](C)C\r\n"
     ]
    }
   ],
   "source": [
    "!head 80698/csv/3_prop.xls"
   ]
  },
  {
   "cell_type": "markdown",
   "metadata": {},
   "source": [
    "- A valid query looks like this:\n",
    " \n",
    "- Correct: `\"(MWT >= 200) & (NRB <= 7)\"`\n",
    "- Wrong: `\"( MWT >= 200) & ( NRB <= 7)\"` [spacing between parentheses and column names]\n",
    "- Wrong: `\"MWT >= 200 & NRB <= 7\"` [expressions seperated by logical '&' operator not enclosed in parentheses]\n",
    "- Wrong: `\"(mwt >= 200) & (nrb <= 7)\"` [column names don't match the columns in the data table file]\n",
    "- Wrong: `\"(mwt>=200) & (nrb<=7)\"` [no whitespace before and after operators for comparison]\n"
   ]
  },
  {
   "cell_type": "code",
   "execution_count": 107,
   "metadata": {},
   "outputs": [
    {
     "name": "stdout",
     "output_type": "stream",
     "text": [
      "Using columns: ['ZINC_ID', 'NRB', 'MWT']\n",
      "Using selection: (chunk.NRB <= 7) & (chunk.MWT >= 200)\n",
      "Processed: 18000000\n",
      "Selected: 17599186\n"
     ]
    }
   ],
   "source": [
    "!python ../../../tools/datatable_to_id.py \\\n",
    "--input 80698/csv/3_prop.xls \\\n",
    "--output 80698/proj-1/selected-mol2ids.txt \\\n",
    "--id_column ZINC_ID \\\n",
    "--selection \"(NRB <= 7) & (MWT >= 200)\""
   ]
  },
  {
   "cell_type": "markdown",
   "metadata": {},
   "source": [
    "Next, we are going to use these IDs to select molecules from the existing mol2 files:"
   ]
  },
  {
   "cell_type": "code",
   "execution_count": 108,
   "metadata": {},
   "outputs": [
    {
     "name": "stdout",
     "output_type": "stream",
     "text": [
      "Processing 80698/mol2/1.mol2\n",
      "Processing 80698/mol2/2.mol2\n",
      "Finished\n"
     ]
    }
   ],
   "source": [
    "!python ../../../tools/id_to_mol2.py \\\n",
    "--input 80698/mol2 \\\n",
    "--output 80698/proj-1/selected-mol2ids \\\n",
    "--id_file ./80698/proj-1/selected-mol2ids.txt \\\n",
    "--whitelist True"
   ]
  },
  {
   "cell_type": "code",
   "execution_count": 109,
   "metadata": {},
   "outputs": [
    {
     "name": "stdout",
     "output_type": "stream",
     "text": [
      "1.mol2 : 133655\n",
      "2.mol2 : 133607\n",
      "Total : 267262\n"
     ]
    }
   ],
   "source": [
    "!python ../../../tools/count_mol2.py -i 80698/proj-1/selected-mol2ids/"
   ]
  },
  {
   "cell_type": "markdown",
   "metadata": {},
   "source": [
    "# Second Filtering Step -- Presence and absence of functional groups"
   ]
  },
  {
   "cell_type": "markdown",
   "metadata": {},
   "source": [
    "- allowed columns\n",
    "  - atom_id\n",
    "  - atom_name\n",
    "  - atom_type\n",
    "  - subst_id\n",
    "  - subst_name\n",
    "  - charge\n",
    "  \n",
    "(may change with updated biopandas)"
   ]
  },
  {
   "cell_type": "markdown",
   "metadata": {},
   "source": [
    "a) simultaneously true (here impossible): \"((atom_type == 'S.3') | (atom_type == 'S.o2')) & (atom_type == 'O.2')\"\n",
    "\n",
    "- tries to find an S.3 or S.o2 atom that is also an O.2 atom at the same time\n",
    "\n",
    "b) simultaneously true and valid: \"((atom_type == 'S.3') | (atom_type == 'S.o2')) & (charge < 0.0)\"\n",
    "\n",
    "- tries to find an S.3 or S.o2 atom that has a negative charge\n",
    "\n",
    "c) otherwise, \"((atom_type == 'S.3') | (atom_type == 'S.o2')) --> (atom_type == 'O.2')\"\n",
    "\n",
    "- tries to find an S.3 or S.o2 atom, then tries to find an O.2 atom as well\n",
    "\n",
    "d) when in doubt, one can run (as alternative for c) the tool 2 times. 1 time to select \"(atom_type == 'S.3') | (atom_type == 'S.o2')\" and a second time to select \"(atom_type == 'O.2')\"."
   ]
  },
  {
   "cell_type": "code",
   "execution_count": 134,
   "metadata": {
    "collapsed": true
   },
   "outputs": [],
   "source": [
    "import time\n",
    "\n",
    "start = time.time()"
   ]
  },
  {
   "cell_type": "code",
   "execution_count": 146,
   "metadata": {},
   "outputs": [
    {
     "name": "stdout",
     "output_type": "stream",
     "text": [
      "Processing 80698/proj-1/selected-mol2ids/1.mol2\r\n",
      "((pdmol.df.atom_type == 'S.3') | (pdmol.df.atom_type == 'S.o2')) & (pdmol.df.atom_type == 'O.2')\r\n"
     ]
    }
   ],
   "source": [
    "!python ../../../tools/funcgroup_to_id.py \\\n",
    "--input 80698/proj-1/selected-mol2ids/ \\\n",
    "--output 80698/proj-1/3keto-and-sulfur-mol2ids.txt \\\n",
    "--selection \"((atom_type == 'S.3') | (atom_type == 'S.o2')) & (atom_type == 'O.2')\""
   ]
  },
  {
   "cell_type": "code",
   "execution_count": 136,
   "metadata": {},
   "outputs": [
    {
     "data": {
      "text/plain": [
       "1783.5474519729614"
      ]
     },
     "execution_count": 136,
     "metadata": {},
     "output_type": "execute_result"
    }
   ],
   "source": [
    "time.time() - start"
   ]
  },
  {
   "cell_type": "code",
   "execution_count": 147,
   "metadata": {
    "collapsed": true
   },
   "outputs": [],
   "source": [
    "pdmol = PandasMol2()\n",
    "for mol2 in split_multimol2('80698/proj-1/selected-mol2ids/1.mol2'):\n",
    "    pdmol.read_mol2_from_list(mol2_lines=mol2[1],\n",
    "                              mol2_code=mol2[0])\n",
    "    break"
   ]
  },
  {
   "cell_type": "code",
   "execution_count": 155,
   "metadata": {},
   "outputs": [
    {
     "data": {
      "text/plain": [
       "0      True\n",
       "1      True\n",
       "2      True\n",
       "3     False\n",
       "4     False\n",
       "5     False\n",
       "6     False\n",
       "7     False\n",
       "8     False\n",
       "9     False\n",
       "10    False\n",
       "11    False\n",
       "12    False\n",
       "13    False\n",
       "14    False\n",
       "15    False\n",
       "16    False\n",
       "17    False\n",
       "18    False\n",
       "19    False\n",
       "20    False\n",
       "21    False\n",
       "22    False\n",
       "23    False\n",
       "24    False\n",
       "25    False\n",
       "26    False\n",
       "27    False\n",
       "28    False\n",
       "29    False\n",
       "30    False\n",
       "31    False\n",
       "32    False\n",
       "33    False\n",
       "34    False\n",
       "35    False\n",
       "36    False\n",
       "37    False\n",
       "38    False\n",
       "39    False\n",
       "40    False\n",
       "41    False\n",
       "42    False\n",
       "43    False\n",
       "44    False\n",
       "45    False\n",
       "46    False\n",
       "47    False\n",
       "48    False\n",
       "49    False\n",
       "Name: atom_name, dtype: bool"
      ]
     },
     "execution_count": 155,
     "metadata": {},
     "output_type": "execute_result"
    }
   ],
   "source": [
    "pd.eval(\"((pdmol.df.atom_name == 'C1') | (pdmol.df.atom_name == 'C2')) | (pdmol.df.atom_name == 'C3')\")"
   ]
  },
  {
   "cell_type": "code",
   "execution_count": null,
   "metadata": {
    "collapsed": true
   },
   "outputs": [],
   "source": [
    "\"((pdmol.df.atom_name == 'C1') | (pdmol.df.atom_type == 'S.o2')) & (pdmol.df.atom_type == 'O.2')\""
   ]
  },
  {
   "cell_type": "code",
   "execution_count": 148,
   "metadata": {},
   "outputs": [
    {
     "data": {
      "text/html": [
       "<div>\n",
       "<style>\n",
       "    .dataframe thead tr:only-child th {\n",
       "        text-align: right;\n",
       "    }\n",
       "\n",
       "    .dataframe thead th {\n",
       "        text-align: left;\n",
       "    }\n",
       "\n",
       "    .dataframe tbody tr th {\n",
       "        vertical-align: top;\n",
       "    }\n",
       "</style>\n",
       "<table border=\"1\" class=\"dataframe\">\n",
       "  <thead>\n",
       "    <tr style=\"text-align: right;\">\n",
       "      <th></th>\n",
       "      <th>atom_id</th>\n",
       "      <th>atom_name</th>\n",
       "      <th>x</th>\n",
       "      <th>y</th>\n",
       "      <th>z</th>\n",
       "      <th>atom_type</th>\n",
       "      <th>subst_id</th>\n",
       "      <th>subst_name</th>\n",
       "      <th>charge</th>\n",
       "    </tr>\n",
       "  </thead>\n",
       "  <tbody>\n",
       "    <tr>\n",
       "      <th>0</th>\n",
       "      <td>1</td>\n",
       "      <td>C1</td>\n",
       "      <td>-0.0444</td>\n",
       "      <td>1.4896</td>\n",
       "      <td>-0.0641</td>\n",
       "      <td>C.3</td>\n",
       "      <td>1</td>\n",
       "      <td>&lt;0&gt;</td>\n",
       "      <td>-0.1205</td>\n",
       "    </tr>\n",
       "    <tr>\n",
       "      <th>1</th>\n",
       "      <td>2</td>\n",
       "      <td>C2</td>\n",
       "      <td>-0.0072</td>\n",
       "      <td>-0.0167</td>\n",
       "      <td>-0.0886</td>\n",
       "      <td>C.ar</td>\n",
       "      <td>1</td>\n",
       "      <td>&lt;0&gt;</td>\n",
       "      <td>-0.0825</td>\n",
       "    </tr>\n",
       "    <tr>\n",
       "      <th>2</th>\n",
       "      <td>3</td>\n",
       "      <td>C3</td>\n",
       "      <td>0.0336</td>\n",
       "      <td>-0.6853</td>\n",
       "      <td>-1.2981</td>\n",
       "      <td>C.ar</td>\n",
       "      <td>1</td>\n",
       "      <td>&lt;0&gt;</td>\n",
       "      <td>-0.1091</td>\n",
       "    </tr>\n",
       "    <tr>\n",
       "      <th>3</th>\n",
       "      <td>4</td>\n",
       "      <td>C4</td>\n",
       "      <td>0.0678</td>\n",
       "      <td>-2.0643</td>\n",
       "      <td>-1.3286</td>\n",
       "      <td>C.ar</td>\n",
       "      <td>1</td>\n",
       "      <td>&lt;0&gt;</td>\n",
       "      <td>-0.0938</td>\n",
       "    </tr>\n",
       "    <tr>\n",
       "      <th>4</th>\n",
       "      <td>5</td>\n",
       "      <td>C5</td>\n",
       "      <td>0.0617</td>\n",
       "      <td>-2.7892</td>\n",
       "      <td>-0.1354</td>\n",
       "      <td>C.ar</td>\n",
       "      <td>1</td>\n",
       "      <td>&lt;0&gt;</td>\n",
       "      <td>-0.1256</td>\n",
       "    </tr>\n",
       "    <tr>\n",
       "      <th>5</th>\n",
       "      <td>6</td>\n",
       "      <td>C6</td>\n",
       "      <td>0.0210</td>\n",
       "      <td>-2.1148</td>\n",
       "      <td>1.0846</td>\n",
       "      <td>C.ar</td>\n",
       "      <td>1</td>\n",
       "      <td>&lt;0&gt;</td>\n",
       "      <td>-0.0557</td>\n",
       "    </tr>\n",
       "    <tr>\n",
       "      <th>6</th>\n",
       "      <td>7</td>\n",
       "      <td>C7</td>\n",
       "      <td>-0.0083</td>\n",
       "      <td>-0.7288</td>\n",
       "      <td>1.1045</td>\n",
       "      <td>C.ar</td>\n",
       "      <td>1</td>\n",
       "      <td>&lt;0&gt;</td>\n",
       "      <td>0.1325</td>\n",
       "    </tr>\n",
       "    <tr>\n",
       "      <th>7</th>\n",
       "      <td>8</td>\n",
       "      <td>N1</td>\n",
       "      <td>-0.0438</td>\n",
       "      <td>-0.0471</td>\n",
       "      <td>2.3263</td>\n",
       "      <td>N.am</td>\n",
       "      <td>1</td>\n",
       "      <td>&lt;0&gt;</td>\n",
       "      <td>-0.6738</td>\n",
       "    </tr>\n",
       "    <tr>\n",
       "      <th>8</th>\n",
       "      <td>9</td>\n",
       "      <td>C8</td>\n",
       "      <td>-0.7192</td>\n",
       "      <td>-0.5687</td>\n",
       "      <td>3.3695</td>\n",
       "      <td>C.2</td>\n",
       "      <td>1</td>\n",
       "      <td>&lt;0&gt;</td>\n",
       "      <td>0.5077</td>\n",
       "    </tr>\n",
       "    <tr>\n",
       "      <th>9</th>\n",
       "      <td>10</td>\n",
       "      <td>O1</td>\n",
       "      <td>-1.2225</td>\n",
       "      <td>-1.6684</td>\n",
       "      <td>3.2774</td>\n",
       "      <td>O.2</td>\n",
       "      <td>1</td>\n",
       "      <td>&lt;0&gt;</td>\n",
       "      <td>-0.5182</td>\n",
       "    </tr>\n",
       "    <tr>\n",
       "      <th>10</th>\n",
       "      <td>11</td>\n",
       "      <td>C9</td>\n",
       "      <td>-0.8489</td>\n",
       "      <td>0.2145</td>\n",
       "      <td>4.6505</td>\n",
       "      <td>C.3</td>\n",
       "      <td>1</td>\n",
       "      <td>&lt;0&gt;</td>\n",
       "      <td>-0.1713</td>\n",
       "    </tr>\n",
       "    <tr>\n",
       "      <th>11</th>\n",
       "      <td>12</td>\n",
       "      <td>C10</td>\n",
       "      <td>0.0979</td>\n",
       "      <td>-4.2671</td>\n",
       "      <td>-0.1651</td>\n",
       "      <td>C.2</td>\n",
       "      <td>1</td>\n",
       "      <td>&lt;0&gt;</td>\n",
       "      <td>0.5660</td>\n",
       "    </tr>\n",
       "    <tr>\n",
       "      <th>12</th>\n",
       "      <td>13</td>\n",
       "      <td>O2</td>\n",
       "      <td>0.0925</td>\n",
       "      <td>-4.8962</td>\n",
       "      <td>0.8749</td>\n",
       "      <td>O.2</td>\n",
       "      <td>1</td>\n",
       "      <td>&lt;0&gt;</td>\n",
       "      <td>-0.5284</td>\n",
       "    </tr>\n",
       "    <tr>\n",
       "      <th>13</th>\n",
       "      <td>14</td>\n",
       "      <td>N2</td>\n",
       "      <td>0.1367</td>\n",
       "      <td>-4.9166</td>\n",
       "      <td>-1.3454</td>\n",
       "      <td>N.am</td>\n",
       "      <td>1</td>\n",
       "      <td>&lt;0&gt;</td>\n",
       "      <td>-0.7178</td>\n",
       "    </tr>\n",
       "    <tr>\n",
       "      <th>14</th>\n",
       "      <td>15</td>\n",
       "      <td>C11</td>\n",
       "      <td>0.1725</td>\n",
       "      <td>-6.3809</td>\n",
       "      <td>-1.3748</td>\n",
       "      <td>C.3</td>\n",
       "      <td>1</td>\n",
       "      <td>&lt;0&gt;</td>\n",
       "      <td>0.1037</td>\n",
       "    </tr>\n",
       "    <tr>\n",
       "      <th>15</th>\n",
       "      <td>16</td>\n",
       "      <td>C12</td>\n",
       "      <td>0.2121</td>\n",
       "      <td>-6.8537</td>\n",
       "      <td>-2.8052</td>\n",
       "      <td>C.2</td>\n",
       "      <td>1</td>\n",
       "      <td>&lt;0&gt;</td>\n",
       "      <td>0.5122</td>\n",
       "    </tr>\n",
       "    <tr>\n",
       "      <th>16</th>\n",
       "      <td>17</td>\n",
       "      <td>O3</td>\n",
       "      <td>0.3024</td>\n",
       "      <td>-6.0486</td>\n",
       "      <td>-3.7078</td>\n",
       "      <td>O.2</td>\n",
       "      <td>1</td>\n",
       "      <td>&lt;0&gt;</td>\n",
       "      <td>-0.5123</td>\n",
       "    </tr>\n",
       "    <tr>\n",
       "      <th>17</th>\n",
       "      <td>18</td>\n",
       "      <td>N3</td>\n",
       "      <td>0.1470</td>\n",
       "      <td>-8.1713</td>\n",
       "      <td>-3.0814</td>\n",
       "      <td>N.am</td>\n",
       "      <td>1</td>\n",
       "      <td>&lt;0&gt;</td>\n",
       "      <td>-0.5479</td>\n",
       "    </tr>\n",
       "    <tr>\n",
       "      <th>18</th>\n",
       "      <td>19</td>\n",
       "      <td>C13</td>\n",
       "      <td>0.1662</td>\n",
       "      <td>-9.1635</td>\n",
       "      <td>-1.9979</td>\n",
       "      <td>C.3</td>\n",
       "      <td>1</td>\n",
       "      <td>&lt;0&gt;</td>\n",
       "      <td>0.0944</td>\n",
       "    </tr>\n",
       "    <tr>\n",
       "      <th>19</th>\n",
       "      <td>20</td>\n",
       "      <td>C14</td>\n",
       "      <td>1.1301</td>\n",
       "      <td>-10.2851</td>\n",
       "      <td>-2.4068</td>\n",
       "      <td>C.3</td>\n",
       "      <td>1</td>\n",
       "      <td>&lt;0&gt;</td>\n",
       "      <td>-0.1356</td>\n",
       "    </tr>\n",
       "    <tr>\n",
       "      <th>20</th>\n",
       "      <td>21</td>\n",
       "      <td>C15</td>\n",
       "      <td>0.5869</td>\n",
       "      <td>-10.9707</td>\n",
       "      <td>-3.6603</td>\n",
       "      <td>C.3</td>\n",
       "      <td>1</td>\n",
       "      <td>&lt;0&gt;</td>\n",
       "      <td>-0.0800</td>\n",
       "    </tr>\n",
       "    <tr>\n",
       "      <th>21</th>\n",
       "      <td>22</td>\n",
       "      <td>C16</td>\n",
       "      <td>0.2673</td>\n",
       "      <td>-9.9518</td>\n",
       "      <td>-4.7222</td>\n",
       "      <td>C.ar</td>\n",
       "      <td>1</td>\n",
       "      <td>&lt;0&gt;</td>\n",
       "      <td>-0.1129</td>\n",
       "    </tr>\n",
       "    <tr>\n",
       "      <th>22</th>\n",
       "      <td>23</td>\n",
       "      <td>C17</td>\n",
       "      <td>0.0541</td>\n",
       "      <td>-8.6178</td>\n",
       "      <td>-4.4069</td>\n",
       "      <td>C.ar</td>\n",
       "      <td>1</td>\n",
       "      <td>&lt;0&gt;</td>\n",
       "      <td>0.1500</td>\n",
       "    </tr>\n",
       "    <tr>\n",
       "      <th>23</th>\n",
       "      <td>24</td>\n",
       "      <td>C18</td>\n",
       "      <td>-0.2493</td>\n",
       "      <td>-7.7041</td>\n",
       "      <td>-5.4094</td>\n",
       "      <td>C.ar</td>\n",
       "      <td>1</td>\n",
       "      <td>&lt;0&gt;</td>\n",
       "      <td>-0.1486</td>\n",
       "    </tr>\n",
       "    <tr>\n",
       "      <th>24</th>\n",
       "      <td>25</td>\n",
       "      <td>C19</td>\n",
       "      <td>-0.3427</td>\n",
       "      <td>-8.1234</td>\n",
       "      <td>-6.7216</td>\n",
       "      <td>C.ar</td>\n",
       "      <td>1</td>\n",
       "      <td>&lt;0&gt;</td>\n",
       "      <td>-0.1031</td>\n",
       "    </tr>\n",
       "    <tr>\n",
       "      <th>25</th>\n",
       "      <td>26</td>\n",
       "      <td>C20</td>\n",
       "      <td>-0.1333</td>\n",
       "      <td>-9.4532</td>\n",
       "      <td>-7.0369</td>\n",
       "      <td>C.ar</td>\n",
       "      <td>1</td>\n",
       "      <td>&lt;0&gt;</td>\n",
       "      <td>-0.1362</td>\n",
       "    </tr>\n",
       "    <tr>\n",
       "      <th>26</th>\n",
       "      <td>27</td>\n",
       "      <td>C21</td>\n",
       "      <td>0.1794</td>\n",
       "      <td>-10.3641</td>\n",
       "      <td>-6.0412</td>\n",
       "      <td>C.ar</td>\n",
       "      <td>1</td>\n",
       "      <td>&lt;0&gt;</td>\n",
       "      <td>-0.1009</td>\n",
       "    </tr>\n",
       "    <tr>\n",
       "      <th>27</th>\n",
       "      <td>28</td>\n",
       "      <td>H1</td>\n",
       "      <td>0.9739</td>\n",
       "      <td>1.8779</td>\n",
       "      <td>-0.0423</td>\n",
       "      <td>H</td>\n",
       "      <td>1</td>\n",
       "      <td>&lt;0&gt;</td>\n",
       "      <td>0.0770</td>\n",
       "    </tr>\n",
       "    <tr>\n",
       "      <th>28</th>\n",
       "      <td>29</td>\n",
       "      <td>H2</td>\n",
       "      <td>-0.5536</td>\n",
       "      <td>1.8551</td>\n",
       "      <td>-0.9559</td>\n",
       "      <td>H</td>\n",
       "      <td>1</td>\n",
       "      <td>&lt;0&gt;</td>\n",
       "      <td>0.0762</td>\n",
       "    </tr>\n",
       "    <tr>\n",
       "      <th>29</th>\n",
       "      <td>30</td>\n",
       "      <td>H3</td>\n",
       "      <td>-0.5804</td>\n",
       "      <td>1.8254</td>\n",
       "      <td>0.8236</td>\n",
       "      <td>H</td>\n",
       "      <td>1</td>\n",
       "      <td>&lt;0&gt;</td>\n",
       "      <td>0.0673</td>\n",
       "    </tr>\n",
       "    <tr>\n",
       "      <th>30</th>\n",
       "      <td>31</td>\n",
       "      <td>H4</td>\n",
       "      <td>0.0384</td>\n",
       "      <td>-0.1262</td>\n",
       "      <td>-2.2221</td>\n",
       "      <td>H</td>\n",
       "      <td>1</td>\n",
       "      <td>&lt;0&gt;</td>\n",
       "      <td>0.1355</td>\n",
       "    </tr>\n",
       "    <tr>\n",
       "      <th>31</th>\n",
       "      <td>32</td>\n",
       "      <td>H5</td>\n",
       "      <td>0.0990</td>\n",
       "      <td>-2.5829</td>\n",
       "      <td>-2.2754</td>\n",
       "      <td>H</td>\n",
       "      <td>1</td>\n",
       "      <td>&lt;0&gt;</td>\n",
       "      <td>0.1297</td>\n",
       "    </tr>\n",
       "    <tr>\n",
       "      <th>32</th>\n",
       "      <td>33</td>\n",
       "      <td>H6</td>\n",
       "      <td>0.0162</td>\n",
       "      <td>-2.6702</td>\n",
       "      <td>2.0108</td>\n",
       "      <td>H</td>\n",
       "      <td>1</td>\n",
       "      <td>&lt;0&gt;</td>\n",
       "      <td>0.1548</td>\n",
       "    </tr>\n",
       "    <tr>\n",
       "      <th>33</th>\n",
       "      <td>34</td>\n",
       "      <td>H7</td>\n",
       "      <td>0.4175</td>\n",
       "      <td>0.8007</td>\n",
       "      <td>2.4222</td>\n",
       "      <td>H</td>\n",
       "      <td>1</td>\n",
       "      <td>&lt;0&gt;</td>\n",
       "      <td>0.4130</td>\n",
       "    </tr>\n",
       "    <tr>\n",
       "      <th>34</th>\n",
       "      <td>35</td>\n",
       "      <td>H8</td>\n",
       "      <td>-1.7479</td>\n",
       "      <td>0.8296</td>\n",
       "      <td>4.6108</td>\n",
       "      <td>H</td>\n",
       "      <td>1</td>\n",
       "      <td>&lt;0&gt;</td>\n",
       "      <td>0.0991</td>\n",
       "    </tr>\n",
       "    <tr>\n",
       "      <th>35</th>\n",
       "      <td>36</td>\n",
       "      <td>H9</td>\n",
       "      <td>-0.9171</td>\n",
       "      <td>-0.4746</td>\n",
       "      <td>5.4923</td>\n",
       "      <td>H</td>\n",
       "      <td>1</td>\n",
       "      <td>&lt;0&gt;</td>\n",
       "      <td>0.0993</td>\n",
       "    </tr>\n",
       "    <tr>\n",
       "      <th>36</th>\n",
       "      <td>37</td>\n",
       "      <td>H10</td>\n",
       "      <td>0.0243</td>\n",
       "      <td>0.8548</td>\n",
       "      <td>4.7749</td>\n",
       "      <td>H</td>\n",
       "      <td>1</td>\n",
       "      <td>&lt;0&gt;</td>\n",
       "      <td>0.0834</td>\n",
       "    </tr>\n",
       "    <tr>\n",
       "      <th>37</th>\n",
       "      <td>38</td>\n",
       "      <td>H11</td>\n",
       "      <td>0.1410</td>\n",
       "      <td>-4.4146</td>\n",
       "      <td>-2.1753</td>\n",
       "      <td>H</td>\n",
       "      <td>1</td>\n",
       "      <td>&lt;0&gt;</td>\n",
       "      <td>0.4120</td>\n",
       "    </tr>\n",
       "    <tr>\n",
       "      <th>38</th>\n",
       "      <td>39</td>\n",
       "      <td>H12</td>\n",
       "      <td>1.0611</td>\n",
       "      <td>-6.7332</td>\n",
       "      <td>-0.8510</td>\n",
       "      <td>H</td>\n",
       "      <td>1</td>\n",
       "      <td>&lt;0&gt;</td>\n",
       "      <td>0.1062</td>\n",
       "    </tr>\n",
       "    <tr>\n",
       "      <th>39</th>\n",
       "      <td>40</td>\n",
       "      <td>H13</td>\n",
       "      <td>-0.7180</td>\n",
       "      <td>-6.7760</td>\n",
       "      <td>-0.8860</td>\n",
       "      <td>H</td>\n",
       "      <td>1</td>\n",
       "      <td>&lt;0&gt;</td>\n",
       "      <td>0.1054</td>\n",
       "    </tr>\n",
       "    <tr>\n",
       "      <th>40</th>\n",
       "      <td>41</td>\n",
       "      <td>H14</td>\n",
       "      <td>0.5128</td>\n",
       "      <td>-8.6967</td>\n",
       "      <td>-1.0759</td>\n",
       "      <td>H</td>\n",
       "      <td>1</td>\n",
       "      <td>&lt;0&gt;</td>\n",
       "      <td>0.0974</td>\n",
       "    </tr>\n",
       "    <tr>\n",
       "      <th>41</th>\n",
       "      <td>42</td>\n",
       "      <td>H15</td>\n",
       "      <td>-0.8342</td>\n",
       "      <td>-9.5711</td>\n",
       "      <td>-1.8528</td>\n",
       "      <td>H</td>\n",
       "      <td>1</td>\n",
       "      <td>&lt;0&gt;</td>\n",
       "      <td>0.0847</td>\n",
       "    </tr>\n",
       "    <tr>\n",
       "      <th>42</th>\n",
       "      <td>43</td>\n",
       "      <td>H16</td>\n",
       "      <td>2.1127</td>\n",
       "      <td>-9.8632</td>\n",
       "      <td>-2.6180</td>\n",
       "      <td>H</td>\n",
       "      <td>1</td>\n",
       "      <td>&lt;0&gt;</td>\n",
       "      <td>0.0745</td>\n",
       "    </tr>\n",
       "    <tr>\n",
       "      <th>43</th>\n",
       "      <td>44</td>\n",
       "      <td>H17</td>\n",
       "      <td>1.2088</td>\n",
       "      <td>-11.0118</td>\n",
       "      <td>-1.5982</td>\n",
       "      <td>H</td>\n",
       "      <td>1</td>\n",
       "      <td>&lt;0&gt;</td>\n",
       "      <td>0.0906</td>\n",
       "    </tr>\n",
       "    <tr>\n",
       "      <th>44</th>\n",
       "      <td>45</td>\n",
       "      <td>H18</td>\n",
       "      <td>1.3341</td>\n",
       "      <td>-11.6662</td>\n",
       "      <td>-4.0423</td>\n",
       "      <td>H</td>\n",
       "      <td>1</td>\n",
       "      <td>&lt;0&gt;</td>\n",
       "      <td>0.0826</td>\n",
       "    </tr>\n",
       "    <tr>\n",
       "      <th>45</th>\n",
       "      <td>46</td>\n",
       "      <td>H19</td>\n",
       "      <td>-0.3189</td>\n",
       "      <td>-11.5209</td>\n",
       "      <td>-3.4055</td>\n",
       "      <td>H</td>\n",
       "      <td>1</td>\n",
       "      <td>&lt;0&gt;</td>\n",
       "      <td>0.0800</td>\n",
       "    </tr>\n",
       "    <tr>\n",
       "      <th>46</th>\n",
       "      <td>47</td>\n",
       "      <td>H20</td>\n",
       "      <td>-0.4124</td>\n",
       "      <td>-6.6656</td>\n",
       "      <td>-5.1617</td>\n",
       "      <td>H</td>\n",
       "      <td>1</td>\n",
       "      <td>&lt;0&gt;</td>\n",
       "      <td>0.1650</td>\n",
       "    </tr>\n",
       "    <tr>\n",
       "      <th>47</th>\n",
       "      <td>48</td>\n",
       "      <td>H21</td>\n",
       "      <td>-0.5793</td>\n",
       "      <td>-7.4137</td>\n",
       "      <td>-7.5006</td>\n",
       "      <td>H</td>\n",
       "      <td>1</td>\n",
       "      <td>&lt;0&gt;</td>\n",
       "      <td>0.1255</td>\n",
       "    </tr>\n",
       "    <tr>\n",
       "      <th>48</th>\n",
       "      <td>49</td>\n",
       "      <td>H22</td>\n",
       "      <td>-0.2055</td>\n",
       "      <td>-9.7814</td>\n",
       "      <td>-8.0633</td>\n",
       "      <td>H</td>\n",
       "      <td>1</td>\n",
       "      <td>&lt;0&gt;</td>\n",
       "      <td>0.1228</td>\n",
       "    </tr>\n",
       "    <tr>\n",
       "      <th>49</th>\n",
       "      <td>50</td>\n",
       "      <td>H23</td>\n",
       "      <td>0.3420</td>\n",
       "      <td>-11.4019</td>\n",
       "      <td>-6.2919</td>\n",
       "      <td>H</td>\n",
       "      <td>1</td>\n",
       "      <td>&lt;0&gt;</td>\n",
       "      <td>0.1258</td>\n",
       "    </tr>\n",
       "  </tbody>\n",
       "</table>\n",
       "</div>"
      ],
      "text/plain": [
       "    atom_id atom_name       x        y       z atom_type  subst_id subst_name  \\\n",
       "0         1        C1 -0.0444   1.4896 -0.0641       C.3         1        <0>   \n",
       "1         2        C2 -0.0072  -0.0167 -0.0886      C.ar         1        <0>   \n",
       "2         3        C3  0.0336  -0.6853 -1.2981      C.ar         1        <0>   \n",
       "3         4        C4  0.0678  -2.0643 -1.3286      C.ar         1        <0>   \n",
       "4         5        C5  0.0617  -2.7892 -0.1354      C.ar         1        <0>   \n",
       "5         6        C6  0.0210  -2.1148  1.0846      C.ar         1        <0>   \n",
       "6         7        C7 -0.0083  -0.7288  1.1045      C.ar         1        <0>   \n",
       "7         8        N1 -0.0438  -0.0471  2.3263      N.am         1        <0>   \n",
       "8         9        C8 -0.7192  -0.5687  3.3695       C.2         1        <0>   \n",
       "9        10        O1 -1.2225  -1.6684  3.2774       O.2         1        <0>   \n",
       "10       11        C9 -0.8489   0.2145  4.6505       C.3         1        <0>   \n",
       "11       12       C10  0.0979  -4.2671 -0.1651       C.2         1        <0>   \n",
       "12       13        O2  0.0925  -4.8962  0.8749       O.2         1        <0>   \n",
       "13       14        N2  0.1367  -4.9166 -1.3454      N.am         1        <0>   \n",
       "14       15       C11  0.1725  -6.3809 -1.3748       C.3         1        <0>   \n",
       "15       16       C12  0.2121  -6.8537 -2.8052       C.2         1        <0>   \n",
       "16       17        O3  0.3024  -6.0486 -3.7078       O.2         1        <0>   \n",
       "17       18        N3  0.1470  -8.1713 -3.0814      N.am         1        <0>   \n",
       "18       19       C13  0.1662  -9.1635 -1.9979       C.3         1        <0>   \n",
       "19       20       C14  1.1301 -10.2851 -2.4068       C.3         1        <0>   \n",
       "20       21       C15  0.5869 -10.9707 -3.6603       C.3         1        <0>   \n",
       "21       22       C16  0.2673  -9.9518 -4.7222      C.ar         1        <0>   \n",
       "22       23       C17  0.0541  -8.6178 -4.4069      C.ar         1        <0>   \n",
       "23       24       C18 -0.2493  -7.7041 -5.4094      C.ar         1        <0>   \n",
       "24       25       C19 -0.3427  -8.1234 -6.7216      C.ar         1        <0>   \n",
       "25       26       C20 -0.1333  -9.4532 -7.0369      C.ar         1        <0>   \n",
       "26       27       C21  0.1794 -10.3641 -6.0412      C.ar         1        <0>   \n",
       "27       28        H1  0.9739   1.8779 -0.0423         H         1        <0>   \n",
       "28       29        H2 -0.5536   1.8551 -0.9559         H         1        <0>   \n",
       "29       30        H3 -0.5804   1.8254  0.8236         H         1        <0>   \n",
       "30       31        H4  0.0384  -0.1262 -2.2221         H         1        <0>   \n",
       "31       32        H5  0.0990  -2.5829 -2.2754         H         1        <0>   \n",
       "32       33        H6  0.0162  -2.6702  2.0108         H         1        <0>   \n",
       "33       34        H7  0.4175   0.8007  2.4222         H         1        <0>   \n",
       "34       35        H8 -1.7479   0.8296  4.6108         H         1        <0>   \n",
       "35       36        H9 -0.9171  -0.4746  5.4923         H         1        <0>   \n",
       "36       37       H10  0.0243   0.8548  4.7749         H         1        <0>   \n",
       "37       38       H11  0.1410  -4.4146 -2.1753         H         1        <0>   \n",
       "38       39       H12  1.0611  -6.7332 -0.8510         H         1        <0>   \n",
       "39       40       H13 -0.7180  -6.7760 -0.8860         H         1        <0>   \n",
       "40       41       H14  0.5128  -8.6967 -1.0759         H         1        <0>   \n",
       "41       42       H15 -0.8342  -9.5711 -1.8528         H         1        <0>   \n",
       "42       43       H16  2.1127  -9.8632 -2.6180         H         1        <0>   \n",
       "43       44       H17  1.2088 -11.0118 -1.5982         H         1        <0>   \n",
       "44       45       H18  1.3341 -11.6662 -4.0423         H         1        <0>   \n",
       "45       46       H19 -0.3189 -11.5209 -3.4055         H         1        <0>   \n",
       "46       47       H20 -0.4124  -6.6656 -5.1617         H         1        <0>   \n",
       "47       48       H21 -0.5793  -7.4137 -7.5006         H         1        <0>   \n",
       "48       49       H22 -0.2055  -9.7814 -8.0633         H         1        <0>   \n",
       "49       50       H23  0.3420 -11.4019 -6.2919         H         1        <0>   \n",
       "\n",
       "    charge  \n",
       "0  -0.1205  \n",
       "1  -0.0825  \n",
       "2  -0.1091  \n",
       "3  -0.0938  \n",
       "4  -0.1256  \n",
       "5  -0.0557  \n",
       "6   0.1325  \n",
       "7  -0.6738  \n",
       "8   0.5077  \n",
       "9  -0.5182  \n",
       "10 -0.1713  \n",
       "11  0.5660  \n",
       "12 -0.5284  \n",
       "13 -0.7178  \n",
       "14  0.1037  \n",
       "15  0.5122  \n",
       "16 -0.5123  \n",
       "17 -0.5479  \n",
       "18  0.0944  \n",
       "19 -0.1356  \n",
       "20 -0.0800  \n",
       "21 -0.1129  \n",
       "22  0.1500  \n",
       "23 -0.1486  \n",
       "24 -0.1031  \n",
       "25 -0.1362  \n",
       "26 -0.1009  \n",
       "27  0.0770  \n",
       "28  0.0762  \n",
       "29  0.0673  \n",
       "30  0.1355  \n",
       "31  0.1297  \n",
       "32  0.1548  \n",
       "33  0.4130  \n",
       "34  0.0991  \n",
       "35  0.0993  \n",
       "36  0.0834  \n",
       "37  0.4120  \n",
       "38  0.1062  \n",
       "39  0.1054  \n",
       "40  0.0974  \n",
       "41  0.0847  \n",
       "42  0.0745  \n",
       "43  0.0906  \n",
       "44  0.0826  \n",
       "45  0.0800  \n",
       "46  0.1650  \n",
       "47  0.1255  \n",
       "48  0.1228  \n",
       "49  0.1258  "
      ]
     },
     "execution_count": 148,
     "metadata": {},
     "output_type": "execute_result"
    }
   ],
   "source": [
    "pdmol.df"
   ]
  },
  {
   "cell_type": "code",
   "execution_count": 141,
   "metadata": {
    "collapsed": true
   },
   "outputs": [],
   "source": [
    "import time\n",
    "\n",
    "start = time.time()"
   ]
  },
  {
   "cell_type": "code",
   "execution_count": 142,
   "metadata": {},
   "outputs": [
    {
     "name": "stdout",
     "output_type": "stream",
     "text": [
      "Processing 80698/proj-1/selected-mol2ids/1.mol2\n",
      "Processing 80698/proj-1/selected-mol2ids/2.mol2\n"
     ]
    }
   ],
   "source": [
    "!python  /Users/sebastian/Desktop/screenlamp_no_db/02_get_keto_sulfate_mp.py \\\n",
    "--input_dir 80698/proj-1/selected-mol2ids/ \\\n",
    "--output_dir /Users/sebastian/Desktop/temp \\\n",
    "--processes 1"
   ]
  },
  {
   "cell_type": "code",
   "execution_count": 143,
   "metadata": {},
   "outputs": [
    {
     "data": {
      "text/plain": [
       "1394.1292309761047"
      ]
     },
     "execution_count": 143,
     "metadata": {},
     "output_type": "execute_result"
    }
   ],
   "source": [
    "time.time() - start"
   ]
  },
  {
   "cell_type": "markdown",
   "metadata": {},
   "source": [
    "- compare speed with previous (old) script!!\n",
    "- add multiprocessing to the above!!!"
   ]
  }
 ],
 "metadata": {
  "kernelspec": {
   "display_name": "Python 3",
   "language": "python",
   "name": "python3"
  },
  "language_info": {
   "codemirror_mode": {
    "name": "ipython",
    "version": 3
   },
   "file_extension": ".py",
   "mimetype": "text/x-python",
   "name": "python",
   "nbconvert_exporter": "python",
   "pygments_lexer": "ipython3",
   "version": "3.6.0"
  }
 },
 "nbformat": 4,
 "nbformat_minor": 2
}
